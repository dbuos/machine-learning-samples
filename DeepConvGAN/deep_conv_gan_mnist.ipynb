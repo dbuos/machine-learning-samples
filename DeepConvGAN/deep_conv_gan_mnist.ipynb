{
 "cells": [
  {
   "cell_type": "code",
   "execution_count": 1,
   "metadata": {},
   "outputs": [
    {
     "name": "stderr",
     "output_type": "stream",
     "text": [
      "/home/daniel/mambaforge/envs/torch/lib/python3.10/site-packages/tqdm/auto.py:22: TqdmWarning: IProgress not found. Please update jupyter and ipywidgets. See https://ipywidgets.readthedocs.io/en/stable/user_install.html\n",
      "  from .autonotebook import tqdm as notebook_tqdm\n"
     ]
    }
   ],
   "source": [
    "from ast import mod\n",
    "import torch\n",
    "from torch.nn import Module, Linear, Conv2d, MaxPool2d, LeakyReLU, Sequential, BatchNorm2d, Sigmoid, ConvTranspose2d\n",
    "from torch import nn\n",
    "\n",
    "\n",
    "def create_conv_module(in_channels, out_channels, kernel_size=3, stride=2):\n",
    "    module = Sequential(\n",
    "        Conv2d(in_channels, out_channels, kernel_size, stride=stride, padding=1, bias=False),\n",
    "        BatchNorm2d(num_features=out_channels),\n",
    "        LeakyReLU()\n",
    "    )\n",
    "    return module \n",
    "\n",
    "def create_trans_conv_module(in_channels, out_channels, kernel_size=3, stride=1, padding=0):\n",
    "    module = Sequential(\n",
    "        ConvTranspose2d(in_channels, out_channels, kernel_size, stride=stride, padding=padding, bias=False),\n",
    "        BatchNorm2d(num_features=out_channels),\n",
    "        LeakyReLU()\n",
    "    )\n",
    "    return module        \n",
    "\n",
    "class Discriminator(torch.nn.Module):\n",
    "    \n",
    "    def __init__(self):\n",
    "        super().__init__()\n",
    "        self.sequential = Sequential(\n",
    "            create_conv_module(in_channels=1, out_channels=4, kernel_size=4),\n",
    "            create_conv_module(in_channels=4, out_channels=8, kernel_size=3), \n",
    "            create_conv_module(in_channels=8, out_channels=16, kernel_size=3), \n",
    "            Conv2d(in_channels=16, out_channels=1, kernel_size=4, stride=1), \n",
    "            Sigmoid()\n",
    "        )\n",
    "\n",
    "    def forward(self, x):\n",
    "        return self.sequential(x).view(-1)\n",
    "\n",
    "class Generator(Module):\n",
    "\n",
    "    def __init__(self, in_channels=64) -> None:\n",
    "        super().__init__()\n",
    "        self.sequential = Sequential(\n",
    "            create_trans_conv_module(in_channels=100, out_channels=128, kernel_size=4),\n",
    "            create_trans_conv_module(in_channels=128, out_channels=64, kernel_size=3, stride=2, padding=1),\n",
    "            create_trans_conv_module(in_channels=64, out_channels=32, kernel_size=4, stride=2, padding=1),\n",
    "            ConvTranspose2d(in_channels=32, out_channels=1, kernel_size=4, bias=False, stride=2, padding=1),\n",
    "            nn.Tanh()\n",
    "        )\n",
    "\n",
    "    def forward(self, x):\n",
    "        return self.sequential(x)        \n"
   ]
  },
  {
   "cell_type": "code",
   "execution_count": 2,
   "metadata": {},
   "outputs": [],
   "source": [
    "from torchvision.datasets import MNIST\n",
    "from torch.utils.data import DataLoader\n",
    "from torchvision.transforms import PILToTensor, ConvertImageDtype, Compose\n",
    "\n",
    "img_transforms = Compose([\n",
    "    PILToTensor(),\n",
    "    ConvertImageDtype(torch.float)\n",
    "])\n",
    "\n",
    "root_dir = './data/mnist/'\n",
    "train_dataset = MNIST(root=root_dir+'train', train=True, download=True, transform=img_transforms)\n",
    "test_dataset = MNIST(root=root_dir+'test', train=False, download=True, transform=img_transforms)\n",
    "\n",
    "\n",
    "batch_size = 32\n",
    "train_loader = DataLoader(train_dataset, batch_size=batch_size, shuffle=True, num_workers=20)\n",
    "test_loader = DataLoader(test_dataset, batch_size=batch_size, shuffle=True, num_workers=20)\n"
   ]
  },
  {
   "cell_type": "code",
   "execution_count": 3,
   "metadata": {},
   "outputs": [
    {
     "data": {
      "image/png": "[encoded data removed]",
      "text/plain": [
       "<Figure size 500x500 with 9 Axes>"
      ]
     },
     "metadata": {},
     "output_type": "display_data"
    }
   ],
   "source": [
    "#show some images\n",
    "import matplotlib.pyplot as plt\n",
    "import numpy as np\n",
    "batch_imgs, batch_labels = next(iter(train_loader))\n",
    "plt.figure(figsize=(5,5))\n",
    "for i in range(9):\n",
    "    plt.subplot(3,3,i+1)\n",
    "    plt.tight_layout()\n",
    "    plt.imshow(batch_imgs[i].view(28,28), cmap='binary', interpolation='none')\n",
    "    plt.title(\"Digit: {}\".format(train_dataset[i][1]))\n",
    "    plt.xticks([])\n",
    "    plt.yticks([])\n"
   ]
  },
  {
   "cell_type": "code",
   "execution_count": 4,
   "metadata": {},
   "outputs": [],
   "source": [
    "def sample_from_latent(n_samples):\n",
    "    return torch.randn(size=(n_samples, 100, 1, 1))"
   ]
  },
  {
   "cell_type": "markdown",
   "metadata": {},
   "source": [
    "#### Train Deep Convolutional GAN on MNIST\n",
    "\n",
    "* Instantiate the generator and discriminator\n",
    "* Create the optimizers\n",
    "* Create the loss functions\n",
    "* Iterate over the batches of the dataloarder\n",
    "* Update the weights (optimizer step)\n",
    "* Compute the losses and generate images"
   ]
  },
  {
   "cell_type": "code",
   "execution_count": 8,
   "metadata": {},
   "outputs": [],
   "source": [
    "from tqdm.auto import tqdm\n",
    "\n",
    "\n",
    "generator = Generator()\n",
    "discriminator = Discriminator()\n",
    "\n",
    "\n",
    "def compute_loss(pred, target):\n",
    "    return torch.nn.functional.binary_cross_entropy(pred, target)  \n",
    "\n",
    "def do_train(epochs = 10):\n",
    "    device = torch.device('cuda' if torch.cuda.is_available() else 'cpu')\n",
    "    losses = []\n",
    "    \n",
    "    discriminator.to(device)\n",
    "    generator.to(device)\n",
    "    \n",
    "    optimizer_G = torch.optim.Adam(generator.parameters())\n",
    "    optimizer_D = torch.optim.Adam(discriminator.parameters())\n",
    "\n",
    "    progress_bar = tqdm(range(epochs*len(train_loader)))\n",
    "\n",
    "    for epoch in range(epochs):\n",
    "        discriminator.train()\n",
    "        for img_batch, labels_batch in train_loader:\n",
    "            optimizer_D.zero_grad()\n",
    "            \n",
    "            ones = torch.ones(labels_batch.shape).to(device)\n",
    "            zeros = torch.zeros(labels_batch.shape).to(device)\n",
    "            z_input = sample_from_latent(img_batch.shape[0]).to(device)\n",
    "\n",
    "            img_batch = img_batch.to(device)\n",
    "            fake_imgs = generator(z_input).detach()\n",
    "\n",
    "            y_pred = discriminator(img_batch)\n",
    "            y_pred_fake = discriminator(fake_imgs)\n",
    "\n",
    "            loss = compute_loss(y_pred, ones)\n",
    "            loss += compute_loss(y_pred_fake, zeros)\n",
    "            loss.backward()\n",
    "\n",
    "            losses.append(loss.cpu().item())\n",
    "            optimizer_D.step()\n",
    "            progress_bar.update(1)\n",
    "    return losses        \n",
    " \n"
   ]
  },
  {
   "cell_type": "code",
   "execution_count": 9,
   "metadata": {},
   "outputs": [
    {
     "name": "stderr",
     "output_type": "stream",
     "text": [
      "100%|██████████| 3750/3750 [00:21<00:00, 175.29it/s]\n"
     ]
    }
   ],
   "source": [
    "losses = do_train(2)"
   ]
  },
  {
   "cell_type": "code",
   "execution_count": 11,
   "metadata": {},
   "outputs": [
    {
     "data": {
      "text/plain": [
       "Text(0, 0.5, 'Loss')"
      ]
     },
     "execution_count": 11,
     "metadata": {},
     "output_type": "execute_result"
    },
    {
     "data": {
      "image/png": "[encoded data removed]",
      "text/plain": [
       "<Figure size 640x480 with 1 Axes>"
      ]
     },
     "metadata": {},
     "output_type": "display_data"
    }
   ],
   "source": [
    "#plot losses\n",
    "plt.plot(losses)\n",
    "plt.xlabel('Iter')\n",
    "plt.ylabel('Loss')\n"
   ]
  },
  {
   "cell_type": "code",
   "execution_count": 13,
   "metadata": {},
   "outputs": [
    {
     "data": {
      "text/plain": [
       "0.9999905749618847"
      ]
     },
     "execution_count": 13,
     "metadata": {},
     "output_type": "execute_result"
    }
   ],
   "source": [
    "\n"
   ]
  },
  {
   "cell_type": "code",
   "execution_count": null,
   "metadata": {},
   "outputs": [],
   "source": []
  }
 ],
 "metadata": {
  "kernelspec": {
   "display_name": "Python 3.10.5 ('torch')",
   "language": "python",
   "name": "python3"
  },
  "language_info": {
   "codemirror_mode": {
    "name": "ipython",
    "version": 3
   },
   "file_extension": ".py",
   "mimetype": "text/x-python",
   "name": "python",
   "nbconvert_exporter": "python",
   "pygments_lexer": "ipython3",
   "version": "3.10.5"
  },
  "orig_nbformat": 4,
  "vscode": {
   "interpreter": {
    "hash": "2e9d5532610b05cb4c4097be808f232aaebc7e75a1dff6e85605834c544c77d5"
   }
  }
 },
 "nbformat": 4,
 "nbformat_minor": 2
}
