{
 "cells": [
  {
   "cell_type": "code",
   "execution_count": 1,
   "metadata": {},
   "outputs": [],
   "source": [
    "import torch\n",
    "from torch.nn import Module, Linear, Conv2d, MaxPool2d, LeakyReLU, Sequential, BatchNorm2d, Sigmoid, ConvTranspose2d\n",
    "from torch import nn\n",
    "from generators import Generator, Discriminator"
   ]
  },
  {
   "cell_type": "code",
   "execution_count": 2,
   "metadata": {},
   "outputs": [
    {
     "data": {
      "text/plain": [
       "torch.Size([10, 1])"
      ]
     },
     "execution_count": 2,
     "metadata": {},
     "output_type": "execute_result"
    }
   ],
   "source": [
    "imgf = Generator()(torch.randn(10, 100,1,1))\n",
    "Discriminator()(imgf).shape"
   ]
  },
  {
   "cell_type": "code",
   "execution_count": 4,
   "metadata": {},
   "outputs": [],
   "source": [
    "from torchvision.datasets import MNIST\n",
    "from torch.utils.data import DataLoader\n",
    "from torchvision.transforms import PILToTensor, ConvertImageDtype, Compose, Normalize, ToTensor\n",
    "\n",
    "img_transforms = Compose([\n",
    "    PILToTensor(),\n",
    "    ConvertImageDtype(torch.float),\n",
    "    # Normalize(mean=(0.5), std=(0.5))\n",
    "])\n",
    "\n",
    "root_dir = './data/mnist/'\n",
    "train_dataset = MNIST(root=root_dir+'train', train=True, download=True, transform=img_transforms)\n",
    "test_dataset = MNIST(root=root_dir+'test', train=False, download=True, transform=img_transforms)\n",
    "\n",
    "\n",
    "batch_size = 64\n",
    "train_loader = DataLoader(train_dataset, batch_size=batch_size, shuffle=True, num_workers=20)\n",
    "test_loader = DataLoader(test_dataset, batch_size=batch_size, shuffle=True, num_workers=20)\n"
   ]
  },
  {
   "cell_type": "code",
   "execution_count": 9,
   "metadata": {},
   "outputs": [
    {
     "data": {
      "image/png": "[encoded data removed]",
      "text/plain": [
       "<Figure size 360x360 with 9 Axes>"
      ]
     },
     "metadata": {},
     "output_type": "display_data"
    }
   ],
   "source": [
    "#show some images\n",
    "from utils_gen import plot_images\n",
    "plot_images(train_loader)"
   ]
  },
  {
   "cell_type": "code",
   "execution_count": 6,
   "metadata": {},
   "outputs": [
    {
     "data": {
      "text/plain": [
       "(tensor(0.9961), tensor(0.))"
      ]
     },
     "execution_count": 6,
     "metadata": {},
     "output_type": "execute_result"
    }
   ],
   "source": [
    "nn.Tanh()(torch.tensor(-10))\n",
    "#6013383838"
   ]
  },
  {
   "cell_type": "code",
   "execution_count": 7,
   "metadata": {},
   "outputs": [],
   "source": [
    "def sample_from_latent(n_samples):\n",
    "    return torch.randn(size=(n_samples, 100, 1, 1))"
   ]
  },
  {
   "cell_type": "markdown",
   "metadata": {},
   "source": [
    "#### Train Deep Convolutional GAN on MNIST\n",
    "\n",
    "* Instantiate the generator and discriminator\n",
    "* Create the optimizers\n",
    "* Create the loss functions\n",
    "* Iterate over the batches of the dataloarder\n",
    "* Update the weights (optimizer step)\n",
    "* Compute the losses and generate images"
   ]
  },
  {
   "cell_type": "code",
   "execution_count": 8,
   "metadata": {},
   "outputs": [],
   "source": [
    "from tqdm.auto import tqdm\n",
    "from torch.nn import BCEWithLogitsLoss\n",
    "\n",
    "bce = BCEWithLogitsLoss()\n",
    "def compute_loss(pred, target):\n",
    "    return bce(pred, target)\n",
    "      \n",
    " \n",
    "class Trainner():\n",
    "    def __init__(self, generator, discriminator, train_loader, test_loader):\n",
    "        self.generator = generator\n",
    "        self.discriminator = discriminator\n",
    "        self.train_loader = train_loader\n",
    "        self.test_loader = test_loader\n",
    "        self.device = torch.device('cuda' if torch.cuda.is_available() else 'cpu')\n",
    "        self.losses = []\n",
    "        self.losses_gen = []\n",
    "\n",
    "        self.discriminator.to(self.device)\n",
    "        self.generator.to(self.device)\n",
    "\n",
    "        self.optimizer_G = torch.optim.AdamW(self.generator.parameters(), lr=1e-4)\n",
    "        self.optimizer_D = torch.optim.AdamW(self.discriminator.parameters(), lr=1e-4)\n",
    "\n",
    "    def discriminator_step(self, img_batch, labels_batch):\n",
    "        self.optimizer_D.zero_grad()\n",
    "\n",
    "        ones = torch.ones(labels_batch.shape).to(self.device)\n",
    "        zeros = torch.zeros(labels_batch.shape).to(self.device)\n",
    "        z_input = sample_from_latent(img_batch.shape[0]).to(self.device)\n",
    "\n",
    "        img_batch = img_batch.to(self.device)\n",
    "        fake_imgs = self.generator(z_input)\n",
    "\n",
    "        y_pred = self.discriminator(img_batch)\n",
    "        y_pred_fake = self.discriminator(fake_imgs)\n",
    "\n",
    "        loss = compute_loss(y_pred, ones)\n",
    "        loss += compute_loss(y_pred_fake, zeros)\n",
    "        loss.backward()\n",
    "\n",
    "        self.optimizer_D.step()        \n",
    "\n",
    "        return loss.cpu().item()\n",
    "\n",
    "    def generator_step(self, labels_batch, img_batch):\n",
    "        self.optimizer_G.zero_grad()\n",
    "\n",
    "        ones = torch.ones(labels_batch.shape).to(self.device)\n",
    "        z_input = sample_from_latent(img_batch.shape[0]).to(self.device)\n",
    "\n",
    "        fake_imgs = self.generator(z_input)\n",
    "        y_pred_fake = self.discriminator(fake_imgs)\n",
    "        loss = compute_loss(y_pred_fake, ones)\n",
    "        loss.backward()\n",
    "\n",
    "        self.optimizer_G.step()\n",
    "        return loss.cpu().item()    \n",
    "\n",
    "\n",
    "    def train_both(self, epochs = 1, train_gen_every = 1, train_dis_every = 1):\n",
    "        progress_bar = tqdm(range(epochs*len(train_loader)))\n",
    "        for epoch in range(epochs):\n",
    "            self.discriminator.train()\n",
    "            self.generator.train()\n",
    "            for iter, (img_batch, labels_batch) in enumerate(train_loader):\n",
    "                if iter % train_dis_every == 0:\n",
    "                    d_loss = self.discriminator_step(img_batch, labels_batch)\n",
    "                if iter % train_gen_every == 0:\n",
    "                    g_loss = self.generator_step(labels_batch, img_batch)\n",
    "\n",
    "                progress_bar.update(1)\n",
    "                if d_loss:\n",
    "                    self.losses.append(d_loss)\n",
    "                if g_loss:\n",
    "                    self.losses_gen.append(g_loss)\n",
    "            print(\"Epoch: {} - D loss: {} - G loss: {}\".format(epoch, d_loss, g_loss))        \n",
    "                \n"
   ]
  },
  {
   "cell_type": "code",
   "execution_count": 9,
   "metadata": {},
   "outputs": [],
   "source": [
    "trainer = Trainner(Generator(), Discriminator(), train_loader, test_loader)"
   ]
  },
  {
   "cell_type": "code",
   "execution_count": 10,
   "metadata": {},
   "outputs": [
    {
     "data": {
      "text/plain": [
       "tensor([[[[ 1.7800]],\n",
       "\n",
       "         [[ 2.1813]],\n",
       "\n",
       "         [[-1.5506]],\n",
       "\n",
       "         ...,\n",
       "\n",
       "         [[-0.9183]],\n",
       "\n",
       "         [[-0.0029]],\n",
       "\n",
       "         [[ 0.4468]]],\n",
       "\n",
       "\n",
       "        [[[ 0.6894]],\n",
       "\n",
       "         [[-1.8254]],\n",
       "\n",
       "         [[ 1.2858]],\n",
       "\n",
       "         ...,\n",
       "\n",
       "         [[ 0.5016]],\n",
       "\n",
       "         [[-0.7105]],\n",
       "\n",
       "         [[ 0.6125]]],\n",
       "\n",
       "\n",
       "        [[[ 2.1698]],\n",
       "\n",
       "         [[-1.2928]],\n",
       "\n",
       "         [[-0.8346]],\n",
       "\n",
       "         ...,\n",
       "\n",
       "         [[-0.5440]],\n",
       "\n",
       "         [[-0.1486]],\n",
       "\n",
       "         [[-0.1295]]],\n",
       "\n",
       "\n",
       "        ...,\n",
       "\n",
       "\n",
       "        [[[ 0.6625]],\n",
       "\n",
       "         [[ 0.6842]],\n",
       "\n",
       "         [[ 0.1332]],\n",
       "\n",
       "         ...,\n",
       "\n",
       "         [[-0.1350]],\n",
       "\n",
       "         [[-0.7408]],\n",
       "\n",
       "         [[ 1.1685]]],\n",
       "\n",
       "\n",
       "        [[[ 0.5258]],\n",
       "\n",
       "         [[ 0.2942]],\n",
       "\n",
       "         [[ 0.5359]],\n",
       "\n",
       "         ...,\n",
       "\n",
       "         [[ 0.0281]],\n",
       "\n",
       "         [[-0.9997]],\n",
       "\n",
       "         [[ 0.2904]]],\n",
       "\n",
       "\n",
       "        [[[-0.5986]],\n",
       "\n",
       "         [[-2.5119]],\n",
       "\n",
       "         [[-1.2556]],\n",
       "\n",
       "         ...,\n",
       "\n",
       "         [[-0.6616]],\n",
       "\n",
       "         [[-1.7131]],\n",
       "\n",
       "         [[-0.1274]]]], device='cuda:0')"
      ]
     },
     "execution_count": 10,
     "metadata": {},
     "output_type": "execute_result"
    }
   ],
   "source": [
    "torch.randn(size=(32, 100, 1, 1)).to(torch.device('cuda'))"
   ]
  },
  {
   "cell_type": "code",
   "execution_count": 10,
   "metadata": {},
   "outputs": [
    {
     "data": {
      "application/vnd.jupyter.widget-view+json": {
       "model_id": "d1dae58ea8c64e2bbd705373d08136ee",
       "version_major": 2,
       "version_minor": 0
      },
      "text/plain": [
       "  0%|          | 0/18760 [00:00<?, ?it/s]"
      ]
     },
     "metadata": {},
     "output_type": "display_data"
    },
    {
     "name": "stdout",
     "output_type": "stream",
     "text": [
      "Epoch: 0 - D loss: 2.6666674613952637 - G loss: 0.24912267923355103\n",
      "Epoch: 1 - D loss: 2.1447341442108154 - G loss: 0.4788554310798645\n"
     ]
    },
    {
     "ename": "KeyboardInterrupt",
     "evalue": "",
     "output_type": "error",
     "traceback": [
      "\u001b[0;31m---------------------------------------------------------------------------\u001b[0m",
      "\u001b[0;31mKeyboardInterrupt\u001b[0m                         Traceback (most recent call last)",
      "\u001b[1;32m/home/daniel/data/Projects/machine-learning-samples/DeepConvGAN/deep_conv_gan_mnist.ipynb Cell 11\u001b[0m in \u001b[0;36m<cell line: 1>\u001b[0;34m()\u001b[0m\n\u001b[0;32m----> <a href='vscode-notebook-cell:/home/daniel/data/Projects/machine-learning-samples/DeepConvGAN/deep_conv_gan_mnist.ipynb#X12sZmlsZQ%3D%3D?line=0'>1</a>\u001b[0m trainer\u001b[39m.\u001b[39;49mtrain_both(epochs\u001b[39m=\u001b[39;49m\u001b[39m20\u001b[39;49m, train_gen_every\u001b[39m=\u001b[39;49m\u001b[39m1\u001b[39;49m, train_dis_every\u001b[39m=\u001b[39;49m\u001b[39m10\u001b[39;49m)\n",
      "\u001b[1;32m/home/daniel/data/Projects/machine-learning-samples/DeepConvGAN/deep_conv_gan_mnist.ipynb Cell 11\u001b[0m in \u001b[0;36mTrainner.train_both\u001b[0;34m(self, epochs, train_gen_every, train_dis_every)\u001b[0m\n\u001b[1;32m     <a href='vscode-notebook-cell:/home/daniel/data/Projects/machine-learning-samples/DeepConvGAN/deep_conv_gan_mnist.ipynb#X12sZmlsZQ%3D%3D?line=67'>68</a>\u001b[0m     d_loss \u001b[39m=\u001b[39m \u001b[39mself\u001b[39m\u001b[39m.\u001b[39mdiscriminator_step(img_batch, labels_batch)\n\u001b[1;32m     <a href='vscode-notebook-cell:/home/daniel/data/Projects/machine-learning-samples/DeepConvGAN/deep_conv_gan_mnist.ipynb#X12sZmlsZQ%3D%3D?line=68'>69</a>\u001b[0m \u001b[39mif\u001b[39;00m \u001b[39miter\u001b[39m \u001b[39m%\u001b[39m train_gen_every \u001b[39m==\u001b[39m \u001b[39m0\u001b[39m:\n\u001b[0;32m---> <a href='vscode-notebook-cell:/home/daniel/data/Projects/machine-learning-samples/DeepConvGAN/deep_conv_gan_mnist.ipynb#X12sZmlsZQ%3D%3D?line=69'>70</a>\u001b[0m     g_loss \u001b[39m=\u001b[39m \u001b[39mself\u001b[39;49m\u001b[39m.\u001b[39;49mgenerator_step(labels_batch, img_batch)\n\u001b[1;32m     <a href='vscode-notebook-cell:/home/daniel/data/Projects/machine-learning-samples/DeepConvGAN/deep_conv_gan_mnist.ipynb#X12sZmlsZQ%3D%3D?line=71'>72</a>\u001b[0m progress_bar\u001b[39m.\u001b[39mupdate(\u001b[39m1\u001b[39m)\n\u001b[1;32m     <a href='vscode-notebook-cell:/home/daniel/data/Projects/machine-learning-samples/DeepConvGAN/deep_conv_gan_mnist.ipynb#X12sZmlsZQ%3D%3D?line=72'>73</a>\u001b[0m \u001b[39mif\u001b[39;00m d_loss:\n",
      "\u001b[1;32m/home/daniel/data/Projects/machine-learning-samples/DeepConvGAN/deep_conv_gan_mnist.ipynb Cell 11\u001b[0m in \u001b[0;36mTrainner.generator_step\u001b[0;34m(self, labels_batch, img_batch)\u001b[0m\n\u001b[1;32m     <a href='vscode-notebook-cell:/home/daniel/data/Projects/machine-learning-samples/DeepConvGAN/deep_conv_gan_mnist.ipynb#X12sZmlsZQ%3D%3D?line=46'>47</a>\u001b[0m \u001b[39mself\u001b[39m\u001b[39m.\u001b[39moptimizer_G\u001b[39m.\u001b[39mzero_grad()\n\u001b[1;32m     <a href='vscode-notebook-cell:/home/daniel/data/Projects/machine-learning-samples/DeepConvGAN/deep_conv_gan_mnist.ipynb#X12sZmlsZQ%3D%3D?line=48'>49</a>\u001b[0m ones \u001b[39m=\u001b[39m torch\u001b[39m.\u001b[39mones(labels_batch\u001b[39m.\u001b[39mshape)\u001b[39m.\u001b[39mto(\u001b[39mself\u001b[39m\u001b[39m.\u001b[39mdevice)\n\u001b[0;32m---> <a href='vscode-notebook-cell:/home/daniel/data/Projects/machine-learning-samples/DeepConvGAN/deep_conv_gan_mnist.ipynb#X12sZmlsZQ%3D%3D?line=49'>50</a>\u001b[0m z_input \u001b[39m=\u001b[39m sample_from_latent(img_batch\u001b[39m.\u001b[39;49mshape[\u001b[39m0\u001b[39;49m])\u001b[39m.\u001b[39;49mto(\u001b[39mself\u001b[39;49m\u001b[39m.\u001b[39;49mdevice)\n\u001b[1;32m     <a href='vscode-notebook-cell:/home/daniel/data/Projects/machine-learning-samples/DeepConvGAN/deep_conv_gan_mnist.ipynb#X12sZmlsZQ%3D%3D?line=51'>52</a>\u001b[0m fake_imgs \u001b[39m=\u001b[39m \u001b[39mself\u001b[39m\u001b[39m.\u001b[39mgenerator(z_input)\n\u001b[1;32m     <a href='vscode-notebook-cell:/home/daniel/data/Projects/machine-learning-samples/DeepConvGAN/deep_conv_gan_mnist.ipynb#X12sZmlsZQ%3D%3D?line=52'>53</a>\u001b[0m y_pred_fake \u001b[39m=\u001b[39m \u001b[39mself\u001b[39m\u001b[39m.\u001b[39mdiscriminator(fake_imgs)\n",
      "\u001b[0;31mKeyboardInterrupt\u001b[0m: "
     ]
    }
   ],
   "source": [
    "trainer.train_both(epochs=20, train_gen_every=1, train_dis_every=10)"
   ]
  },
  {
   "cell_type": "code",
   "execution_count": 32,
   "metadata": {},
   "outputs": [
    {
     "data": {
      "text/plain": [
       "Text(0, 0.5, 'Loss')"
      ]
     },
     "execution_count": 32,
     "metadata": {},
     "output_type": "execute_result"
    },
    {
     "data": {
      "image/png": "[encoded data removed]",
      "text/plain": [
       "<Figure size 432x288 with 1 Axes>"
      ]
     },
     "metadata": {
      "needs_background": "light"
     },
     "output_type": "display_data"
    }
   ],
   "source": [
    "#plot losses\n",
    "plt.plot(trainer.losses)\n",
    "plt.xlabel('Iter')\n",
    "plt.ylabel('Loss')\n"
   ]
  },
  {
   "cell_type": "code",
   "execution_count": 33,
   "metadata": {},
   "outputs": [
    {
     "data": {
      "text/plain": [
       "Text(0, 0.5, 'Loss')"
      ]
     },
     "execution_count": 33,
     "metadata": {},
     "output_type": "execute_result"
    },
    {
     "data": {
      "image/png": "[encoded data removed]",
      "text/plain": [
       "<Figure size 432x288 with 1 Axes>"
      ]
     },
     "metadata": {
      "needs_background": "light"
     },
     "output_type": "display_data"
    }
   ],
   "source": [
    "#plot losses\n",
    "plt.plot(trainer.losses_gen)\n",
    "plt.xlabel('Iter')\n",
    "plt.ylabel('Loss')\n"
   ]
  },
  {
   "cell_type": "code",
   "execution_count": 56,
   "metadata": {},
   "outputs": [
    {
     "data": {
      "image/png": "[encoded data removed]",
      "text/plain": [
       "<Figure size 360x360 with 3 Axes>"
      ]
     },
     "metadata": {},
     "output_type": "display_data"
    }
   ],
   "source": [
    "trainer.generator.eval()\n",
    "z_input = sample_from_latent(3).to(trainer.device)\n",
    "fake_imgs = trainer.generator(z_input)\n",
    "img0 = fake_imgs.detach().cpu().numpy()\n",
    "\n",
    "\n",
    "#Show images\n",
    "plt.figure(figsize=(5,5))\n",
    "for i in range(3):\n",
    "    plt.subplot(1,3,i+1)\n",
    "    plt.tight_layout()\n",
    "    plt.imshow(img0[i].reshape(28,28), cmap='binary', interpolation='none')\n",
    "    plt.xticks([])\n",
    "    plt.yticks([])"
   ]
  },
  {
   "cell_type": "code",
   "execution_count": 1416,
   "metadata": {},
   "outputs": [
    {
     "data": {
      "text/plain": [
       "Generator(\n",
       "  (sequential): Sequential(\n",
       "    (0): Sequential(\n",
       "      (0): ConvTranspose2d(100, 128, kernel_size=(4, 4), stride=(1, 1), bias=False)\n",
       "      (1): BatchNorm2d(128, eps=1e-05, momentum=0.1, affine=True, track_running_stats=True)\n",
       "      (2): LeakyReLU(negative_slope=0.2)\n",
       "    )\n",
       "    (1): Sequential(\n",
       "      (0): ConvTranspose2d(128, 64, kernel_size=(3, 3), stride=(2, 2), padding=(1, 1), bias=False)\n",
       "      (1): BatchNorm2d(64, eps=1e-05, momentum=0.1, affine=True, track_running_stats=True)\n",
       "      (2): LeakyReLU(negative_slope=0.2)\n",
       "    )\n",
       "    (2): Sequential(\n",
       "      (0): ConvTranspose2d(64, 32, kernel_size=(4, 4), stride=(2, 2), padding=(1, 1), bias=False)\n",
       "      (1): BatchNorm2d(32, eps=1e-05, momentum=0.1, affine=True, track_running_stats=True)\n",
       "      (2): LeakyReLU(negative_slope=0.2)\n",
       "    )\n",
       "    (3): ConvTranspose2d(32, 1, kernel_size=(4, 4), stride=(2, 2), padding=(1, 1), bias=False)\n",
       "    (4): Tanh()\n",
       "  )\n",
       ")"
      ]
     },
     "execution_count": 1416,
     "metadata": {},
     "output_type": "execute_result"
    }
   ],
   "source": [
    "trainer.generator"
   ]
  },
  {
   "cell_type": "code",
   "execution_count": 1418,
   "metadata": {},
   "outputs": [
    {
     "data": {
      "text/plain": [
       "torch.Size([3, 1, 28, 28])"
      ]
     },
     "execution_count": 1418,
     "metadata": {},
     "output_type": "execute_result"
    }
   ],
   "source": [
    "trainer.generator(z_input).shape"
   ]
  },
  {
   "cell_type": "code",
   "execution_count": 30,
   "metadata": {},
   "outputs": [
    {
     "data": {
      "text/plain": [
       "Discriminator(\n",
       "  (sequential): Sequential(\n",
       "    (0): Sequential(\n",
       "      (0): Conv2d(1, 32, kernel_size=(4, 4), stride=(2, 2), padding=(1, 1), bias=False)\n",
       "      (leaky_relu): LeakyReLU(negative_slope=0.2)\n",
       "    )\n",
       "    (1): Sequential(\n",
       "      (0): Conv2d(32, 64, kernel_size=(4, 4), stride=(2, 2), padding=(1, 1), bias=False)\n",
       "      (batch_norm): BatchNorm2d(64, eps=1e-05, momentum=0.1, affine=True, track_running_stats=True)\n",
       "      (leaky_relu): LeakyReLU(negative_slope=0.2)\n",
       "    )\n",
       "    (2): Sequential(\n",
       "      (0): Conv2d(64, 128, kernel_size=(3, 3), stride=(2, 2), padding=(1, 1), bias=False)\n",
       "      (batch_norm): BatchNorm2d(128, eps=1e-05, momentum=0.1, affine=True, track_running_stats=True)\n",
       "      (leaky_relu): LeakyReLU(negative_slope=0.2)\n",
       "    )\n",
       "    (3): Conv2d(128, 1, kernel_size=(4, 4), stride=(1, 1))\n",
       "  )\n",
       ")"
      ]
     },
     "execution_count": 30,
     "metadata": {},
     "output_type": "execute_result"
    }
   ],
   "source": [
    "trainer.discriminator"
   ]
  },
  {
   "cell_type": "code",
   "execution_count": null,
   "metadata": {},
   "outputs": [],
   "source": []
  }
 ],
 "metadata": {
  "kernelspec": {
   "display_name": "Python 3.9.13 ('pytorch')",
   "language": "python",
   "name": "python3"
  },
  "language_info": {
   "codemirror_mode": {
    "name": "ipython",
    "version": 3
   },
   "file_extension": ".py",
   "mimetype": "text/x-python",
   "name": "python",
   "nbconvert_exporter": "python",
   "pygments_lexer": "ipython3",
   "version": "3.9.13"
  },
  "orig_nbformat": 4,
  "vscode": {
   "interpreter": {
    "hash": "6cdbf094c3e2d11b30478a1f6f10290d4ee78e6b46f57992373b88ecd109df83"
   }
  }
 },
 "nbformat": 4,
 "nbformat_minor": 2
}
