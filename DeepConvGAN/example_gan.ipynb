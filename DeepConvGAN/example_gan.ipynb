{
 "cells": [
  {
   "cell_type": "code",
   "execution_count": 346,
   "metadata": {},
   "outputs": [],
   "source": [
    "import torch\n",
    "import torch.nn as nn\n",
    "import numpy as np\n",
    "import matplotlib.pyplot as plt\n",
    "\n",
    "\n",
    "device = torch.device(\"cuda\")\n",
    "image_path = './data/mnist/train'\n",
    "batch_size = 64\n",
    "z_size = 100\n",
    "image_size = (28, 28)\n",
    "n_filters = 32 "
   ]
  },
  {
   "cell_type": "code",
   "execution_count": 347,
   "metadata": {},
   "outputs": [],
   "source": [
    "\n",
    "import torch\n",
    "import numpy as np\n",
    "import torchvision \n",
    "from torchvision import transforms \n",
    "from torch.utils.data import DataLoader\n",
    "\n",
    "\n",
    "\n",
    "transform = transforms.Compose([\n",
    "    transforms.ToTensor(),\n",
    "    transforms.Normalize(mean=(0.5), std=(0.5))\n",
    "])\n",
    "mnist_dataset = torchvision.datasets.MNIST(root=image_path, \n",
    "                                           train=True, \n",
    "                                           transform=transform, \n",
    "                                           download=False)\n",
    "\n",
    "\n",
    "# torch.manual_seed(1)\n",
    "# np.random.seed(1)\n",
    "\n",
    "## Set up the dataset\n",
    "\n",
    "mnist_dl = DataLoader(mnist_dataset, batch_size=batch_size, \n",
    "                      shuffle=True, drop_last=True, num_workers=20)\n",
    "\n"
   ]
  },
  {
   "cell_type": "code",
   "execution_count": 348,
   "metadata": {},
   "outputs": [
    {
     "data": {
      "image/png": "[encoded data removed]",
      "text/plain": [
       "<Figure size 360x360 with 9 Axes>"
      ]
     },
     "metadata": {},
     "output_type": "display_data"
    }
   ],
   "source": [
    "#show some images\n",
    "from utils_gen import plot_images\n",
    "plot_images(mnist_dl)"
   ]
  },
  {
   "cell_type": "code",
   "execution_count": 349,
   "metadata": {},
   "outputs": [],
   "source": [
    "from generators import Generator, Discriminator\n",
    "gen_model = Generator().to(device)\n",
    "disc_model = Discriminator().to(device)"
   ]
  },
  {
   "cell_type": "code",
   "execution_count": 350,
   "metadata": {},
   "outputs": [],
   "source": [
    "\n",
    "\n",
    "## Loss function and optimizers:\n",
    "loss_fn = nn.BCEWithLogitsLoss()\n",
    "g_optimizer = torch.optim.Adam(gen_model.parameters(), 0.0003)\n",
    "d_optimizer = torch.optim.Adam(disc_model.parameters(), 0.0002)\n",
    "\n"
   ]
  },
  {
   "cell_type": "code",
   "execution_count": 351,
   "metadata": {},
   "outputs": [],
   "source": [
    "\n",
    "\n",
    "def create_noise(batch_size, z_size, mode_z):\n",
    "    if mode_z == 'uniform':\n",
    "        input_z = torch.rand(batch_size, z_size, 1, 1)*2 - 1 \n",
    "    elif mode_z == 'normal':\n",
    "        input_z = torch.randn(batch_size, z_size, 1, 1)\n",
    "    return input_z\n",
    "\n",
    "def sample_from_latent(n_samples, z_size=100, mode_z='normal'):\n",
    "    return create_noise(n_samples, z_size, 'normal')"
   ]
  },
  {
   "cell_type": "code",
   "execution_count": 359,
   "metadata": {},
   "outputs": [],
   "source": [
    "\n",
    "from tqdm.auto import tqdm\n",
    "from torch.nn import BCEWithLogitsLoss\n",
    "\n",
    "bce = BCEWithLogitsLoss()\n",
    "def compute_loss(pred, target):\n",
    "    return bce(pred, target)\n",
    "      \n",
    " \n",
    "class Trainner():\n",
    "    def __init__(self, generator, discriminator, train_loader, device):\n",
    "        self.generator = generator\n",
    "        self.discriminator = discriminator\n",
    "        self.device = device\n",
    "        self.losses = []\n",
    "        self.losses_gen = []\n",
    "        self.train_loader = train_loader\n",
    "\n",
    "        self.discriminator.to(self.device)\n",
    "        self.generator.to(self.device)\n",
    "\n",
    "        self.optimizer_G = torch.optim.AdamW(self.generator.parameters(), lr=0.0003)\n",
    "        self.optimizer_D = torch.optim.AdamW(self.discriminator.parameters(), lr=0.0002)\n",
    "\n",
    "    def discriminator_step(self, img_batch, labels_batch):\n",
    "        batch_size = img_batch.shape[0]\n",
    "        img_batch = img_batch.to(self.device)\n",
    "        ones = torch.ones((batch_size, 1)).to(self.device)\n",
    "        zeros = torch.zeros((batch_size, 1)).to(self.device)\n",
    "        z_input = sample_from_latent(batch_size, 100).to(self.device)\n",
    "\n",
    "        fake_imgs = self.generator(z_input)\n",
    "\n",
    "        y_pred = self.discriminator(img_batch)\n",
    "        y_pred_fake = self.discriminator(fake_imgs)\n",
    "\n",
    "        loss = compute_loss(y_pred, ones)\n",
    "        loss += compute_loss(y_pred_fake, zeros)\n",
    "\n",
    "        self.optimizer_D.zero_grad()\n",
    "        loss.backward()\n",
    "        self.optimizer_D.step()        \n",
    "\n",
    "        return loss.cpu().item()\n",
    "\n",
    "    def generator_step(self, labels_batch, img_batch):\n",
    "        self.optimizer_G.zero_grad()\n",
    "\n",
    "        ones = torch.ones((labels_batch.shape[0], 1)).to(self.device)\n",
    "        z_input = sample_from_latent(img_batch.shape[0]).to(self.device)\n",
    "\n",
    "        fake_imgs = self.generator(z_input)\n",
    "        y_pred_fake = self.discriminator(fake_imgs)\n",
    "        loss = compute_loss(y_pred_fake, ones)\n",
    "        loss.backward()\n",
    "\n",
    "        self.optimizer_G.step()\n",
    "        return loss.cpu().item()    \n",
    "\n",
    "\n",
    "    def train_both(self, epochs = 1, train_gen_every = 1, train_dis_every = 1):\n",
    "        progress_bar = tqdm(range(epochs*len(self.train_loader)))\n",
    "        self.discriminator.train()\n",
    "        self.generator.train()\n",
    "        for epoch in range(epochs):\n",
    "            for iter, (img_batch, labels_batch) in enumerate(self.train_loader):\n",
    "                if iter % train_dis_every == 0:\n",
    "                    d_loss = self.discriminator_step(img_batch, labels_batch)\n",
    "                if iter % train_gen_every == 0:\n",
    "                    g_loss = self.generator_step(labels_batch, img_batch)\n",
    "\n",
    "                progress_bar.update(1)\n",
    "                if d_loss:\n",
    "                    self.losses.append(d_loss)\n",
    "                if g_loss:\n",
    "                    self.losses_gen.append(g_loss)\n",
    "            print(\"Epoch: {} - D loss: {} - G loss: {}\".format(epoch, d_loss, g_loss))        \n",
    "                \n"
   ]
  },
  {
   "cell_type": "code",
   "execution_count": 353,
   "metadata": {},
   "outputs": [],
   "source": [
    "## Train the discriminator\n",
    "def d_train(img_batch):\n",
    "    batch_size = img_batch.shape[0]\n",
    "    img_batch = img_batch.to(device)\n",
    "    ones = torch.ones((batch_size, 1), device=device)\n",
    "    zeros = torch.zeros((batch_size, 1), device=device)\n",
    "    z_input = sample_from_latent(batch_size, 100).to(device)\n",
    "\n",
    "    fake_imgs = gen_model(z_input)\n",
    "    \n",
    "    d_proba_real = disc_model(img_batch)\n",
    "    d_proba_fake = disc_model(fake_imgs)\n",
    "    \n",
    "    d_loss_real = compute_loss(d_proba_real, ones)\n",
    "    d_loss_fake = compute_loss(d_proba_fake, zeros)\n",
    "    d_loss = d_loss_real + d_loss_fake\n",
    "    \n",
    "    d_optimizer.zero_grad()\n",
    "    d_loss.backward()\n",
    "    d_optimizer.step()\n",
    "\n",
    "    return d_loss.data.item(), d_proba_real.detach(), d_proba_fake.detach()\n",
    "\n"
   ]
  },
  {
   "cell_type": "code",
   "execution_count": 354,
   "metadata": {},
   "outputs": [],
   "source": [
    "## Train the generator\n",
    "def g_train(img_batch):\n",
    "    g_optimizer.zero_grad()\n",
    "    batch_size = img_batch.size(0)\n",
    "    input_z = sample_from_latent(batch_size, z_size).to(device)\n",
    "    ones = torch.ones((batch_size, 1 ), device=device)\n",
    "\n",
    "    g_output = gen_model(input_z)\n",
    "    d_proba_fake = disc_model(g_output)\n",
    "    g_loss = compute_loss(d_proba_fake, ones)\n",
    "\n",
    "    # gradient backprop & optimize ONLY G's parameters\n",
    "    g_loss.backward()\n",
    "    g_optimizer.step()\n",
    "        \n",
    "    return g_loss.data.item()"
   ]
  },
  {
   "cell_type": "code",
   "execution_count": 335,
   "metadata": {},
   "outputs": [
    {
     "data": {
      "application/vnd.jupyter.widget-view+json": {
       "model_id": "0b97b8d3f1ce49b68d67cc4e34d6e34e",
       "version_major": 2,
       "version_minor": 0
      },
      "text/plain": [
       "  0%|          | 0/46850 [00:00<?, ?it/s]"
      ]
     },
     "metadata": {},
     "output_type": "display_data"
    },
    {
     "name": "stdout",
     "output_type": "stream",
     "text": [
      "Epoch 001 | Avg Losses >> G/D 4.9574/0.0976\n",
      "Epoch 002 | Avg Losses >> G/D 4.6320/0.1501\n",
      "Epoch 003 | Avg Losses >> G/D 3.8072/0.2600\n",
      "Epoch 004 | Avg Losses >> G/D 3.0570/0.3399\n",
      "Epoch 005 | Avg Losses >> G/D 2.8537/0.3426\n",
      "Epoch 006 | Avg Losses >> G/D 2.8768/0.3340\n",
      "Epoch 007 | Avg Losses >> G/D 2.8844/0.3414\n",
      "Epoch 008 | Avg Losses >> G/D 2.8917/0.3352\n",
      "Epoch 009 | Avg Losses >> G/D 2.9302/0.3531\n",
      "Epoch 010 | Avg Losses >> G/D 2.8823/0.3198\n",
      "Epoch 011 | Avg Losses >> G/D 2.9723/0.3037\n",
      "Epoch 012 | Avg Losses >> G/D 2.9875/0.3051\n",
      "Epoch 013 | Avg Losses >> G/D 3.0442/0.2931\n",
      "Epoch 014 | Avg Losses >> G/D 3.0862/0.2902\n",
      "Epoch 015 | Avg Losses >> G/D 3.2372/0.2600\n",
      "Epoch 016 | Avg Losses >> G/D 3.2535/0.2739\n",
      "Epoch 017 | Avg Losses >> G/D 3.1742/0.2691\n",
      "Epoch 018 | Avg Losses >> G/D 3.2978/0.2566\n",
      "Epoch 019 | Avg Losses >> G/D 3.2816/0.2560\n",
      "Epoch 020 | Avg Losses >> G/D 3.3795/0.2427\n",
      "Epoch 021 | Avg Losses >> G/D 3.4394/0.2411\n",
      "Epoch 022 | Avg Losses >> G/D 3.3596/0.2674\n",
      "Epoch 023 | Avg Losses >> G/D 3.4820/0.2333\n",
      "Epoch 024 | Avg Losses >> G/D 3.5121/0.2341\n",
      "Epoch 025 | Avg Losses >> G/D 3.5747/0.2203\n",
      "Epoch 026 | Avg Losses >> G/D 3.5686/0.2320\n",
      "Epoch 027 | Avg Losses >> G/D 3.6751/0.2235\n",
      "Epoch 028 | Avg Losses >> G/D 3.6686/0.2044\n",
      "Epoch 029 | Avg Losses >> G/D 3.6607/0.2302\n",
      "Epoch 030 | Avg Losses >> G/D 3.6693/0.2315\n",
      "Epoch 031 | Avg Losses >> G/D 3.6979/0.2129\n",
      "Epoch 032 | Avg Losses >> G/D 3.7953/0.1887\n",
      "Epoch 033 | Avg Losses >> G/D 3.6785/0.2149\n",
      "Epoch 034 | Avg Losses >> G/D 3.6672/0.2376\n",
      "Epoch 035 | Avg Losses >> G/D 3.8416/0.1784\n",
      "Epoch 036 | Avg Losses >> G/D 3.8962/0.2036\n",
      "Epoch 037 | Avg Losses >> G/D 3.9128/0.1750\n",
      "Epoch 038 | Avg Losses >> G/D 3.9700/0.1771\n",
      "Epoch 039 | Avg Losses >> G/D 4.0911/0.1705\n",
      "Epoch 040 | Avg Losses >> G/D 4.0055/0.1978\n",
      "Epoch 041 | Avg Losses >> G/D 4.0092/0.1671\n",
      "Epoch 042 | Avg Losses >> G/D 4.0537/0.1757\n",
      "Epoch 043 | Avg Losses >> G/D 4.1873/0.1534\n",
      "Epoch 044 | Avg Losses >> G/D 4.1837/0.1555\n",
      "Epoch 045 | Avg Losses >> G/D 3.9926/0.2225\n",
      "Epoch 046 | Avg Losses >> G/D 4.1685/0.1401\n",
      "Epoch 047 | Avg Losses >> G/D 4.1853/0.1861\n",
      "Epoch 048 | Avg Losses >> G/D 4.3441/0.1556\n",
      "Epoch 049 | Avg Losses >> G/D 4.2491/0.1445\n",
      "Epoch 050 | Avg Losses >> G/D 4.3024/0.1579\n"
     ]
    }
   ],
   "source": [
    "from tqdm.auto import tqdm\n",
    "mode_z = 'uniform'\n",
    "fixed_z = sample_from_latent(batch_size, z_size, mode_z).to(device)\n",
    "def create_samples(g_model, input_z):\n",
    "    g_output = g_model(input_z)\n",
    "    images = torch.reshape(g_output, (batch_size, *image_size))    \n",
    "    return (images+1)/2.0\n",
    "\n",
    "epoch_samples = []\n",
    "\n",
    "num_epochs = 50\n",
    "# torch.manual_seed(1)\n",
    "\n",
    "progress_bar = tqdm(range(num_epochs*len(mnist_dl)))\n",
    "for epoch in range(1, num_epochs+1):    \n",
    "    gen_model.train()\n",
    "    d_losses, g_losses = [], []\n",
    "    for i, (x, _) in enumerate(mnist_dl):\n",
    "        d_loss, d_proba_real, d_proba_fake = d_train(x)\n",
    "        d_losses.append(d_loss)\n",
    "        g_losses.append(g_train(x))\n",
    "        progress_bar.update(1)\n",
    " \n",
    "    print(f'Epoch {epoch:03d} | Avg Losses >>'\n",
    "          f' G/D {torch.FloatTensor(g_losses).mean():.4f}'\n",
    "          f'/{torch.FloatTensor(d_losses).mean():.4f}')\n",
    "    gen_model.eval()\n",
    "    epoch_samples.append(\n",
    "        create_samples(gen_model, fixed_z).detach().cpu().numpy())"
   ]
  },
  {
   "cell_type": "code",
   "execution_count": 360,
   "metadata": {},
   "outputs": [
    {
     "data": {
      "application/vnd.jupyter.widget-view+json": {
       "model_id": "d0720d846f994d4cb6f1bf203e2054b5",
       "version_major": 2,
       "version_minor": 0
      },
      "text/plain": [
       "  0%|          | 0/46850 [00:00<?, ?it/s]"
      ]
     },
     "metadata": {},
     "output_type": "display_data"
    },
    {
     "name": "stdout",
     "output_type": "stream",
     "text": [
      "Epoch: 0 - D loss: 0.09979847818613052 - G loss: 6.023756980895996\n",
      "Epoch: 1 - D loss: 0.2306576371192932 - G loss: 2.6397573947906494\n",
      "Epoch: 2 - D loss: 0.39296019077301025 - G loss: 5.125332832336426\n",
      "Epoch: 3 - D loss: 0.3482854664325714 - G loss: 4.343288421630859\n",
      "Epoch: 4 - D loss: 0.7077177166938782 - G loss: 3.551884412765503\n",
      "Epoch: 5 - D loss: 0.28701290488243103 - G loss: 2.475121021270752\n",
      "Epoch: 6 - D loss: 0.396168053150177 - G loss: 1.2085893154144287\n",
      "Epoch: 7 - D loss: 0.17315402626991272 - G loss: 3.4474680423736572\n",
      "Epoch: 8 - D loss: 0.6336185336112976 - G loss: 2.310993194580078\n",
      "Epoch: 9 - D loss: 0.3815974295139313 - G loss: 2.8145205974578857\n",
      "Epoch: 10 - D loss: 0.2400224506855011 - G loss: 2.0966758728027344\n",
      "Epoch: 11 - D loss: 0.2037830501794815 - G loss: 1.6547534465789795\n",
      "Epoch: 12 - D loss: 0.19520875811576843 - G loss: 2.380788803100586\n",
      "Epoch: 13 - D loss: 0.20194344222545624 - G loss: 2.661776304244995\n",
      "Epoch: 14 - D loss: 0.2670997977256775 - G loss: 2.7399206161499023\n",
      "Epoch: 15 - D loss: 0.25419414043426514 - G loss: 4.417963027954102\n",
      "Epoch: 16 - D loss: 0.16911590099334717 - G loss: 4.774001121520996\n",
      "Epoch: 17 - D loss: 0.1666024923324585 - G loss: 4.048960208892822\n",
      "Epoch: 18 - D loss: 0.26755204796791077 - G loss: 1.9277305603027344\n",
      "Epoch: 19 - D loss: 0.20505906641483307 - G loss: 2.1486830711364746\n",
      "Epoch: 20 - D loss: 0.1037696823477745 - G loss: 4.954115867614746\n",
      "Epoch: 21 - D loss: 0.14162200689315796 - G loss: 3.130453586578369\n",
      "Epoch: 22 - D loss: 0.1244489997625351 - G loss: 3.7970242500305176\n",
      "Epoch: 23 - D loss: 0.279308021068573 - G loss: 4.471624374389648\n",
      "Epoch: 24 - D loss: 0.08082617819309235 - G loss: 3.2503161430358887\n",
      "Epoch: 25 - D loss: 0.3666614294052124 - G loss: 3.6813693046569824\n",
      "Epoch: 26 - D loss: 0.31587859988212585 - G loss: 4.962449550628662\n",
      "Epoch: 27 - D loss: 0.1029699519276619 - G loss: 4.427300453186035\n",
      "Epoch: 28 - D loss: 0.20054394006729126 - G loss: 4.4642229080200195\n",
      "Epoch: 29 - D loss: 0.4101335406303406 - G loss: 5.798581123352051\n",
      "Epoch: 30 - D loss: 0.07273481041193008 - G loss: 6.427093505859375\n",
      "Epoch: 31 - D loss: 0.07795917987823486 - G loss: 4.333808422088623\n",
      "Epoch: 32 - D loss: 0.2165503054857254 - G loss: 2.8990283012390137\n",
      "Epoch: 33 - D loss: 0.2862522602081299 - G loss: 2.1391189098358154\n",
      "Epoch: 34 - D loss: 0.2455940842628479 - G loss: 4.26862907409668\n",
      "Epoch: 35 - D loss: 0.06791122257709503 - G loss: 3.1891403198242188\n",
      "Epoch: 36 - D loss: 0.11788520961999893 - G loss: 5.333650588989258\n",
      "Epoch: 37 - D loss: 0.08644064515829086 - G loss: 4.839405059814453\n",
      "Epoch: 38 - D loss: 0.0764259546995163 - G loss: 5.653717041015625\n",
      "Epoch: 39 - D loss: 0.17168527841567993 - G loss: 4.636894226074219\n",
      "Epoch: 40 - D loss: 0.06282443553209305 - G loss: 3.788895606994629\n",
      "Epoch: 41 - D loss: 0.0702953115105629 - G loss: 1.7936760187149048\n",
      "Epoch: 42 - D loss: 0.2564772367477417 - G loss: 3.503059148788452\n",
      "Epoch: 43 - D loss: 0.37227296829223633 - G loss: 3.1173200607299805\n",
      "Epoch: 44 - D loss: 0.095933698117733 - G loss: 4.482231140136719\n",
      "Epoch: 45 - D loss: 0.11657258123159409 - G loss: 6.907041549682617\n",
      "Epoch: 46 - D loss: 0.7027042508125305 - G loss: 2.712125539779663\n",
      "Epoch: 47 - D loss: 0.07444626837968826 - G loss: 1.7899401187896729\n",
      "Epoch: 48 - D loss: 0.07644995301961899 - G loss: 2.907428741455078\n",
      "Epoch: 49 - D loss: 0.028128862380981445 - G loss: 6.1111040115356445\n"
     ]
    }
   ],
   "source": [
    "trainer = Trainner(Generator(), Discriminator(), mnist_dl, device)\n",
    "trainer.train_both(epochs=50, train_gen_every=1, train_dis_every=1)"
   ]
  },
  {
   "cell_type": "code",
   "execution_count": 337,
   "metadata": {},
   "outputs": [
    {
     "data": {
      "image/png": "[encoded data removed]",
      "text/plain": [
       "<Figure size 720x1008 with 30 Axes>"
      ]
     },
     "metadata": {},
     "output_type": "display_data"
    }
   ],
   "source": [
    "selected_epochs = [1, 2, 4, 10, 15, 39]\n",
    "fig = plt.figure(figsize=(10, 14))\n",
    "for i,e in enumerate(selected_epochs):\n",
    "    for j in range(5):\n",
    "        ax = fig.add_subplot(len(selected_epochs), 5, i*5+j+1)\n",
    "        ax.set_xticks([])\n",
    "        ax.set_yticks([])\n",
    "        if j == 0:\n",
    "            ax.text(\n",
    "                -0.06, 0.5, f'Epoch {e}',\n",
    "                rotation=90, size=18, color='red',\n",
    "                horizontalalignment='right',\n",
    "                verticalalignment='center', \n",
    "                transform=ax.transAxes)\n",
    "        \n",
    "        image = epoch_samples[e-1][j]\n",
    "        ax.imshow(image, cmap='gray_r')\n",
    "    \n",
    "# plt.savefig('figures/ch17-dcgan-samples.pdf')\n",
    "plt.show()"
   ]
  },
  {
   "cell_type": "code",
   "execution_count": 395,
   "metadata": {},
   "outputs": [
    {
     "data": {
      "image/png": "[encoded data removed]",
      "text/plain": [
       "<Figure size 360x360 with 3 Axes>"
      ]
     },
     "metadata": {},
     "output_type": "display_data"
    }
   ],
   "source": [
    "\n",
    "z_input = sample_from_latent(3).to(device)\n",
    "fake_imgs = trainer.generator(z_input)\n",
    "img0 = fake_imgs.detach().cpu().numpy()\n",
    "\n",
    "\n",
    "#Show images\n",
    "plt.figure(figsize=(5,5))\n",
    "for i in range(3):\n",
    "    plt.subplot(1,3,i+1)\n",
    "    plt.tight_layout()\n",
    "    plt.imshow(img0[i].reshape(28,28), cmap='binary', interpolation='none')\n",
    "    plt.xticks([])\n",
    "    plt.yticks([])"
   ]
  }
 ],
 "metadata": {
  "kernelspec": {
   "display_name": "Python 3.9.13 ('pytorch')",
   "language": "python",
   "name": "python3"
  },
  "language_info": {
   "codemirror_mode": {
    "name": "ipython",
    "version": 3
   },
   "file_extension": ".py",
   "mimetype": "text/x-python",
   "name": "python",
   "nbconvert_exporter": "python",
   "pygments_lexer": "ipython3",
   "version": "3.9.13"
  },
  "orig_nbformat": 4,
  "vscode": {
   "interpreter": {
    "hash": "6cdbf094c3e2d11b30478a1f6f10290d4ee78e6b46f57992373b88ecd109df83"
   }
  }
 },
 "nbformat": 4,
 "nbformat_minor": 2
}
