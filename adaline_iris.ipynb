{
 "cells": [
  {
   "cell_type": "markdown",
   "metadata": {},
   "source": [
    "#### Adaline (Adaptative Linear Neuron)\n",
    "\n",
    "Adaline is a simple neural model, developed after the MCP Neural model and after Rosenblatt's rule was developed.\n",
    "\n",
    "![Image that shows Adaline Model](img/adaline.jpeg \"Adaline\")\n",
    "<style type=\"text/css\">\n",
    "    img {\n",
    "        width: 350px;\n",
    "    }\n",
    "</style>\n",
    "\n",
    "Adaline was the first neural model to use the derivative of a linear function as part of the learning algorithm."
   ]
  },
  {
   "cell_type": "code",
   "execution_count": 1,
   "metadata": {},
   "outputs": [],
   "source": [
    "import numpy as np\n",
    "from numpy.random import RandomState\n",
    "\n",
    "class Adaline:\n",
    "    \"\"\"ADAptive LInear NEuron classifier.\n",
    "    \"\"\"\n",
    "\n",
    "    def __init__(self, eta=0.01, n_iter=50, random_state=1):\n",
    "        self.eta = eta # Learning rate\n",
    "        self.n_iter = n_iter\n",
    "        self.w = None\n",
    "        self.b = None\n",
    "        self.rgen = RandomState(random_state)\n",
    "        self.errors = []\n",
    "    \n",
    "    def predict(self, X):\n",
    "        z = self.net_input(X)\n",
    "        y = self.activation(z)\n",
    "        return np.where(y >= 0.5, 1, 0)\n",
    "\n",
    "    def net_input(self, X):\n",
    "        return np.dot(X, self.w) + self.b    \n",
    "\n",
    "    def activation(self, X):\n",
    "        return X    \n",
    "\n",
    "    def fit(self, X, y_true):\n",
    "        if self.w is None:\n",
    "            self.w = self.rgen.normal(loc=0.0, scale=0.01, size=X.shape[1])\n",
    "            self.b = self.rgen.normal(loc=0.0, scale=0.01)\n",
    "\n",
    "        #Use Batch gradient descent\n",
    "        for _ in range(self.n_iter):\n",
    "            output = self.activation(self.net_input(X))\n",
    "            errors = (y_true - output)\n",
    "\n",
    "            delta_w = self.eta * np.float_(2.0) * np.dot(X.T, errors) / X.shape[0]\n",
    "            delta_b = self.eta * np.float_(2.0) * errors.mean()\n",
    "            \n",
    "            self.w += delta_w\n",
    "            self.b += delta_b\n",
    "\n",
    "            loss = (errors**2).mean()\n",
    "            self.errors.append(loss)\n"
   ]
  },
  {
   "cell_type": "markdown",
   "metadata": {},
   "source": [
    "#### Load and Prepare Data from Iris Dataset"
   ]
  },
  {
   "cell_type": "code",
   "execution_count": 2,
   "metadata": {},
   "outputs": [],
   "source": [
    "from sklearn.datasets import load_iris\n",
    "iris = load_iris(as_frame=True)\n",
    "data = iris.data\n",
    "data['target'] = iris.target\n",
    "#filter out the setosa\n",
    "data = data[data['target'] != 2]\n",
    "\n",
    "y = data['target'].to_numpy()\n",
    "X = data.drop(['target'], axis=1).to_numpy()\n",
    "\n",
    "#Standarise the data\n",
    "X_std = np.copy(X)\n",
    "X_std[:, 0] = (X[:, 0] - X[:, 0].mean()) / X[:, 0].std()\n",
    "X_std[:, 1] = (X[:, 1] - X[:, 1].mean()) / X[:, 1].std()\n",
    "X_std[:, 2] = (X[:, 2] - X[:, 2].mean()) / X[:, 2].std()\n",
    "X_std[:, 3] = (X[:, 3] - X[:, 3].mean()) / X[:, 3].std()\n"
   ]
  },
  {
   "cell_type": "markdown",
   "metadata": {},
   "source": [
    "#### Train the model with the Iris dataset to view the learning curve"
   ]
  },
  {
   "cell_type": "code",
   "execution_count": 3,
   "metadata": {},
   "outputs": [],
   "source": [
    "adaline = Adaline(eta=0.01, n_iter=100, random_state=1)\n",
    "adaline.fit(X_std, y);"
   ]
  },
  {
   "cell_type": "code",
   "execution_count": 4,
   "metadata": {},
   "outputs": [
    {
     "data": {
      "image/png": "[encoded data removed]",
      "text/plain": [
       "<Figure size 432x288 with 1 Axes>"
      ]
     },
     "metadata": {
      "needs_background": "light"
     },
     "output_type": "display_data"
    }
   ],
   "source": [
    "#Plot the error curve\n",
    "import matplotlib.pyplot as plt\n",
    "plt.plot(range(1, len(adaline.errors) + 1), adaline.errors, marker='o')\n",
    "plt.xlabel('Epochs')\n",
    "plt.ylabel('Error')\n",
    "plt.show();"
   ]
  },
  {
   "cell_type": "code",
   "execution_count": 5,
   "metadata": {},
   "outputs": [
    {
     "data": {
      "image/png": "[encoded data removed]",
      "text/plain": [
       "<Figure size 432x288 with 1 Axes>"
      ]
     },
     "metadata": {
      "needs_background": "light"
     },
     "output_type": "display_data"
    }
   ],
   "source": [
    "import matplotlib.pyplot as plt\n",
    "plt.scatter(X_std[:, 0], X_std[:, 1], c=y);"
   ]
  },
  {
   "cell_type": "markdown",
   "metadata": {},
   "source": [
    "#### Train and evaluate the Adaline model"
   ]
  },
  {
   "cell_type": "code",
   "execution_count": 71,
   "metadata": {},
   "outputs": [],
   "source": [
    "# Split the data into training and test sets\n",
    "from sklearn.model_selection import train_test_split\n",
    "X_train, X_test, y_train, y_test = train_test_split(X_std, y, test_size=0.15, random_state=1)"
   ]
  },
  {
   "cell_type": "code",
   "execution_count": 110,
   "metadata": {},
   "outputs": [],
   "source": [
    "adaline = Adaline(eta=0.01, n_iter=100, random_state=1)\n",
    "adaline.fit(X_train, y_train);"
   ]
  },
  {
   "cell_type": "code",
   "execution_count": 111,
   "metadata": {},
   "outputs": [
    {
     "name": "stdout",
     "output_type": "stream",
     "text": [
      "              precision    recall  f1-score   support\n",
      "\n",
      "  versicolor       1.00      1.00      1.00         4\n",
      "   virginica       1.00      1.00      1.00        11\n",
      "\n",
      "    accuracy                           1.00        15\n",
      "   macro avg       1.00      1.00      1.00        15\n",
      "weighted avg       1.00      1.00      1.00        15\n",
      "\n"
     ]
    }
   ],
   "source": [
    "from sklearn.metrics import classification_report\n",
    "y_pred = adaline.predict(X_test)\n",
    "print(classification_report(y_test, y_pred, target_names=['versicolor', 'virginica']))"
   ]
  },
  {
   "cell_type": "code",
   "execution_count": null,
   "metadata": {},
   "outputs": [],
   "source": []
  }
 ],
 "metadata": {
  "kernelspec": {
   "display_name": "Python 3.9.13 ('pytorch')",
   "language": "python",
   "name": "python3"
  },
  "language_info": {
   "codemirror_mode": {
    "name": "ipython",
    "version": 3
   },
   "file_extension": ".py",
   "mimetype": "text/x-python",
   "name": "python",
   "nbconvert_exporter": "python",
   "pygments_lexer": "ipython3",
   "version": "3.9.13 | packaged by conda-forge | (main, May 27 2022, 16:56:21) \n[GCC 10.3.0]"
  },
  "orig_nbformat": 4,
  "vscode": {
   "interpreter": {
    "hash": "6cdbf094c3e2d11b30478a1f6f10290d4ee78e6b46f57992373b88ecd109df83"
   }
  }
 },
 "nbformat": 4,
 "nbformat_minor": 2
}
