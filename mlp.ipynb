{
 "cells": [
  {
   "cell_type": "markdown",
   "metadata": {
    "collapsed": false,
    "pycharm": {
     "name": "#%% md\n"
    }
   },
   "source": [
    "#### Hand Made Multi Layer Perceptron\n",
    "In this notebook we use a hand made multi layer perceptron to predict the class of a given number in MNIST dataset.\n",
    "We use only numpy and implement from scratch the MLP and the forward and backward propagation.\n",
    "The code of the MLP is in the file mlp.py.\n"
   ]
  },
  {
   "cell_type": "code",
   "execution_count": 1,
   "metadata": {
    "collapsed": false,
    "pycharm": {
     "name": "#%%\n"
    }
   },
   "outputs": [],
   "source": [
    "import importlib\n",
    "import mlp\n",
    "importlib.reload(mlp)\n",
    "from mlp import NeuralNetMLP, prepare_dataset\n",
    "from sklearn.datasets import fetch_openml\n",
    "import numpy as np\n"
   ]
  },
  {
   "cell_type": "code",
   "execution_count": 3,
   "metadata": {
    "collapsed": false,
    "pycharm": {
     "name": "#%%\n"
    }
   },
   "outputs": [],
   "source": [
    "# Fetch mnist dataset\n",
    "X, y = fetch_openml('mnist_784', version=1, return_X_y=True)"
   ]
  },
  {
   "cell_type": "code",
   "execution_count": 4,
   "metadata": {
    "collapsed": false,
    "pycharm": {
     "name": "#%%\n"
    }
   },
   "outputs": [],
   "source": [
    "X_train, X_val, X_test, y_train, y_val, y_test = prepare_dataset(X, y.astype(np.int32))"
   ]
  },
  {
   "cell_type": "markdown",
   "metadata": {
    "collapsed": false,
    "pycharm": {
     "name": "#%% md\n"
    }
   },
   "source": [
    "#### Instantiate the hand made neural network\n",
    "This is a simple neural network with only one hidden layer and a 10 units output layer, using sigmoid activation function for both layers.\n",
    "We use 784 input units and 10 output units. The hidden layer has also 784 units."
   ]
  },
  {
   "cell_type": "code",
   "execution_count": 73,
   "metadata": {
    "collapsed": false,
    "pycharm": {
     "name": "#%%\n"
    }
   },
   "outputs": [],
   "source": [
    "mlp = NeuralNetMLP(n_hidden=784, number_classes=10, number_features=784, lr=0.1)"
   ]
  },
  {
   "cell_type": "markdown",
   "metadata": {
    "collapsed": false,
    "pycharm": {
     "name": "#%% md\n"
    }
   },
   "source": [
    "#### Get base accuracy and loss\n",
    "This is the base accuracy and loss of the neural network before training."
   ]
  },
  {
   "cell_type": "code",
   "execution_count": 79,
   "metadata": {
    "collapsed": false,
    "pycharm": {
     "name": "#%%\n"
    }
   },
   "outputs": [
    {
     "name": "stdout",
     "output_type": "stream",
     "text": [
      "Validation loss: 0.29\n",
      "Validation accuracy: 9.68%\n"
     ]
    }
   ],
   "source": [
    "val_loss, val_acc = mlp.score(X_val, y_val)\n",
    "print(\"Validation loss: %.2f\" % val_loss)\n",
    "print(\"Validation accuracy: %.2f%%\" % (val_acc*100))"
   ]
  },
  {
   "cell_type": "markdown",
   "metadata": {
    "collapsed": false,
    "pycharm": {
     "name": "#%% md\n"
    }
   },
   "source": [
    "#### Train the neural network\n",
    "This is the training of the neural network. We measure the time it takes to train the neural network. This hand made neural network is trained for 100 epochs, note that it is highly inefficient because we are using cpus to train the neural network."
   ]
  },
  {
   "cell_type": "code",
   "execution_count": 80,
   "metadata": {
    "collapsed": false,
    "pycharm": {
     "name": "#%%\n"
    }
   },
   "outputs": [
    {
     "name": "stdout",
     "output_type": "stream",
     "text": [
      "Performing epoch number:  0\n",
      "Epoch: 001/040 | Train MSE: 0.03 | Train Acc: 0.87% | Val MSE: 0.03 | Valid Acc: 0.87%\n",
      "Performing epoch number:  1\n",
      "Epoch: 002/040 | Train MSE: 0.02 | Train Acc: 0.89% | Val MSE: 0.02 | Valid Acc: 0.90%\n",
      "Performing epoch number:  2\n",
      "Epoch: 003/040 | Train MSE: 0.02 | Train Acc: 0.90% | Val MSE: 0.02 | Valid Acc: 0.90%\n",
      "Performing epoch number:  3\n",
      "Epoch: 004/040 | Train MSE: 0.02 | Train Acc: 0.91% | Val MSE: 0.02 | Valid Acc: 0.91%\n",
      "Performing epoch number:  4\n",
      "Epoch: 005/040 | Train MSE: 0.02 | Train Acc: 0.92% | Val MSE: 0.02 | Valid Acc: 0.92%\n",
      "Performing epoch number:  5\n",
      "Epoch: 006/040 | Train MSE: 0.02 | Train Acc: 0.92% | Val MSE: 0.02 | Valid Acc: 0.92%\n",
      "Performing epoch number:  6\n",
      "Epoch: 007/040 | Train MSE: 0.01 | Train Acc: 0.92% | Val MSE: 0.01 | Valid Acc: 0.92%\n",
      "Performing epoch number:  7\n",
      "Epoch: 008/040 | Train MSE: 0.01 | Train Acc: 0.93% | Val MSE: 0.01 | Valid Acc: 0.93%\n",
      "Performing epoch number:  8\n",
      "Epoch: 009/040 | Train MSE: 0.01 | Train Acc: 0.93% | Val MSE: 0.01 | Valid Acc: 0.93%\n",
      "Performing epoch number:  9\n",
      "Epoch: 010/040 | Train MSE: 0.01 | Train Acc: 0.93% | Val MSE: 0.01 | Valid Acc: 0.93%\n",
      "Performing epoch number:  10\n",
      "Epoch: 011/040 | Train MSE: 0.01 | Train Acc: 0.93% | Val MSE: 0.01 | Valid Acc: 0.94%\n",
      "Performing epoch number:  11\n",
      "Epoch: 012/040 | Train MSE: 0.01 | Train Acc: 0.94% | Val MSE: 0.01 | Valid Acc: 0.94%\n",
      "Performing epoch number:  12\n",
      "Epoch: 013/040 | Train MSE: 0.01 | Train Acc: 0.94% | Val MSE: 0.01 | Valid Acc: 0.94%\n",
      "Performing epoch number:  13\n",
      "Epoch: 014/040 | Train MSE: 0.01 | Train Acc: 0.94% | Val MSE: 0.01 | Valid Acc: 0.94%\n",
      "Performing epoch number:  14\n",
      "Epoch: 015/040 | Train MSE: 0.01 | Train Acc: 0.94% | Val MSE: 0.01 | Valid Acc: 0.95%\n",
      "Performing epoch number:  15\n",
      "Epoch: 016/040 | Train MSE: 0.01 | Train Acc: 0.94% | Val MSE: 0.01 | Valid Acc: 0.95%\n",
      "Performing epoch number:  16\n",
      "Epoch: 017/040 | Train MSE: 0.01 | Train Acc: 0.95% | Val MSE: 0.01 | Valid Acc: 0.95%\n",
      "Performing epoch number:  17\n",
      "Epoch: 018/040 | Train MSE: 0.01 | Train Acc: 0.95% | Val MSE: 0.01 | Valid Acc: 0.95%\n",
      "Performing epoch number:  18\n",
      "Epoch: 019/040 | Train MSE: 0.01 | Train Acc: 0.95% | Val MSE: 0.01 | Valid Acc: 0.95%\n",
      "Performing epoch number:  19\n",
      "Epoch: 020/040 | Train MSE: 0.01 | Train Acc: 0.95% | Val MSE: 0.01 | Valid Acc: 0.95%\n",
      "Performing epoch number:  20\n",
      "Epoch: 021/040 | Train MSE: 0.01 | Train Acc: 0.95% | Val MSE: 0.01 | Valid Acc: 0.95%\n",
      "Performing epoch number:  21\n",
      "Epoch: 022/040 | Train MSE: 0.01 | Train Acc: 0.95% | Val MSE: 0.01 | Valid Acc: 0.95%\n",
      "Performing epoch number:  22\n",
      "Epoch: 023/040 | Train MSE: 0.01 | Train Acc: 0.95% | Val MSE: 0.01 | Valid Acc: 0.95%\n",
      "Performing epoch number:  23\n",
      "Epoch: 024/040 | Train MSE: 0.01 | Train Acc: 0.95% | Val MSE: 0.01 | Valid Acc: 0.95%\n",
      "Performing epoch number:  24\n",
      "Epoch: 025/040 | Train MSE: 0.01 | Train Acc: 0.95% | Val MSE: 0.01 | Valid Acc: 0.95%\n",
      "Performing epoch number:  25\n",
      "Epoch: 026/040 | Train MSE: 0.01 | Train Acc: 0.96% | Val MSE: 0.01 | Valid Acc: 0.96%\n",
      "Performing epoch number:  26\n",
      "Epoch: 027/040 | Train MSE: 0.01 | Train Acc: 0.96% | Val MSE: 0.01 | Valid Acc: 0.96%\n",
      "Performing epoch number:  27\n",
      "Epoch: 028/040 | Train MSE: 0.01 | Train Acc: 0.96% | Val MSE: 0.01 | Valid Acc: 0.96%\n",
      "Performing epoch number:  28\n",
      "Epoch: 029/040 | Train MSE: 0.01 | Train Acc: 0.96% | Val MSE: 0.01 | Valid Acc: 0.96%\n",
      "Performing epoch number:  29\n",
      "Epoch: 030/040 | Train MSE: 0.01 | Train Acc: 0.96% | Val MSE: 0.01 | Valid Acc: 0.96%\n",
      "Performing epoch number:  30\n",
      "Epoch: 031/040 | Train MSE: 0.01 | Train Acc: 0.96% | Val MSE: 0.01 | Valid Acc: 0.96%\n",
      "Performing epoch number:  31\n",
      "Epoch: 032/040 | Train MSE: 0.01 | Train Acc: 0.96% | Val MSE: 0.01 | Valid Acc: 0.96%\n",
      "Performing epoch number:  32\n",
      "Epoch: 033/040 | Train MSE: 0.01 | Train Acc: 0.96% | Val MSE: 0.01 | Valid Acc: 0.96%\n",
      "Performing epoch number:  33\n",
      "Epoch: 034/040 | Train MSE: 0.01 | Train Acc: 0.96% | Val MSE: 0.01 | Valid Acc: 0.96%\n",
      "Performing epoch number:  34\n",
      "Epoch: 035/040 | Train MSE: 0.01 | Train Acc: 0.96% | Val MSE: 0.01 | Valid Acc: 0.96%\n",
      "Performing epoch number:  35\n",
      "Epoch: 036/040 | Train MSE: 0.01 | Train Acc: 0.97% | Val MSE: 0.01 | Valid Acc: 0.96%\n",
      "Performing epoch number:  36\n",
      "Epoch: 037/040 | Train MSE: 0.01 | Train Acc: 0.97% | Val MSE: 0.01 | Valid Acc: 0.96%\n",
      "Performing epoch number:  37\n",
      "Epoch: 038/040 | Train MSE: 0.01 | Train Acc: 0.97% | Val MSE: 0.01 | Valid Acc: 0.96%\n",
      "Performing epoch number:  38\n",
      "Epoch: 039/040 | Train MSE: 0.01 | Train Acc: 0.97% | Val MSE: 0.01 | Valid Acc: 0.96%\n",
      "Performing epoch number:  39\n",
      "Epoch: 040/040 | Train MSE: 0.01 | Train Acc: 0.97% | Val MSE: 0.01 | Valid Acc: 0.97%\n",
      "Training time: 409.87 Segs\n"
     ]
    }
   ],
   "source": [
    "# Measure the time it takes to train the neural network\n",
    "import time\n",
    "start = time.time()\n",
    "train_losses, train_accs, val_losses, val_accs = mlp.fit(X_train, y_train, X_val, y_val, epochs=40, batch_size=128)\n",
    "end = time.time()\n",
    "print(\"Training time: %.2f Segs\" % (end - start))\n"
   ]
  },
  {
   "cell_type": "code",
   "execution_count": 81,
   "metadata": {
    "collapsed": false,
    "pycharm": {
     "name": "#%%\n"
    }
   },
   "outputs": [
    {
     "name": "stdout",
     "output_type": "stream",
     "text": [
      "Train loss: 0.01\n",
      "Train accuracy: 96.78%\n",
      "Validation loss: 0.01\n",
      "Validation accuracy: 96.56%\n",
      "Test loss: 0.01\n",
      "Test accuracy: 95.93%\n"
     ]
    }
   ],
   "source": [
    "# Get score on the different sets\n",
    "train_loss, train_acc = mlp.score(X_train, y_train)\n",
    "val_loss, val_acc = mlp.score(X_val, y_val)\n",
    "test_loss, test_acc = mlp.score(X_test, y_test)\n",
    "\n",
    "#Pretty print the results on a table\n",
    "print(\"Train loss: %.2f\" % train_loss)\n",
    "print(\"Train accuracy: %.2f%%\" % (train_acc*100))\n",
    "print(\"Validation loss: %.2f\" % val_loss)\n",
    "print(\"Validation accuracy: %.2f%%\" % (val_acc*100))\n",
    "print(\"Test loss: %.2f\" % test_loss)\n",
    "print(\"Test accuracy: %.2f%%\" % (test_acc*100))"
   ]
  },
  {
   "cell_type": "code",
   "execution_count": 87,
   "metadata": {
    "collapsed": false,
    "pycharm": {
     "name": "#%%\n"
    }
   },
   "outputs": [
    {
     "data": {
      "image/png": "[encoded data removed]",
      "text/plain": [
       "<Figure size 432x288 with 1 Axes>"
      ]
     },
     "metadata": {
      "needs_background": "light"
     },
     "output_type": "display_data"
    },
    {
     "data": {
      "image/png": "[encoded data removed]",
      "text/plain": [
       "<Figure size 432x288 with 1 Axes>"
      ]
     },
     "metadata": {
      "needs_background": "light"
     },
     "output_type": "display_data"
    }
   ],
   "source": [
    "# Plot the loss and accuracy on the training and validation sets\n",
    "import matplotlib.pyplot as plt\n",
    "plt.plot(train_losses, label='Training loss')\n",
    "plt.plot(val_losses, label='Validation loss')\n",
    "plt.legend()\n",
    "plt.show()\n",
    "plt.plot(train_accs, label='Training accuracy')\n",
    "plt.plot(val_accs, label='Validation accuracy')\n",
    "plt.legend()\n",
    "plt.show()"
   ]
  },
  {
   "cell_type": "code",
   "execution_count": null,
   "metadata": {
    "collapsed": false,
    "pycharm": {
     "name": "#%%\n"
    }
   },
   "outputs": [],
   "source": []
  }
 ],
 "metadata": {
  "kernelspec": {
   "display_name": "Python 3.9.13 ('pytorch')",
   "language": "python",
   "name": "python3"
  },
  "language_info": {
   "codemirror_mode": {
    "name": "ipython",
    "version": 3
   },
   "file_extension": ".py",
   "mimetype": "text/x-python",
   "name": "python",
   "nbconvert_exporter": "python",
   "pygments_lexer": "ipython3",
   "version": "3.9.13"
  },
  "vscode": {
   "interpreter": {
    "hash": "6cdbf094c3e2d11b30478a1f6f10290d4ee78e6b46f57992373b88ecd109df83"
   }
  }
 },
 "nbformat": 4,
 "nbformat_minor": 0
}
