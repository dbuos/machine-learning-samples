{
 "cells": [
  {
   "cell_type": "markdown",
   "metadata": {},
   "source": [
    "#### Simple CNN for image classification"
   ]
  },
  {
   "cell_type": "code",
   "execution_count": 15,
   "metadata": {},
   "outputs": [],
   "source": [
    "import torch\n",
    "from torch import nn"
   ]
  },
  {
   "cell_type": "code",
   "execution_count": 8,
   "metadata": {},
   "outputs": [],
   "source": [
    "\n",
    "def create_model(img_channels = 3):\n",
    "    model = nn.Sequential()\n",
    "    model.add_module('conv0', nn.Conv2d(in_channels=img_channels, out_channels=16, kernel_size=5, padding='same'))\n",
    "    model.add_module('relu0', nn.ReLU())\n",
    "    model.add_module('pool0', nn.MaxPool2d(kernel_size=2))\n",
    "\n",
    "    model.add_module('conv1', nn.Conv2d(in_channels=16, out_channels=32, kernel_size=5, padding='same'))\n",
    "    model.add_module('relu1', nn.ReLU())\n",
    "    model.add_module('pool1', nn.MaxPool2d(kernel_size=2))\n",
    "\n",
    "    model.add_module('conv2', nn.Conv2d(in_channels=32, out_channels=64, kernel_size=5, padding='same'))\n",
    "    model.add_module('relu2', nn.ReLU())\n",
    "    model.add_module('pool2', nn.MaxPool2d(kernel_size=2))\n",
    "\n",
    "    model.add_module('flatten', nn.Flatten())\n",
    "    model.add_module('ln0', nn.Linear(4096, out_features=1024))\n",
    "    model.add_module('relu4', nn.ReLU())\n",
    "    model.add_module('ln1', nn.Linear(1024, out_features=10))\n",
    "    return model\n"
   ]
  },
  {
   "cell_type": "markdown",
   "metadata": {},
   "source": [
    "### Load and prepare an image dataset"
   ]
  },
  {
   "cell_type": "code",
   "execution_count": 23,
   "metadata": {
    "pycharm": {
     "name": "#%%\n"
    }
   },
   "outputs": [],
   "source": [
    "from torchvision import datasets, transforms\n",
    "from torch.utils.data import DataLoader, Subset, Dataset\n",
    "image_path = './data/eurosat'\n",
    "transform = transforms.Compose([transforms.ToTensor(), transforms.Normalize((0, 0, 0), (0.5, 0.5, 0.5))])\n",
    "eurosat_dataset = datasets.EuroSAT(root=image_path, transform=transform, download=True)\n",
    "\n",
    "#Randomize the dataset\n",
    "torch.manual_seed(1)\n",
    "train_len = int(0.85 * len(eurosat_dataset)) - int(0.85 * len(eurosat_dataset) * 0.2)\n",
    "valid_len = int(0.85 * len(eurosat_dataset) * 0.2)\n",
    "test_len = len(eurosat_dataset) - train_len - valid_len\n",
    "train_dataset, test_dataset, valid_dataset = torch.utils.data.random_split(eurosat_dataset, [train_len, valid_len, test_len])\n",
    "\n",
    "#Create DataLoaders\n",
    "batch_size = 128\n",
    "train_loader = DataLoader(train_dataset, batch_size=batch_size, shuffle=True, num_workers=20)\n",
    "valid_loader = DataLoader(valid_dataset, batch_size=batch_size, shuffle=False, num_workers=20)\n",
    "test_loader = DataLoader(test_dataset, batch_size=batch_size, shuffle=True, num_workers=20)\n"
   ]
  },
  {
   "cell_type": "markdown",
   "metadata": {
    "pycharm": {
     "name": "#%% md\n"
    }
   },
   "source": [
    "#### Create the training loop function"
   ]
  },
  {
   "cell_type": "code",
   "execution_count": 10,
   "metadata": {
    "pycharm": {
     "name": "#%%\n"
    }
   },
   "outputs": [],
   "source": [
    "def train(model, epochs, train_dl, valid_dl, gpu=False):\n",
    "    if gpu:\n",
    "        model.cuda()\n",
    "    else:\n",
    "        model.cpu()\n",
    "\n",
    "    loss_fn = nn.CrossEntropyLoss()\n",
    "    optimizer = torch.optim.Adam(model.parameters(), lr=0.001)\n",
    "    loss_hist_train = [0] * epochs\n",
    "    accuracy_hist_train = [0] * epochs\n",
    "\n",
    "    loss_hist_valid = [0] * epochs\n",
    "    accuracy_hist_valid = [0] * epochs\n",
    "\n",
    "    for epoch in range(epochs):\n",
    "        model.train()\n",
    "        for x_batch, y_batch in train_dl:\n",
    "            if gpu:\n",
    "                x_batch = x_batch.cuda()\n",
    "                y_batch = y_batch.cuda()\n",
    "            pred = model(x_batch)\n",
    "            loss = loss_fn(pred, y_batch)\n",
    "            \n",
    "            loss.backward() #Calculate tensor gradients with backpropagation\n",
    "            optimizer.step() #Apply updates to weights using the optimizer gradient descent specif impl algorithm\n",
    "            optimizer.zero_grad() #Reset the gradients for the next iteration\n",
    "            \n",
    "            #Calculate and save matrics\n",
    "            loss_hist_train[epoch] += loss.item() * y_batch.size(0) #Add the loss to the loss history\n",
    "            is_correct = (torch.argmax(pred, dim=1) == y_batch).cpu().float()\n",
    "            accuracy_hist_train[epoch] += is_correct.sum()\n",
    "\n",
    "        loss_hist_train[epoch] /= train_len\n",
    "        accuracy_hist_train[epoch] /= train_len\n",
    "\n",
    "        model.eval() #Set the model to evaluation mode\n",
    "        with torch.no_grad(): #Turn off gradients\n",
    "            for x_batch, y_batch in valid_dl:\n",
    "                if gpu:\n",
    "                    x_batch = x_batch.cuda()\n",
    "                    y_batch = y_batch.cuda()\n",
    "                pred = model(x_batch)\n",
    "                loss = loss_fn(pred, y_batch)\n",
    "                loss_hist_valid[epoch] += (loss.item() * y_batch.size(0))\n",
    "                is_correct = (torch.argmax(pred, dim=1) == y_batch).cpu().float()\n",
    "                accuracy_hist_valid[epoch] += is_correct.sum()\n",
    "            loss_hist_valid[epoch] /= valid_len\n",
    "            accuracy_hist_valid[epoch] /= valid_len\n",
    "        print(f'Epoch {epoch+1}/{epochs} accuracy: {accuracy_hist_train[epoch]:4f} valid_accuracy: {accuracy_hist_valid[epoch]:4f}')\n",
    "    return loss_hist_train, accuracy_hist_train, loss_hist_valid, accuracy_hist_valid"
   ]
  },
  {
   "cell_type": "code",
   "execution_count": 11,
   "metadata": {
    "pycharm": {
     "name": "#%%\n"
    }
   },
   "outputs": [],
   "source": [
    "def evaluate_model(model, data_loader, gpu=False):\n",
    "    if gpu:\n",
    "        model.cuda()\n",
    "    else:\n",
    "        model.cpu()    \n",
    "    model.eval()\n",
    "    y_list = []\n",
    "    pred_list = []\n",
    "    for x_batch, y_batch in data_loader:\n",
    "        if gpu:\n",
    "            x_batch = x_batch.cuda()\n",
    "        pred = model(x_batch)\n",
    "        pred_list.append(torch.argmax(pred, dim=1).cpu())\n",
    "        y_list.append(y_batch)\n",
    "    preds = torch.cat(pred_list, dim=0)\n",
    "    y_true = torch.cat(y_list, dim=0)    \n",
    "    #Calculate the accuracy\n",
    "    is_correct = (preds == y_true).float()\n",
    "    accuracy = is_correct.sum() / is_correct.numel()\n",
    "    print(f'Accuracy: {accuracy:4f}')\n",
    "    return accuracy"
   ]
  },
  {
   "cell_type": "code",
   "execution_count": 22,
   "metadata": {
    "pycharm": {
     "name": "#%%\n"
    }
   },
   "outputs": [
    {
     "name": "stdout",
     "output_type": "stream",
     "text": [
      "Epoch 1/20 accuracy: 0.553050 valid_accuracy: 0.587582\n",
      "Epoch 2/20 accuracy: 0.719172 valid_accuracy: 0.654902\n",
      "Epoch 3/20 accuracy: 0.752941 valid_accuracy: 0.689325\n",
      "Epoch 4/20 accuracy: 0.797168 valid_accuracy: 0.699346\n",
      "Epoch 5/20 accuracy: 0.818736 valid_accuracy: 0.671024\n",
      "Epoch 6/20 accuracy: 0.844826 valid_accuracy: 0.738998\n",
      "Epoch 7/20 accuracy: 0.864651 valid_accuracy: 0.730065\n",
      "Epoch 8/20 accuracy: 0.888726 valid_accuracy: 0.743137\n",
      "Epoch 9/20 accuracy: 0.906808 valid_accuracy: 0.740523\n",
      "Epoch 10/20 accuracy: 0.916939 valid_accuracy: 0.741394\n",
      "Epoch 11/20 accuracy: 0.933769 valid_accuracy: 0.723529\n",
      "Epoch 12/20 accuracy: 0.951035 valid_accuracy: 0.729412\n",
      "Epoch 13/20 accuracy: 0.963344 valid_accuracy: 0.725054\n",
      "Epoch 14/20 accuracy: 0.960185 valid_accuracy: 0.747277\n",
      "Epoch 15/20 accuracy: 0.975000 valid_accuracy: 0.739434\n",
      "Epoch 16/20 accuracy: 0.968355 valid_accuracy: 0.741830\n",
      "Epoch 17/20 accuracy: 0.976797 valid_accuracy: 0.741612\n",
      "Epoch 18/20 accuracy: 0.977887 valid_accuracy: 0.732680\n",
      "Epoch 19/20 accuracy: 0.980174 valid_accuracy: 0.728758\n",
      "Epoch 20/20 accuracy: 0.981427 valid_accuracy: 0.744009\n",
      "Time to train: 43.61487913131714\n"
     ]
    }
   ],
   "source": [
    "gpu_model = create_model()\n",
    "\n",
    "#Measure the time it takes to train the model\n",
    "import time\n",
    "start = time.time()\n",
    "loss_hist_train, accuracy_hist_train, loss_hist_valid, accuracy_hist_valid = train(gpu_model, epochs=20, train_dl=train_loader, valid_dl=valid_loader, gpu=True)\n",
    "end = time.time()\n",
    "print(f'Time to train: {end-start}')"
   ]
  },
  {
   "cell_type": "code",
   "execution_count": 24,
   "metadata": {
    "pycharm": {
     "name": "#%%\n"
    }
   },
   "outputs": [
    {
     "name": "stdout",
     "output_type": "stream",
     "text": [
      "Epoch 1/20 accuracy: 0.484641 valid_accuracy: 0.538126\n",
      "Epoch 2/20 accuracy: 0.695752 valid_accuracy: 0.636601\n",
      "Epoch 3/20 accuracy: 0.732516 valid_accuracy: 0.607190\n",
      "Epoch 4/20 accuracy: 0.764434 valid_accuracy: 0.681699\n",
      "Epoch 5/20 accuracy: 0.797930 valid_accuracy: 0.700871\n",
      "Epoch 6/20 accuracy: 0.803649 valid_accuracy: 0.703050\n",
      "Epoch 7/20 accuracy: 0.822821 valid_accuracy: 0.730719\n",
      "Epoch 8/20 accuracy: 0.845152 valid_accuracy: 0.705229\n",
      "Epoch 9/20 accuracy: 0.861874 valid_accuracy: 0.688671\n",
      "Epoch 10/20 accuracy: 0.873747 valid_accuracy: 0.707843\n",
      "Epoch 11/20 accuracy: 0.884205 valid_accuracy: 0.738998\n",
      "Epoch 12/20 accuracy: 0.908606 valid_accuracy: 0.726144\n",
      "Epoch 13/20 accuracy: 0.910185 valid_accuracy: 0.740523\n",
      "Epoch 14/20 accuracy: 0.936275 valid_accuracy: 0.735512\n",
      "Epoch 15/20 accuracy: 0.947059 valid_accuracy: 0.750980\n",
      "Epoch 16/20 accuracy: 0.957244 valid_accuracy: 0.742484\n",
      "Epoch 17/20 accuracy: 0.963943 valid_accuracy: 0.742919\n",
      "Epoch 18/20 accuracy: 0.968736 valid_accuracy: 0.743137\n",
      "Epoch 19/20 accuracy: 0.959423 valid_accuracy: 0.717865\n",
      "Epoch 20/20 accuracy: 0.973693 valid_accuracy: 0.713072\n",
      "Time to train: 271.25687432289124\n"
     ]
    }
   ],
   "source": [
    "cpu_model = create_model()\n",
    "\n",
    "#Measure the time it takes to train the model\n",
    "import time\n",
    "start = time.time()\n",
    "loss_hist_train, accuracy_hist_train, loss_hist_valid, accuracy_hist_valid = train(cpu_model, epochs=20, train_dl=train_loader, valid_dl=valid_loader, gpu=False)\n",
    "end = time.time()\n",
    "print(f'Time to train: {end-start}')"
   ]
  },
  {
   "cell_type": "code",
   "execution_count": null,
   "metadata": {
    "pycharm": {
     "name": "#%%\n"
    }
   },
   "outputs": [],
   "source": [
    "import matplotlib.pyplot as plt\n",
    "#Plot the loss\n",
    "plt.plot(loss_hist_train, label='Training Loss')\n",
    "plt.plot(loss_hist_valid, label='Validation Loss')\n",
    "plt.legend()\n",
    "plt.show()\n"
   ]
  },
  {
   "cell_type": "code",
   "execution_count": null,
   "metadata": {
    "pycharm": {
     "name": "#%%\n"
    }
   },
   "outputs": [],
   "source": [
    "evaluate_model(gpu_model, test_loader, gpu=True)"
   ]
  },
  {
   "cell_type": "code",
   "execution_count": null,
   "metadata": {
    "pycharm": {
     "name": "#%%\n"
    }
   },
   "outputs": [],
   "source": [
    "evaluate_model(cpu_model, test_loader, gpu=False)"
   ]
  },
  {
   "cell_type": "code",
   "execution_count": 13,
   "metadata": {
    "pycharm": {
     "name": "#%%\n"
    }
   },
   "outputs": [],
   "source": [
    "import pytorch_lightning as pl\n",
    "loss_fn = nn.CrossEntropyLoss()\n",
    "class ClsModel(pl.LightningModule):\n",
    "    def __init__(self, img_channels=3) -> None:\n",
    "        super().__init__()\n",
    "        model = nn.Sequential()\n",
    "        model.add_module('conv0', nn.Conv2d(in_channels=img_channels, out_channels=16, kernel_size=5, padding='same'))\n",
    "        model.add_module('relu0', nn.ReLU())\n",
    "        model.add_module('pool0', nn.MaxPool2d(kernel_size=2))\n",
    "\n",
    "        model.add_module('conv1', nn.Conv2d(in_channels=16, out_channels=32, kernel_size=5, padding='same'))\n",
    "        model.add_module('relu1', nn.ReLU())\n",
    "        model.add_module('pool1', nn.MaxPool2d(kernel_size=2))\n",
    "\n",
    "        model.add_module('conv2', nn.Conv2d(in_channels=32, out_channels=64, kernel_size=5, padding='same'))\n",
    "        model.add_module('relu2', nn.ReLU())\n",
    "        model.add_module('pool2', nn.MaxPool2d(kernel_size=2))\n",
    "\n",
    "        model.add_module('flatten', nn.Flatten())\n",
    "        model.add_module('ln0', nn.Linear(4096, out_features=1024))\n",
    "        model.add_module('relu4', nn.ReLU())\n",
    "        model.add_module('ln1', nn.Linear(1024, out_features=10))\n",
    "        self.model = model\n",
    "       \n",
    "    def forward(self, x):\n",
    "        return self.model(x)\n",
    "\n",
    "    def configure_optimizers(self):\n",
    "        optimizer = torch.optim.Adam(self.parameters(), lr=0.001)\n",
    "        return optimizer\n",
    "\n",
    "    def step(self, batch):\n",
    "        x, y = batch\n",
    "        y_pred = self.forward(x)\n",
    "        return loss_fn(y_pred, y)\n",
    "\n",
    "    def training_step(self, train_batch, batch_idx):\n",
    "        loss = self.step(train_batch)\n",
    "        self.log('train_loss', loss)\n",
    "        return loss  \n",
    "\n",
    "    def validation_step(self, valid_batch, batch_idx):\n",
    "        loss = self.step(valid_batch)\n",
    "        self.log('valid_loss', loss)\n",
    "        return loss       \n"
   ]
  },
  {
   "cell_type": "code",
   "execution_count": 20,
   "metadata": {
    "pycharm": {
     "is_executing": true,
     "name": "#%%\n"
    }
   },
   "outputs": [
    {
     "name": "stderr",
     "output_type": "stream",
     "text": [
      "GPU available: True (cuda), used: True\n",
      "TPU available: False, using: 0 TPU cores\n",
      "IPU available: False, using: 0 IPUs\n",
      "HPU available: False, using: 0 HPUs\n",
      "LOCAL_RANK: 0 - CUDA_VISIBLE_DEVICES: [0]\n",
      "\n",
      "  | Name  | Type       | Params\n",
      "-------------------------------------\n",
      "0 | model | Sequential | 4.3 M \n",
      "-------------------------------------\n",
      "4.3 M     Trainable params\n",
      "0         Non-trainable params\n",
      "4.3 M     Total params\n",
      "17.084    Total estimated model params size (MB)\n"
     ]
    },
    {
     "data": {
      "application/vnd.jupyter.widget-view+json": {
       "model_id": "",
       "version_major": 2,
       "version_minor": 0
      },
      "text/plain": [
       "Sanity Checking: 0it [00:00, ?it/s]"
      ]
     },
     "metadata": {},
     "output_type": "display_data"
    },
    {
     "data": {
      "application/vnd.jupyter.widget-view+json": {
       "model_id": "3416af409b884460bd67c16875009cd9",
       "version_major": 2,
       "version_minor": 0
      },
      "text/plain": [
       "Training: 0it [00:00, ?it/s]"
      ]
     },
     "metadata": {},
     "output_type": "display_data"
    },
    {
     "data": {
      "application/vnd.jupyter.widget-view+json": {
       "model_id": "",
       "version_major": 2,
       "version_minor": 0
      },
      "text/plain": [
       "Validation: 0it [00:00, ?it/s]"
      ]
     },
     "metadata": {},
     "output_type": "display_data"
    },
    {
     "data": {
      "application/vnd.jupyter.widget-view+json": {
       "model_id": "",
       "version_major": 2,
       "version_minor": 0
      },
      "text/plain": [
       "Validation: 0it [00:00, ?it/s]"
      ]
     },
     "metadata": {},
     "output_type": "display_data"
    },
    {
     "data": {
      "application/vnd.jupyter.widget-view+json": {
       "model_id": "",
       "version_major": 2,
       "version_minor": 0
      },
      "text/plain": [
       "Validation: 0it [00:00, ?it/s]"
      ]
     },
     "metadata": {},
     "output_type": "display_data"
    },
    {
     "data": {
      "application/vnd.jupyter.widget-view+json": {
       "model_id": "",
       "version_major": 2,
       "version_minor": 0
      },
      "text/plain": [
       "Validation: 0it [00:00, ?it/s]"
      ]
     },
     "metadata": {},
     "output_type": "display_data"
    },
    {
     "data": {
      "application/vnd.jupyter.widget-view+json": {
       "model_id": "",
       "version_major": 2,
       "version_minor": 0
      },
      "text/plain": [
       "Validation: 0it [00:00, ?it/s]"
      ]
     },
     "metadata": {},
     "output_type": "display_data"
    },
    {
     "data": {
      "application/vnd.jupyter.widget-view+json": {
       "model_id": "",
       "version_major": 2,
       "version_minor": 0
      },
      "text/plain": [
       "Validation: 0it [00:00, ?it/s]"
      ]
     },
     "metadata": {},
     "output_type": "display_data"
    },
    {
     "data": {
      "application/vnd.jupyter.widget-view+json": {
       "model_id": "",
       "version_major": 2,
       "version_minor": 0
      },
      "text/plain": [
       "Validation: 0it [00:00, ?it/s]"
      ]
     },
     "metadata": {},
     "output_type": "display_data"
    },
    {
     "data": {
      "application/vnd.jupyter.widget-view+json": {
       "model_id": "",
       "version_major": 2,
       "version_minor": 0
      },
      "text/plain": [
       "Validation: 0it [00:00, ?it/s]"
      ]
     },
     "metadata": {},
     "output_type": "display_data"
    },
    {
     "data": {
      "application/vnd.jupyter.widget-view+json": {
       "model_id": "",
       "version_major": 2,
       "version_minor": 0
      },
      "text/plain": [
       "Validation: 0it [00:00, ?it/s]"
      ]
     },
     "metadata": {},
     "output_type": "display_data"
    },
    {
     "data": {
      "application/vnd.jupyter.widget-view+json": {
       "model_id": "",
       "version_major": 2,
       "version_minor": 0
      },
      "text/plain": [
       "Validation: 0it [00:00, ?it/s]"
      ]
     },
     "metadata": {},
     "output_type": "display_data"
    },
    {
     "data": {
      "application/vnd.jupyter.widget-view+json": {
       "model_id": "",
       "version_major": 2,
       "version_minor": 0
      },
      "text/plain": [
       "Validation: 0it [00:00, ?it/s]"
      ]
     },
     "metadata": {},
     "output_type": "display_data"
    },
    {
     "data": {
      "application/vnd.jupyter.widget-view+json": {
       "model_id": "",
       "version_major": 2,
       "version_minor": 0
      },
      "text/plain": [
       "Validation: 0it [00:00, ?it/s]"
      ]
     },
     "metadata": {},
     "output_type": "display_data"
    },
    {
     "data": {
      "application/vnd.jupyter.widget-view+json": {
       "model_id": "",
       "version_major": 2,
       "version_minor": 0
      },
      "text/plain": [
       "Validation: 0it [00:00, ?it/s]"
      ]
     },
     "metadata": {},
     "output_type": "display_data"
    },
    {
     "data": {
      "application/vnd.jupyter.widget-view+json": {
       "model_id": "",
       "version_major": 2,
       "version_minor": 0
      },
      "text/plain": [
       "Validation: 0it [00:00, ?it/s]"
      ]
     },
     "metadata": {},
     "output_type": "display_data"
    },
    {
     "data": {
      "application/vnd.jupyter.widget-view+json": {
       "model_id": "",
       "version_major": 2,
       "version_minor": 0
      },
      "text/plain": [
       "Validation: 0it [00:00, ?it/s]"
      ]
     },
     "metadata": {},
     "output_type": "display_data"
    },
    {
     "data": {
      "application/vnd.jupyter.widget-view+json": {
       "model_id": "",
       "version_major": 2,
       "version_minor": 0
      },
      "text/plain": [
       "Validation: 0it [00:00, ?it/s]"
      ]
     },
     "metadata": {},
     "output_type": "display_data"
    },
    {
     "data": {
      "application/vnd.jupyter.widget-view+json": {
       "model_id": "",
       "version_major": 2,
       "version_minor": 0
      },
      "text/plain": [
       "Validation: 0it [00:00, ?it/s]"
      ]
     },
     "metadata": {},
     "output_type": "display_data"
    },
    {
     "data": {
      "application/vnd.jupyter.widget-view+json": {
       "model_id": "",
       "version_major": 2,
       "version_minor": 0
      },
      "text/plain": [
       "Validation: 0it [00:00, ?it/s]"
      ]
     },
     "metadata": {},
     "output_type": "display_data"
    },
    {
     "data": {
      "application/vnd.jupyter.widget-view+json": {
       "model_id": "",
       "version_major": 2,
       "version_minor": 0
      },
      "text/plain": [
       "Validation: 0it [00:00, ?it/s]"
      ]
     },
     "metadata": {},
     "output_type": "display_data"
    },
    {
     "data": {
      "application/vnd.jupyter.widget-view+json": {
       "model_id": "",
       "version_major": 2,
       "version_minor": 0
      },
      "text/plain": [
       "Validation: 0it [00:00, ?it/s]"
      ]
     },
     "metadata": {},
     "output_type": "display_data"
    },
    {
     "name": "stderr",
     "output_type": "stream",
     "text": [
      "`Trainer.fit` stopped: `max_epochs=20` reached.\n"
     ]
    },
    {
     "name": "stdout",
     "output_type": "stream",
     "text": [
      "Time to train: 45.2194128036499\n"
     ]
    }
   ],
   "source": [
    "lmodel = ClsModel()\n",
    "trainer = pl.Trainer(max_epochs=20, accelerator='gpu', devices=1)\n",
    "\n",
    "start = time.time()\n",
    "trainer.fit(lmodel, train_loader, valid_loader)\n",
    "end = time.time()\n",
    "print(f'Time to train: {end-start}')\n",
    "\n"
   ]
  },
  {
   "cell_type": "code",
   "execution_count": 17,
   "metadata": {
    "pycharm": {
     "name": "#%%\n"
    }
   },
   "outputs": [
    {
     "name": "stdout",
     "output_type": "stream",
     "text": [
      "Accuracy: 0.819608\n"
     ]
    },
    {
     "data": {
      "text/plain": [
       "tensor(0.8196)"
      ]
     },
     "execution_count": 17,
     "metadata": {},
     "output_type": "execute_result"
    }
   ],
   "source": [
    "evaluate_model(lmodel, test_loader, gpu=True)"
   ]
  },
  {
   "cell_type": "code",
   "execution_count": 25,
   "metadata": {},
   "outputs": [
    {
     "ename": "AttributeError",
     "evalue": "module 'torch.cuda' has no attribute 'version'",
     "output_type": "error",
     "traceback": [
      "\u001b[0;31m---------------------------------------------------------------------------\u001b[0m",
      "\u001b[0;31mAttributeError\u001b[0m                            Traceback (most recent call last)",
      "Input \u001b[0;32mIn [25]\u001b[0m, in \u001b[0;36m<cell line: 1>\u001b[0;34m()\u001b[0m\n\u001b[0;32m----> 1\u001b[0m \u001b[43mtorch\u001b[49m\u001b[38;5;241;43m.\u001b[39;49m\u001b[43mcuda\u001b[49m\u001b[38;5;241;43m.\u001b[39;49m\u001b[43mversion\u001b[49m\n",
      "\u001b[0;31mAttributeError\u001b[0m: module 'torch.cuda' has no attribute 'version'"
     ]
    }
   ],
   "source": [
    "torch.cuda.version"
   ]
  },
  {
   "cell_type": "code",
   "execution_count": null,
   "metadata": {},
   "outputs": [],
   "source": []
  }
 ],
 "metadata": {
  "kernelspec": {
   "display_name": "Python 3 (ipykernel)",
   "language": "python",
   "name": "python3"
  },
  "language_info": {
   "codemirror_mode": {
    "name": "ipython",
    "version": 3
   },
   "file_extension": ".py",
   "mimetype": "text/x-python",
   "name": "python",
   "nbconvert_exporter": "python",
   "pygments_lexer": "ipython3",
   "version": "3.9.13"
  },
  "vscode": {
   "interpreter": {
    "hash": "6cdbf094c3e2d11b30478a1f6f10290d4ee78e6b46f57992373b88ecd109df83"
   }
  }
 },
 "nbformat": 4,
 "nbformat_minor": 2
}
