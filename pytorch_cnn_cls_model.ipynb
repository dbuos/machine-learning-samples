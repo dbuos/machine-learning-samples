{
 "cells": [
  {
   "cell_type": "markdown",
   "metadata": {},
   "source": [
    "#### Simple CNN for image classification"
   ]
  },
  {
   "cell_type": "code",
   "execution_count": 1,
   "metadata": {},
   "outputs": [],
   "source": [
    "import torch\n",
    "from torch import nn"
   ]
  },
  {
   "cell_type": "code",
   "execution_count": 2,
   "metadata": {},
   "outputs": [],
   "source": [
    "\n",
    "def create_model(img_channels = 3):\n",
    "    model = nn.Sequential()\n",
    "    model.add_module('conv0', nn.Conv2d(in_channels=img_channels, out_channels=16, kernel_size=5, padding='same'))\n",
    "    model.add_module('relu0', nn.ReLU())\n",
    "    model.add_module('pool0', nn.MaxPool2d(kernel_size=2))\n",
    "\n",
    "    model.add_module('conv1', nn.Conv2d(in_channels=16, out_channels=32, kernel_size=5, padding='same'))\n",
    "    model.add_module('relu1', nn.ReLU())\n",
    "    model.add_module('pool1', nn.MaxPool2d(kernel_size=2))\n",
    "\n",
    "    model.add_module('conv2', nn.Conv2d(in_channels=32, out_channels=64, kernel_size=5, padding='same'))\n",
    "    model.add_module('relu2', nn.ReLU())\n",
    "    model.add_module('pool2', nn.MaxPool2d(kernel_size=2))\n",
    "\n",
    "    model.add_module('flatten', nn.Flatten())\n",
    "    model.add_module('ln0', nn.Linear(4096, out_features=1024))\n",
    "    model.add_module('relu4', nn.ReLU())\n",
    "    model.add_module('ln1', nn.Linear(1024, out_features=10))\n",
    "    return model\n"
   ]
  },
  {
   "cell_type": "markdown",
   "metadata": {},
   "source": [
    "### Load and prepare an image dataset"
   ]
  },
  {
   "cell_type": "code",
   "execution_count": 20,
   "metadata": {},
   "outputs": [],
   "source": [
    "from torchvision import datasets, transforms\n",
    "from torch.utils.data import DataLoader, Subset, Dataset\n",
    "image_path = './data/eurosat'\n",
    "transform = transforms.Compose([transforms.ToTensor(), transforms.Normalize((0, 0, 0), (0.5, 0.5, 0.5))])\n",
    "eurosat_dataset = datasets.EuroSAT(root=image_path, transform=transform, download=True)\n",
    "\n",
    "#Randomize the dataset\n",
    "torch.manual_seed(1)\n",
    "train_len = int(0.85 * len(eurosat_dataset)) - int(0.85 * len(eurosat_dataset) * 0.2)\n",
    "valid_len = int(0.85 * len(eurosat_dataset) * 0.2)\n",
    "test_len = len(eurosat_dataset) - train_len - valid_len\n",
    "train_dataset, test_dataset, valid_dataset = torch.utils.data.random_split(eurosat_dataset, [train_len, valid_len, test_len])\n",
    "\n",
    "#Create DataLoaders\n",
    "batch_size = 128\n",
    "train_loader = DataLoader(train_dataset, batch_size=batch_size, shuffle=True, num_workers=20)\n",
    "valid_loader = DataLoader(valid_dataset, batch_size=batch_size, shuffle=True, num_workers=20)\n",
    "test_loader = DataLoader(test_dataset, batch_size=batch_size, shuffle=True, num_workers=20)\n"
   ]
  },
  {
   "cell_type": "markdown",
   "metadata": {},
   "source": [
    "#### Create the training loop function"
   ]
  },
  {
   "cell_type": "code",
   "execution_count": 4,
   "metadata": {},
   "outputs": [],
   "source": [
    "def train(model, epochs, train_dl, valid_dl, gpu=False):\n",
    "    if gpu:\n",
    "        model.cuda()\n",
    "    else:\n",
    "        model.cpu()\n",
    "\n",
    "    loss_fn = nn.CrossEntropyLoss()\n",
    "    optimizer = torch.optim.Adam(model.parameters(), lr=0.001)\n",
    "    loss_hist_train = [0] * epochs\n",
    "    accuracy_hist_train = [0] * epochs\n",
    "\n",
    "    loss_hist_valid = [0] * epochs\n",
    "    accuracy_hist_valid = [0] * epochs\n",
    "\n",
    "    for epoch in range(epochs):\n",
    "        model.train()\n",
    "        for x_batch, y_batch in train_dl:\n",
    "            if gpu:\n",
    "                x_batch = x_batch.cuda()\n",
    "                y_batch = y_batch.cuda()\n",
    "            pred = model(x_batch)\n",
    "            loss = loss_fn(pred, y_batch)\n",
    "            \n",
    "            loss.backward() #Calculate tensor gradients with backpropagation\n",
    "            optimizer.step() #Apply updates to weights using the optimizer gradient descent specif impl algorithm\n",
    "            optimizer.zero_grad() #Reset the gradients for the next iteration\n",
    "            \n",
    "            #Calculate and save matrics\n",
    "            loss_hist_train[epoch] += loss.item() * y_batch.size(0) #Add the loss to the loss history\n",
    "            is_correct = (torch.argmax(pred, dim=1) == y_batch).cpu().float()\n",
    "            accuracy_hist_train[epoch] += is_correct.sum()\n",
    "\n",
    "        loss_hist_train[epoch] /= train_len\n",
    "        accuracy_hist_train[epoch] /= train_len\n",
    "\n",
    "        model.eval() #Set the model to evaluation mode\n",
    "        with torch.no_grad(): #Turn off gradients\n",
    "            for x_batch, y_batch in valid_dl:\n",
    "                if gpu:\n",
    "                    x_batch = x_batch.cuda()\n",
    "                    y_batch = y_batch.cuda()\n",
    "                pred = model(x_batch)\n",
    "                loss = loss_fn(pred, y_batch)\n",
    "                loss_hist_valid[epoch] += (loss.item() * y_batch.size(0))\n",
    "                is_correct = (torch.argmax(pred, dim=1) == y_batch).cpu().float()\n",
    "                accuracy_hist_valid[epoch] += is_correct.sum()\n",
    "            loss_hist_valid[epoch] /= valid_len\n",
    "            accuracy_hist_valid[epoch] /= valid_len\n",
    "        print(f'Epoch {epoch+1}/{epochs} accuracy: {accuracy_hist_train[epoch]:4f} valid_accuracy: {accuracy_hist_valid[epoch]:4f}')\n",
    "    return loss_hist_train, accuracy_hist_train, loss_hist_valid, accuracy_hist_valid"
   ]
  },
  {
   "cell_type": "code",
   "execution_count": 17,
   "metadata": {},
   "outputs": [],
   "source": [
    "def evaluate_model(model, data_loader, gpu=False):\n",
    "    if gpu:\n",
    "        model.cuda()\n",
    "    else:\n",
    "        model.cpu()    \n",
    "    model.eval()\n",
    "    y_list = []\n",
    "    pred_list = []\n",
    "    for x_batch, y_batch in data_loader:\n",
    "        if gpu:\n",
    "            x_batch = x_batch.cuda()\n",
    "        pred = model(x_batch)\n",
    "        pred_list.append(torch.argmax(pred, dim=1).cpu())\n",
    "        y_list.append(y_batch)\n",
    "    preds = torch.cat(pred_list, dim=0)\n",
    "    y_true = torch.cat(y_list, dim=0)    \n",
    "    #Calculate the accuracy\n",
    "    is_correct = (preds == y_true).float()\n",
    "    accuracy = is_correct.sum() / is_correct.numel()\n",
    "    print(f'Accuracy: {accuracy:4f}')\n",
    "    return accuracy"
   ]
  },
  {
   "cell_type": "code",
   "execution_count": 32,
   "metadata": {},
   "outputs": [
    {
     "name": "stdout",
     "output_type": "stream",
     "text": [
      "Epoch 1/20 accuracy: 0.437364 valid_accuracy: 0.505229\n",
      "Epoch 2/20 accuracy: 0.672495 valid_accuracy: 0.533333\n",
      "Epoch 3/20 accuracy: 0.733007 valid_accuracy: 0.635730\n",
      "Epoch 4/20 accuracy: 0.753867 valid_accuracy: 0.653813\n",
      "Epoch 5/20 accuracy: 0.779031 valid_accuracy: 0.653595\n",
      "Epoch 6/20 accuracy: 0.791013 valid_accuracy: 0.699564\n",
      "Epoch 7/20 accuracy: 0.816939 valid_accuracy: 0.671024\n",
      "Epoch 8/20 accuracy: 0.844281 valid_accuracy: 0.704357\n",
      "Epoch 9/20 accuracy: 0.849728 valid_accuracy: 0.656645\n",
      "Epoch 10/20 accuracy: 0.851362 valid_accuracy: 0.630283\n",
      "Epoch 11/20 accuracy: 0.875163 valid_accuracy: 0.745098\n",
      "Epoch 12/20 accuracy: 0.895261 valid_accuracy: 0.720261\n",
      "Epoch 13/20 accuracy: 0.912200 valid_accuracy: 0.715904\n",
      "Epoch 14/20 accuracy: 0.926852 valid_accuracy: 0.735512\n",
      "Epoch 15/20 accuracy: 0.928377 valid_accuracy: 0.673203\n",
      "Epoch 16/20 accuracy: 0.935948 valid_accuracy: 0.737473\n",
      "Epoch 17/20 accuracy: 0.965686 valid_accuracy: 0.724183\n",
      "Epoch 18/20 accuracy: 0.969009 valid_accuracy: 0.700218\n",
      "Epoch 19/20 accuracy: 0.951198 valid_accuracy: 0.670588\n",
      "Epoch 20/20 accuracy: 0.961601 valid_accuracy: 0.734423\n",
      "Time to train: 44.302916288375854\n"
     ]
    }
   ],
   "source": [
    "gpu_model = create_model()\n",
    "\n",
    "#Measure the time it takes to train the model\n",
    "import time\n",
    "start = time.time()\n",
    "loss_hist_train, accuracy_hist_train, loss_hist_valid, accuracy_hist_valid = train(gpu_model, epochs=20, train_dl=train_loader, valid_dl=valid_loader, gpu=True)\n",
    "end = time.time()\n",
    "print(f'Time to train: {end-start}')"
   ]
  },
  {
   "cell_type": "code",
   "execution_count": 24,
   "metadata": {},
   "outputs": [
    {
     "name": "stdout",
     "output_type": "stream",
     "text": [
      "Epoch 1/20 accuracy: 0.431155 valid_accuracy: 0.477560\n",
      "Epoch 2/20 accuracy: 0.636547 valid_accuracy: 0.533551\n",
      "Epoch 3/20 accuracy: 0.727887 valid_accuracy: 0.646841\n",
      "Epoch 4/20 accuracy: 0.740632 valid_accuracy: 0.624619\n",
      "Epoch 5/20 accuracy: 0.770425 valid_accuracy: 0.690632\n",
      "Epoch 6/20 accuracy: 0.791122 valid_accuracy: 0.694336\n",
      "Epoch 7/20 accuracy: 0.806481 valid_accuracy: 0.691939\n",
      "Epoch 8/20 accuracy: 0.813780 valid_accuracy: 0.691068\n",
      "Epoch 9/20 accuracy: 0.831481 valid_accuracy: 0.691721\n",
      "Epoch 10/20 accuracy: 0.842320 valid_accuracy: 0.734641\n",
      "Epoch 11/20 accuracy: 0.856699 valid_accuracy: 0.714815\n",
      "Epoch 12/20 accuracy: 0.873802 valid_accuracy: 0.708497\n",
      "Epoch 13/20 accuracy: 0.891068 valid_accuracy: 0.701743\n",
      "Epoch 14/20 accuracy: 0.905174 valid_accuracy: 0.754466\n",
      "Epoch 15/20 accuracy: 0.923257 valid_accuracy: 0.743573\n",
      "Epoch 16/20 accuracy: 0.923312 valid_accuracy: 0.725272\n",
      "Epoch 17/20 accuracy: 0.939107 valid_accuracy: 0.705665\n",
      "Epoch 18/20 accuracy: 0.953214 valid_accuracy: 0.744662\n",
      "Epoch 19/20 accuracy: 0.950218 valid_accuracy: 0.746187\n",
      "Epoch 20/20 accuracy: 0.965142 valid_accuracy: 0.733769\n",
      "Time to train: 271.3872699737549\n"
     ]
    }
   ],
   "source": [
    "cpu_model = create_model()\n",
    "\n",
    "#Measure the time it takes to train the model\n",
    "import time\n",
    "start = time.time()\n",
    "loss_hist_train, accuracy_hist_train, loss_hist_valid, accuracy_hist_valid = train(cpu_model, epochs=20, train_dl=train_loader, valid_dl=valid_loader, gpu=False)\n",
    "end = time.time()\n",
    "print(f'Time to train: {end-start}')"
   ]
  },
  {
   "cell_type": "code",
   "execution_count": 33,
   "metadata": {},
   "outputs": [
    {
     "data": {
      "image/png": "[encoded data removed]",
      "text/plain": [
       "<Figure size 432x288 with 1 Axes>"
      ]
     },
     "metadata": {
      "needs_background": "light"
     },
     "output_type": "display_data"
    }
   ],
   "source": [
    "import matplotlib.pyplot as plt\n",
    "#Plot the loss\n",
    "plt.plot(loss_hist_train, label='Training Loss')\n",
    "plt.plot(loss_hist_valid, label='Validation Loss')\n",
    "plt.legend()\n",
    "plt.show()\n"
   ]
  },
  {
   "cell_type": "code",
   "execution_count": 34,
   "metadata": {},
   "outputs": [
    {
     "name": "stdout",
     "output_type": "stream",
     "text": [
      "Accuracy: 0.832026\n"
     ]
    },
    {
     "data": {
      "text/plain": [
       "tensor(0.8320)"
      ]
     },
     "execution_count": 34,
     "metadata": {},
     "output_type": "execute_result"
    }
   ],
   "source": [
    "evaluate_model(gpu_model, test_loader, gpu=True)"
   ]
  },
  {
   "cell_type": "code",
   "execution_count": 35,
   "metadata": {},
   "outputs": [
    {
     "name": "stdout",
     "output_type": "stream",
     "text": [
      "Accuracy: 0.828540\n"
     ]
    },
    {
     "data": {
      "text/plain": [
       "tensor(0.8285)"
      ]
     },
     "execution_count": 35,
     "metadata": {},
     "output_type": "execute_result"
    }
   ],
   "source": [
    "evaluate_model(cpu_model, test_loader, gpu=False)"
   ]
  },
  {
   "cell_type": "code",
   "execution_count": 9,
   "metadata": {},
   "outputs": [],
   "source": [
    "import pytorch_lightning as pl\n",
    "loss_fn = nn.CrossEntropyLoss()\n",
    "class ClsModel(pl.LightningModule):\n",
    "    def __init__(self, img_channels=3) -> None:\n",
    "        super().__init__()\n",
    "        model = nn.Sequential()\n",
    "        model.add_module('conv0', nn.Conv2d(in_channels=img_channels, out_channels=16, kernel_size=5, padding='same'))\n",
    "        model.add_module('relu0', nn.ReLU())\n",
    "        model.add_module('pool0', nn.MaxPool2d(kernel_size=2))\n",
    "\n",
    "        model.add_module('conv1', nn.Conv2d(in_channels=16, out_channels=32, kernel_size=5, padding='same'))\n",
    "        model.add_module('relu1', nn.ReLU())\n",
    "        model.add_module('pool1', nn.MaxPool2d(kernel_size=2))\n",
    "\n",
    "        model.add_module('conv2', nn.Conv2d(in_channels=32, out_channels=64, kernel_size=5, padding='same'))\n",
    "        model.add_module('relu2', nn.ReLU())\n",
    "        model.add_module('pool2', nn.MaxPool2d(kernel_size=2))\n",
    "\n",
    "        model.add_module('flatten', nn.Flatten())\n",
    "        model.add_module('ln0', nn.Linear(4096, out_features=1024))\n",
    "        model.add_module('relu4', nn.ReLU())\n",
    "        model.add_module('ln1', nn.Linear(1024, out_features=10))\n",
    "        self.model = model\n",
    "       \n",
    "    def forward(self, x):\n",
    "        return self.model(x)\n",
    "\n",
    "    def configure_optimizers(self):\n",
    "        optimizer = torch.optim.Adam(self.parameters(), lr=0.001)\n",
    "        return optimizer\n",
    "\n",
    "    def step(self, batch):\n",
    "        x, y = batch\n",
    "        y_pred = self.forward(x)\n",
    "        return loss_fn(y_pred, y)\n",
    "\n",
    "    def training_step(self, train_batch, batch_idx):\n",
    "        loss = self.step(train_batch)\n",
    "        self.log('train_loss', loss)\n",
    "        return loss  \n",
    "\n",
    "    def validation_step(self, valid_batch, batch_idx):\n",
    "        loss = self.step(valid_batch)\n",
    "        self.log('valid_loss', loss)\n",
    "        return loss       \n"
   ]
  },
  {
   "cell_type": "code",
   "execution_count": 31,
   "metadata": {},
   "outputs": [
    {
     "name": "stderr",
     "output_type": "stream",
     "text": [
      "GPU available: True (cuda), used: True\n",
      "TPU available: False, using: 0 TPU cores\n",
      "IPU available: False, using: 0 IPUs\n",
      "HPU available: False, using: 0 HPUs\n",
      "LOCAL_RANK: 0 - CUDA_VISIBLE_DEVICES: [0]\n",
      "\n",
      "  | Name  | Type       | Params\n",
      "-------------------------------------\n",
      "0 | model | Sequential | 4.3 M \n",
      "-------------------------------------\n",
      "4.3 M     Trainable params\n",
      "0         Non-trainable params\n",
      "4.3 M     Total params\n",
      "17.084    Total estimated model params size (MB)\n"
     ]
    },
    {
     "name": "stdout",
     "output_type": "stream",
     "text": [
      "Epoch 19: 100%|██████████| 176/176 [00:02<00:00, 65.65it/s, loss=0.122, v_num=4] "
     ]
    },
    {
     "name": "stderr",
     "output_type": "stream",
     "text": [
      "`Trainer.fit` stopped: `max_epochs=20` reached.\n"
     ]
    },
    {
     "name": "stdout",
     "output_type": "stream",
     "text": [
      "Epoch 19: 100%|██████████| 176/176 [00:02<00:00, 63.57it/s, loss=0.122, v_num=4]\n"
     ]
    }
   ],
   "source": [
    "lmodel = ClsModel()\n",
    "trainer = pl.Trainer(max_epochs=20, accelerator='gpu', devices=1)\n",
    "trainer.fit(lmodel, train_loader, valid_loader)"
   ]
  },
  {
   "cell_type": "code",
   "execution_count": 36,
   "metadata": {},
   "outputs": [
    {
     "name": "stdout",
     "output_type": "stream",
     "text": [
      "Accuracy: 0.822876\n"
     ]
    },
    {
     "data": {
      "text/plain": [
       "tensor(0.8229)"
      ]
     },
     "execution_count": 36,
     "metadata": {},
     "output_type": "execute_result"
    }
   ],
   "source": [
    "evaluate_model(lmodel, test_loader, gpu=True)"
   ]
  },
  {
   "cell_type": "code",
   "execution_count": null,
   "metadata": {},
   "outputs": [],
   "source": []
  }
 ],
 "metadata": {
  "kernelspec": {
   "display_name": "Python 3.9.13 ('pytorch')",
   "language": "python",
   "name": "python3"
  },
  "language_info": {
   "codemirror_mode": {
    "name": "ipython",
    "version": 3
   },
   "file_extension": ".py",
   "mimetype": "text/x-python",
   "name": "python",
   "nbconvert_exporter": "python",
   "pygments_lexer": "ipython3",
   "version": "3.9.13"
  },
  "orig_nbformat": 4,
  "vscode": {
   "interpreter": {
    "hash": "6cdbf094c3e2d11b30478a1f6f10290d4ee78e6b46f57992373b88ecd109df83"
   }
  }
 },
 "nbformat": 4,
 "nbformat_minor": 2
}
