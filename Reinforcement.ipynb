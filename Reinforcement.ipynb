{
 "cells": [
  {
   "cell_type": "code",
   "execution_count": 24,
   "metadata": {},
   "outputs": [],
   "source": [
    "import gym\n",
    "from gym.wrappers import RecordVideo\n",
    "import time\n",
    "import random\n",
    "from gym import Env\n",
    "\n",
    "class RandomWrapper(gym.ActionWrapper):\n",
    "\n",
    "    def __init__(self, env: Env, epsilon: float = 0.1):\n",
    "        super().__init__(env)\n",
    "        self.epsilon = epsilon\n",
    "\n",
    "    def action(self, action):\n",
    "        if random.random() < self.epsilon:\n",
    "            return self.env.action_space.sample()\n",
    "        return action\n",
    "\n",
    "\n",
    "def create_env(e=0):\n",
    "    env = gym.make(\"LunarLander-v2\", render_mode=\"rgb_array\")\n",
    "    env = RandomWrapper(env, epsilon=e)\n",
    "    env = RecordVideo(env, 'videos/')\n",
    "    return env\n",
    "\n",
    "def execute_episodes(num_episodes: int, env: Env):\n",
    "    for i in range(num_episodes):\n",
    "        observation, info = env.reset(seed=1)\n",
    "        env.action_space.seed(1)\n",
    "        steps = 0\n",
    "        total_reward = 0\n",
    "        while True:\n",
    "            observation, reward, terminated, trun, info = env.step(1)\n",
    "            steps += 1\n",
    "            total_reward += reward\n",
    "            if terminated:\n",
    "                break\n",
    "        print(f'Episode finished after {steps} steps with total reward {total_reward}')    \n",
    "\n"
   ]
  },
  {
   "cell_type": "code",
   "execution_count": 25,
   "metadata": {},
   "outputs": [
    {
     "name": "stdout",
     "output_type": "stream",
     "text": [
      "Moviepy - Building video /home/daniel/data/Projects/machine-learning-samples/videos/rl-video-episode-0.mp4.\n",
      "Moviepy - Writing video /home/daniel/data/Projects/machine-learning-samples/videos/rl-video-episode-0.mp4\n",
      "\n"
     ]
    },
    {
     "name": "stderr",
     "output_type": "stream",
     "text": [
      "                                                    "
     ]
    },
    {
     "name": "stdout",
     "output_type": "stream",
     "text": [
      "Moviepy - Done !\n",
      "Moviepy - video ready /home/daniel/data/Projects/machine-learning-samples/videos/rl-video-episode-0.mp4\n",
      "Episode finished after 99 steps with total reward -139.15352884584587\n"
     ]
    },
    {
     "name": "stderr",
     "output_type": "stream",
     "text": [
      "\r"
     ]
    },
    {
     "name": "stdout",
     "output_type": "stream",
     "text": [
      "Moviepy - Building video /home/daniel/data/Projects/machine-learning-samples/videos/rl-video-episode-1.mp4.\n",
      "Moviepy - Writing video /home/daniel/data/Projects/machine-learning-samples/videos/rl-video-episode-1.mp4\n",
      "\n"
     ]
    },
    {
     "name": "stderr",
     "output_type": "stream",
     "text": [
      "                                                    "
     ]
    },
    {
     "name": "stdout",
     "output_type": "stream",
     "text": [
      "Moviepy - Done !\n",
      "Moviepy - video ready /home/daniel/data/Projects/machine-learning-samples/videos/rl-video-episode-1.mp4\n",
      "Episode finished after 99 steps with total reward -139.15352884584587\n",
      "Episode finished after 99 steps with total reward -139.15352884584587\n",
      "Episode finished after 99 steps with total reward -139.15352884584587\n",
      "Episode finished after 99 steps with total reward -139.15352884584587\n"
     ]
    },
    {
     "name": "stderr",
     "output_type": "stream",
     "text": [
      "\r"
     ]
    }
   ],
   "source": [
    "env = create_env(0.99999)\n",
    "execute_episodes(5, env)\n",
    "env.close()"
   ]
  },
  {
   "cell_type": "code",
   "execution_count": null,
   "metadata": {},
   "outputs": [],
   "source": [
    "gym.__version__"
   ]
  },
  {
   "cell_type": "code",
   "execution_count": null,
   "metadata": {},
   "outputs": [],
   "source": [
    "gym.__version__"
   ]
  },
  {
   "cell_type": "markdown",
   "metadata": {},
   "source": [
    "env.observation_space.low, env.observation_space.high, env.observation_space.shape"
   ]
  },
  {
   "cell_type": "code",
   "execution_count": null,
   "metadata": {},
   "outputs": [],
   "source": [
    "        "
   ]
  },
  {
   "cell_type": "code",
   "execution_count": null,
   "metadata": {},
   "outputs": [],
   "source": [
    "sum([execute_episode() for i in range(1000)])/1000.0"
   ]
  },
  {
   "cell_type": "code",
   "execution_count": null,
   "metadata": {},
   "outputs": [],
   "source": []
  }
 ],
 "metadata": {
  "kernelspec": {
   "display_name": "Python 3.9.13 ('pytorch')",
   "language": "python",
   "name": "python3"
  },
  "language_info": {
   "codemirror_mode": {
    "name": "ipython",
    "version": 3
   },
   "file_extension": ".py",
   "mimetype": "text/x-python",
   "name": "python",
   "nbconvert_exporter": "python",
   "pygments_lexer": "ipython3",
   "version": "3.9.13"
  },
  "orig_nbformat": 4,
  "vscode": {
   "interpreter": {
    "hash": "6cdbf094c3e2d11b30478a1f6f10290d4ee78e6b46f57992373b88ecd109df83"
   }
  }
 },
 "nbformat": 4,
 "nbformat_minor": 2
}
