{
 "cells": [
  {
   "cell_type": "markdown",
   "metadata": {},
   "source": [
    "#### Sentiment classification with BERT"
   ]
  },
  {
   "cell_type": "code",
   "execution_count": 1,
   "metadata": {},
   "outputs": [],
   "source": [
    "### Import and prepare dataset\n",
    "\n",
    "from torchtext.datasets import IMDB\n",
    "train_ds = IMDB('./data/imdb/train', split='train')\n",
    "train_ds = list(train_ds)\n",
    "\n",
    "test_ds = IMDB('./data/imdb/test', split='test')\n",
    "test_dataset = list(test_ds)"
   ]
  },
  {
   "cell_type": "code",
   "execution_count": 2,
   "metadata": {},
   "outputs": [],
   "source": [
    "from torch.utils.data.dataset import random_split\n",
    "train_dataset, valid_dataset = random_split(train_ds, [20000, 5000])"
   ]
  },
  {
   "cell_type": "code",
   "execution_count": 3,
   "metadata": {},
   "outputs": [
    {
     "name": "stderr",
     "output_type": "stream",
     "text": [
      "Some weights of the model checkpoint at distilbert-base-uncased were not used when initializing DistilBertForSequenceClassification: ['vocab_layer_norm.weight', 'vocab_transform.weight', 'vocab_projector.weight', 'vocab_transform.bias', 'vocab_projector.bias', 'vocab_layer_norm.bias']\n",
      "- This IS expected if you are initializing DistilBertForSequenceClassification from the checkpoint of a model trained on another task or with another architecture (e.g. initializing a BertForSequenceClassification model from a BertForPreTraining model).\n",
      "- This IS NOT expected if you are initializing DistilBertForSequenceClassification from the checkpoint of a model that you expect to be exactly identical (initializing a BertForSequenceClassification model from a BertForSequenceClassification model).\n",
      "Some weights of DistilBertForSequenceClassification were not initialized from the model checkpoint at distilbert-base-uncased and are newly initialized: ['classifier.bias', 'classifier.weight', 'pre_classifier.weight', 'pre_classifier.bias']\n",
      "You should probably TRAIN this model on a down-stream task to be able to use it for predictions and inference.\n"
     ]
    }
   ],
   "source": [
    "from transformers import DistilBertTokenizer, DistilBertModel, DistilBertForSequenceClassification\n",
    "tokenizer = DistilBertTokenizer.from_pretrained('distilbert-base-uncased')\n",
    "model = DistilBertForSequenceClassification.from_pretrained(\"distilbert-base-uncased\", num_labels=2)\n"
   ]
  },
  {
   "cell_type": "code",
   "execution_count": 4,
   "metadata": {},
   "outputs": [],
   "source": [
    "import torch\n",
    "\n",
    "def label_pipeline(label):\n",
    "    return 1 if label == 'pos' else 0\n",
    "\n",
    "def collate_batch(batch):\n",
    "    labels, texts, texts_lenghts = [], [], []\n",
    "    for label, text in batch:\n",
    "        labels.append(label_pipeline(label))\n",
    "        texts.append(text)\n",
    "    labels = torch.tensor(labels, dtype=torch.long)\n",
    "    texts = tokenizer(texts, return_tensors='pt', truncation=True, padding=True, max_length=512)   \n",
    "    return texts, labels   "
   ]
  },
  {
   "cell_type": "code",
   "execution_count": 5,
   "metadata": {},
   "outputs": [],
   "source": [
    "from torch.utils.data import DataLoader\n",
    "batch_size = 32\n",
    "train_dataloader = DataLoader(train_dataset, batch_size=batch_size, shuffle=True, collate_fn=collate_batch, num_workers=20)\n",
    "valid_dataloader = DataLoader(valid_dataset, batch_size=batch_size, shuffle=False, collate_fn=collate_batch, num_workers=20)\n",
    "test_dataloader = DataLoader(test_dataset, batch_size=batch_size, shuffle=False, collate_fn=collate_batch, num_workers=20)\n",
    "\n"
   ]
  },
  {
   "cell_type": "code",
   "execution_count": 6,
   "metadata": {},
   "outputs": [],
   "source": [
    "from torch.functional import F\n",
    "\n",
    "\n",
    "def train(model, dataloader, optimizer, device, progress_bar):\n",
    "    model.train()\n",
    "    epoch_loss, epoch_acc = 0., 0.\n",
    "    num_samples = len(dataloader.dataset)\n",
    "    for input_batch, labels_batch in dataloader:\n",
    "\n",
    "        text_batch = input_batch['input_ids'].to(device)\n",
    "        attn_batch = input_batch['attention_mask'].to(device)\n",
    "        labels_batch = labels_batch.to(device)\n",
    "\n",
    "        model_output = model(text_batch, attention_mask=attn_batch, labels=labels_batch)\n",
    "        loss, logits = model_output['loss'], model_output['logits']\n",
    "\n",
    "        optimizer.zero_grad()\n",
    "        loss.backward()\n",
    "        optimizer.step()\n",
    "        \n",
    "        progress_bar.update(1)\n",
    "        epoch_loss += loss.item() * labels_batch.size(0)\n",
    "        epoch_acc += (torch.argmax(logits, 1) == labels_batch).float().sum().item()\n",
    "    return epoch_acc/num_samples, epoch_loss/num_samples    \n",
    "        \n",
    "        \n",
    "def evaluate(model, dataloader, device):\n",
    "    model.eval()\n",
    "    epoch_loss, epoch_acc = 0., 0.\n",
    "    num_samples = len(dataloader.dataset)\n",
    "    with torch.no_grad():\n",
    "        for input_batch, labels_batch in dataloader:\n",
    "\n",
    "            text_batch = input_batch['input_ids'].to(device)\n",
    "            attn_batch = input_batch['attention_mask'].to(device)\n",
    "            labels_batch = labels_batch.to(device)\n",
    "\n",
    "            model_output = model(text_batch, attention_mask=attn_batch, labels=labels_batch)\n",
    "            loss, logits = model_output['loss'], model_output['logits']\n",
    "\n",
    "            epoch_loss += loss.item() * labels_batch.size(0)\n",
    "            epoch_acc += (torch.argmax(logits, 1) == labels_batch).float().sum().item()\n",
    "    return epoch_acc/num_samples, epoch_loss/num_samples   "
   ]
  },
  {
   "cell_type": "code",
   "execution_count": 7,
   "metadata": {},
   "outputs": [
    {
     "data": {
      "application/vnd.jupyter.widget-view+json": {
       "model_id": "ed6717bccd4f4d9fafdcb160e58b7585",
       "version_major": 2,
       "version_minor": 0
      },
      "text/plain": [
       "  0%|          | 0/3125 [00:00<?, ?it/s]"
      ]
     },
     "metadata": {},
     "output_type": "display_data"
    },
    {
     "name": "stdout",
     "output_type": "stream",
     "text": [
      "Epoch: 0, Train Loss: 0.2698, Train Acc: 0.8872, Valid Loss: 0.2257, Valid Acc: 0.9078\n",
      "Epoch: 1, Train Loss: 0.1391, Train Acc: 0.9496, Valid Loss: 0.2228, Valid Acc: 0.9148\n",
      "Epoch: 2, Train Loss: 0.0715, Train Acc: 0.9758, Valid Loss: 0.2652, Valid Acc: 0.9220\n",
      "Epoch: 3, Train Loss: 0.0408, Train Acc: 0.9869, Valid Loss: 0.2626, Valid Acc: 0.9214\n",
      "Epoch: 4, Train Loss: 0.0334, Train Acc: 0.9889, Valid Loss: 0.2994, Valid Acc: 0.9134\n"
     ]
    }
   ],
   "source": [
    "from tqdm.auto import tqdm\n",
    "from torch import nn\n",
    "optimizer = torch.optim.Adam(model.parameters(), lr=5e-5)\n",
    "device = torch.device('cuda')\n",
    "model.to(device)\n",
    "epochs = 5\n",
    "progress_bar = tqdm(range(epochs*len(train_dataloader)))\n",
    "\n",
    "for epoch in range(epochs):\n",
    "    train_acc, train_loss = train(model, train_dataloader, optimizer, device, progress_bar)\n",
    "    valid_acc, valid_loss = evaluate(model, valid_dataloader, device)\n",
    "    print(f'Epoch: {epoch}, Train Loss: {train_loss:.4f}, Train Acc: {train_acc:.4f}, Valid Loss: {valid_loss:.4f}, Valid Acc: {valid_acc:.4f}')"
   ]
  }
 ],
 "metadata": {
  "kernelspec": {
   "display_name": "Python 3.9.13 ('pytorch')",
   "language": "python",
   "name": "python3"
  },
  "language_info": {
   "codemirror_mode": {
    "name": "ipython",
    "version": 3
   },
   "file_extension": ".py",
   "mimetype": "text/x-python",
   "name": "python",
   "nbconvert_exporter": "python",
   "pygments_lexer": "ipython3",
   "version": "3.9.13"
  },
  "orig_nbformat": 4,
  "vscode": {
   "interpreter": {
    "hash": "6cdbf094c3e2d11b30478a1f6f10290d4ee78e6b46f57992373b88ecd109df83"
   }
  }
 },
 "nbformat": 4,
 "nbformat_minor": 2
}
