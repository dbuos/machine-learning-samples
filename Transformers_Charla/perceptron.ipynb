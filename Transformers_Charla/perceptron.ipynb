{
 "cells": [
  {
   "cell_type": "code",
   "execution_count": 4,
   "metadata": {},
   "outputs": [
    {
     "data": {
      "text/plain": [
       "0.48900177432315856"
      ]
     },
     "execution_count": 4,
     "metadata": {},
     "output_type": "execute_result"
    }
   ],
   "source": [
    "import numpy as np\n",
    "features = [1.5, 1.2, 2.1]\n",
    "\n",
    "weights = [0.5, 0.48, -0.7]\n",
    "bias = 0.1\n",
    "\n",
    "z = (features[0] * weights[0] + features[1] * weights[1] + features[2] * weights[2]) + bias\n",
    "\n",
    "def sigmoid(z):\n",
    "    return 1.0 / (1.0 + np.exp(-z))\n",
    "\n",
    "sigmoid(z)\n",
    "    "
   ]
  },
  {
   "cell_type": "code",
   "execution_count": 5,
   "metadata": {},
   "outputs": [
    {
     "data": {
      "text/plain": [
       "0.48900177432315856"
      ]
     },
     "execution_count": 5,
     "metadata": {},
     "output_type": "execute_result"
    }
   ],
   "source": [
    "features = np.array([1.5, 1.2, 2.1])\n",
    "\n",
    "weights = np.array([0.5, 0.48, -0.7])\n",
    "bias = 0.1\n",
    "\n",
    "def sigmoid(z):\n",
    "    return 1.0 / (1.0 + np.exp(-z))\n",
    "\n",
    "z = np.dot(features, weights) + bias\n",
    "sigmoid(z)"
   ]
  },
  {
   "cell_type": "code",
   "execution_count": 6,
   "metadata": {},
   "outputs": [
    {
     "data": {
      "text/plain": [
       "tensor([0.4890], grad_fn=<SigmoidBackward0>)"
      ]
     },
     "execution_count": 6,
     "metadata": {},
     "output_type": "execute_result"
    }
   ],
   "source": [
    "import torch\n",
    "features = torch.tensor([1.5, 1.2, 2.1])\n",
    "\n",
    "layer = torch.nn.Linear(3, 1)\n",
    "layer.weight.data = torch.tensor([[0.5, 0.48, -0.7]], requires_grad=True)\n",
    "layer.bias.data = torch.tensor([0.1])\n",
    "\n",
    "torch.sigmoid(layer(features))\n"
   ]
  },
  {
   "cell_type": "code",
   "execution_count": null,
   "metadata": {},
   "outputs": [],
   "source": [
    "class DeepNeuralNetwork():\n",
    "\n",
    "    def __init__(self):\n",
    "        super().__init__()\n",
    "        self.layer1 = torch.nn.Linear(24, 128)\n",
    "        self.layer2 = torch.nn.Linear(128, 64)\n",
    "        self.layer3 = torch.nn.Linear(64, 32)\n",
    "        self.layer4 = torch.nn.Linear(32, 16)\n",
    "        self.layer5 = torch.nn.Linear(16, 8)\n",
    "        self.layer6 = torch.nn.Linear(8, 1)\n",
    "\n",
    "    def __call__(self, x):\n",
    "        x = self.layer1(x)\n",
    "        x = torch.sigmoid(x)\n",
    "\n",
    "        x = self.layer2(x)\n",
    "        x = torch.sigmoid(x)\n",
    "\n",
    "        x = self.layer3(x)\n",
    "        x = torch.sigmoid(x)\n",
    "\n",
    "        x = self.layer4(x)\n",
    "        x = torch.sigmoid(x)\n",
    "\n",
    "        x = self.layer5(x)\n",
    "        x = torch.sigmoid(x)\n",
    "\n",
    "        x = self.layer6(x)\n",
    "        x = torch.sigmoid(x)\n",
    "\n",
    "        return x \n",
    "\n",
    "    def call_one_line(self, x):\n",
    "        return torch.sigmoid(self.layer6(torch.sigmoid(self.layer5(torch.sigmoid(self.layer4(torch.sigmoid(self.layer3(\n",
    "                    torch.sigmoid(self.layer2(torch.sigmoid(self.layer1(x))))))))))))       "
   ]
  }
 ],
 "metadata": {
  "kernelspec": {
   "display_name": "Python 3.9.13 ('pytorch')",
   "language": "python",
   "name": "python3"
  },
  "language_info": {
   "codemirror_mode": {
    "name": "ipython",
    "version": 3
   },
   "file_extension": ".py",
   "mimetype": "text/x-python",
   "name": "python",
   "nbconvert_exporter": "python",
   "pygments_lexer": "ipython3",
   "version": "3.9.13"
  },
  "orig_nbformat": 4,
  "vscode": {
   "interpreter": {
    "hash": "6cdbf094c3e2d11b30478a1f6f10290d4ee78e6b46f57992373b88ecd109df83"
   }
  }
 },
 "nbformat": 4,
 "nbformat_minor": 2
}
