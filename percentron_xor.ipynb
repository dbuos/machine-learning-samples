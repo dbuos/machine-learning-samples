{
 "cells": [
  {
   "cell_type": "markdown",
   "metadata": {},
   "source": [
    "#### The XOR problem and the perceptron\n",
    "\n",
    "A single perceptron can be used to solve the XOR problem. The inability of the perceptron to solve the XOR is due to the fact that a single the perceptron is only capable of classifying linearly separable data and the XOR problem is not."
   ]
  },
  {
   "cell_type": "code",
   "execution_count": 8,
   "metadata": {},
   "outputs": [
    {
     "data": {
      "image/png": "[encoded data removed]",
      "text/plain": [
       "<Figure size 432x288 with 1 Axes>"
      ]
     },
     "metadata": {
      "needs_background": "light"
     },
     "output_type": "display_data"
    }
   ],
   "source": [
    "#Create a matrix for the XOR problem\n",
    "import numpy as np\n",
    "xor_data = np.array([[0,0,0],[0,1,1],[1,0,1],[1,1,0]])\n",
    "\n",
    "#plot the data\n",
    "import matplotlib.pyplot as plt\n",
    "plt.scatter(xor_data[:,0],xor_data[:,1],s=100,c=xor_data[:,2],marker='o',cmap=plt.cm.RdYlGn);\n",
    "\n",
    "# set axis labels\n",
    "plt.xlabel('x1')\n",
    "plt.ylabel('x2')\n",
    "plt.title('XOR data')\n",
    "plt.show()\n"
   ]
  },
  {
   "cell_type": "code",
   "execution_count": 27,
   "metadata": {},
   "outputs": [
    {
     "data": {
      "text/html": [
       "<div>\n",
       "<style scoped>\n",
       "    .dataframe tbody tr th:only-of-type {\n",
       "        vertical-align: middle;\n",
       "    }\n",
       "\n",
       "    .dataframe tbody tr th {\n",
       "        vertical-align: top;\n",
       "    }\n",
       "\n",
       "    .dataframe thead th {\n",
       "        text-align: right;\n",
       "    }\n",
       "</style>\n",
       "<table border=\"1\" class=\"dataframe\">\n",
       "  <thead>\n",
       "    <tr style=\"text-align: right;\">\n",
       "      <th></th>\n",
       "      <th>x1</th>\n",
       "      <th>x2</th>\n",
       "      <th>y</th>\n",
       "    </tr>\n",
       "  </thead>\n",
       "  <tbody>\n",
       "    <tr>\n",
       "      <th>0</th>\n",
       "      <td>0</td>\n",
       "      <td>0</td>\n",
       "      <td>0</td>\n",
       "    </tr>\n",
       "    <tr>\n",
       "      <th>1</th>\n",
       "      <td>0</td>\n",
       "      <td>1</td>\n",
       "      <td>1</td>\n",
       "    </tr>\n",
       "    <tr>\n",
       "      <th>2</th>\n",
       "      <td>1</td>\n",
       "      <td>0</td>\n",
       "      <td>1</td>\n",
       "    </tr>\n",
       "    <tr>\n",
       "      <th>3</th>\n",
       "      <td>1</td>\n",
       "      <td>1</td>\n",
       "      <td>0</td>\n",
       "    </tr>\n",
       "  </tbody>\n",
       "</table>\n",
       "</div>"
      ],
      "text/plain": [
       "   x1  x2  y\n",
       "0   0   0  0\n",
       "1   0   1  1\n",
       "2   1   0  1\n",
       "3   1   1  0"
      ]
     },
     "execution_count": 27,
     "metadata": {},
     "output_type": "execute_result"
    }
   ],
   "source": [
    "# Print xor data as a pandas dataframe\n",
    "import pandas as pd\n",
    "xor_df = pd.DataFrame(xor_data, columns=['x1','x2','y'])\n",
    "xor_df"
   ]
  },
  {
   "cell_type": "code",
   "execution_count": 14,
   "metadata": {},
   "outputs": [],
   "source": [
    "import numpy as np\n",
    "class PerceptronNonTrainable:\n",
    "    def __init__(self, w, b):\n",
    "        self.w = np.array(w, dtype=np.float64)\n",
    "        self.b = np.float64(b)\n",
    "     \n",
    "    # This is a vectorized operation over a matrix\n",
    "    def predict(self, X):\n",
    "        return np.where(self.net_input(X) >= 0.0, 1, 0)\n",
    "\n",
    "    # This is also a vectorized operation over a matrix\n",
    "    def net_input(self, X):\n",
    "        return np.dot(X, self.w) + self.b    \n",
    "\n",
    "    def __call__(self, X):\n",
    "        return self.predict(X)    "
   ]
  },
  {
   "cell_type": "markdown",
   "metadata": {},
   "source": [
    "### Multi layer perceptron network architecture\n",
    "![Image that shows the network architecture](img/xor_mlp.png \"XOR network architecture\")\n",
    "<style type=\"text/css\">\n",
    "    img {\n",
    "        width: 450px;\n",
    "    }\n",
    "</style>"
   ]
  },
  {
   "cell_type": "code",
   "execution_count": 24,
   "metadata": {},
   "outputs": [],
   "source": [
    "or_perceptron =  PerceptronNonTrainable([1,1], -0.5)\n",
    "and_perceptron = PerceptronNonTrainable([1,1], -1.5)\n",
    "out_perceptron = PerceptronNonTrainable([1,-1],-0.5)\n",
    "\n",
    "def xor_multilayer_perceptron(X):\n",
    "    layer0_out = np.column_stack((or_perceptron(X),and_perceptron(X)))\n",
    "    return out_perceptron(layer0_out)\n",
    "    "
   ]
  },
  {
   "cell_type": "markdown",
   "metadata": {},
   "source": [
    "#### Verifying the correctness of the XOR multilayer perceptron"
   ]
  },
  {
   "cell_type": "code",
   "execution_count": 26,
   "metadata": {},
   "outputs": [
    {
     "data": {
      "text/plain": [
       "array([ True,  True,  True,  True])"
      ]
     },
     "execution_count": 26,
     "metadata": {},
     "output_type": "execute_result"
    }
   ],
   "source": [
    "xor_multilayer_perceptron(xor_data[:,0:2]) == xor_data[:,2]"
   ]
  },
  {
   "cell_type": "markdown",
   "metadata": {},
   "source": []
  }
 ],
 "metadata": {
  "interpreter": {
   "hash": "b4e6c295b459431caa330f9b2ad7df343e665122997d339ca57c2ec79a6733df"
  },
  "kernelspec": {
   "display_name": "Python 3 (ipykernel)",
   "language": "python",
   "name": "python3"
  },
  "language_info": {
   "codemirror_mode": {
    "name": "ipython",
    "version": 3
   },
   "file_extension": ".py",
   "mimetype": "text/x-python",
   "name": "python",
   "nbconvert_exporter": "python",
   "pygments_lexer": "ipython3",
   "version": "3.9.12"
  }
 },
 "nbformat": 4,
 "nbformat_minor": 2
}
