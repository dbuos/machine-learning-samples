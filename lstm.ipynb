{
 "cells": [
  {
   "cell_type": "markdown",
   "metadata": {
    "collapsed": false
   },
   "source": [
    "#### LSTM Cell implementation"
   ]
  },
  {
   "cell_type": "code",
   "execution_count": 55,
   "metadata": {
    "collapsed": false
   },
   "outputs": [],
   "source": [
    "import torch\n",
    "from torch import nn\n",
    "\n",
    "def make_gate(features, num_units=1, bias=True):\n",
    "    unit = nn.Sequential(\n",
    "        nn.Linear(in_features=features, out_features=num_units, bias=bias),\n",
    "        nn.Sigmoid())\n",
    "    return unit\n",
    "\n",
    "class LSTMCell(nn.Module):\n",
    "    def __init__(self, input_features, layer_size):\n",
    "        super().__init__()\n",
    "        self.total_inputs = input_features + layer_size\n",
    "\n",
    "        self.forget_gate = make_gate(self.total_inputs)\n",
    "        self.remember_gate = make_gate(self.total_inputs)\n",
    "        self.output_gate = make_gate(self.total_inputs)\n",
    "        self.output_activation = nn.Tanh()\n",
    "\n",
    "        self.input_unit = nn.Sequential(\n",
    "            nn.Linear(in_features=self.total_inputs, out_features=1),\n",
    "            nn.ReLU()\n",
    "        )\n",
    "\n",
    "        self.state = torch.zeros(1)\n",
    "\n",
    "    def set_batch_size(self, size):\n",
    "        self.state = torch.zeros((size, 1))\n",
    "\n",
    "    def forward(self, x):\n",
    "        input_act = self.input_unit(x)\n",
    "        remember_act = self.remember_gate(x)\n",
    "        forget_act = self.forget_gate(x)\n",
    "        output_gate_act = self.output_gate(x)\n",
    "\n",
    "        self.state = (self.state * forget_act) + (input_act * remember_act)\n",
    "        return self.output_activation(self.state) * output_gate_act\n",
    "\n",
    "\n",
    "class LSTMLayer(nn.Module):\n",
    "    def __init__(self, input_features, layer_size):\n",
    "        super().__init__()\n",
    "        self.layer_size = layer_size\n",
    "        self.input_features = input_features\n",
    "        self.cells = nn.ModuleList([LSTMCell(input_features, layer_size) for _ in range(layer_size)])\n",
    "\n",
    "    def forward(self, x_batch):\n",
    "        batch_size = x_batch.shape[1]\n",
    "        for cell in self.cells:\n",
    "            cell.set_batch_size(batch_size)\n",
    "        last_h = torch.zeros((batch_size, self.layer_size))\n",
    "        for time_step in x_batch:\n",
    "            cell_input = torch.cat([time_step, last_h], dim=1)\n",
    "            last_h = [cell(cell_input) for cell in self.cells]\n",
    "            last_h = torch.cat(last_h, dim=1)\n",
    "        return last_h\n",
    "\n",
    "\n",
    "lstm = LSTMLayer(input_features=3, layer_size=4)\n",
    "\n"
   ]
  },
  {
   "cell_type": "code",
   "execution_count": 59,
   "outputs": [],
   "source": [
    "import torch\n",
    "from torch import nn\n",
    "\n",
    "def make_gate(features, num_units=1, bias=True):\n",
    "    unit = nn.Sequential(\n",
    "        nn.Linear(in_features=features, out_features=num_units, bias=bias),\n",
    "        nn.Sigmoid())\n",
    "    return unit\n",
    "\n",
    "class LSTMLayerMatrix(nn.Module):\n",
    "    def __init__(self, in_features, num_hidden, batch_size):\n",
    "        super().__init__()\n",
    "        self.total_inputs = in_features + num_hidden\n",
    "        self.num_hidden = num_hidden\n",
    "        self.forget_gate = make_gate(self.total_inputs, num_units=num_hidden)\n",
    "        self.remember_gate = make_gate(self.total_inputs, num_units=num_hidden)\n",
    "        self.output_gate = make_gate(self.total_inputs, num_units=num_hidden)\n",
    "        self.output_activation = nn.Tanh()\n",
    "        self.input_unit = nn.Linear(in_features=self.total_inputs, out_features=num_hidden)\n",
    "        self.state = torch.zeros((batch_size, num_hidden))\n",
    "\n",
    "    def forward(self, x_batch):\n",
    "        batch_size = x_batch.shape[1]\n",
    "        last_h = torch.zeros((batch_size, self.num_hidden), device=x_batch.device)\n",
    "        for time_step in x_batch:\n",
    "            cell_input = torch.cat([time_step, last_h], dim=1)\n",
    "\n",
    "            forget = self.forget_gate(cell_input)\n",
    "            remember = self.remember_gate(cell_input)\n",
    "            should_output = self.output_gate(cell_input)\n",
    "\n",
    "            input_activation = torch.tanh(self.input_unit(cell_input))\n",
    "            self.state = (forget * self.state) + (remember * input_activation)\n",
    "            last_h = should_output * torch.tanh(self.state)\n",
    "        return last_h\n"
   ],
   "metadata": {
    "collapsed": false
   }
  },
  {
   "cell_type": "code",
   "execution_count": 60,
   "metadata": {
    "collapsed": false
   },
   "outputs": [
    {
     "data": {
      "text/plain": "torch.Size([16, 5])"
     },
     "execution_count": 60,
     "metadata": {},
     "output_type": "execute_result"
    }
   ],
   "source": [
    "seq = 23\n",
    "batch0 = 16\n",
    "num_feat = 3\n",
    "\n",
    "mini_batch = torch.rand(size=(seq, batch0, num_feat))\n",
    "\n",
    "lstm = LSTMLayerMatrix(in_features=3, num_hidden=5, batch_size=batch0)\n",
    "\n",
    "lstm(mini_batch).shape"
   ]
  },
  {
   "cell_type": "code",
   "execution_count": 57,
   "outputs": [
    {
     "data": {
      "text/plain": "torch.Size([16, 5])"
     },
     "execution_count": 57,
     "metadata": {},
     "output_type": "execute_result"
    }
   ],
   "source": [
    "lstm2 = LSTMLayer(input_features=3, layer_size=5)\n",
    "lstm2(mini_batch).shape"
   ],
   "metadata": {
    "collapsed": false
   }
  }
 ],
 "metadata": {
  "kernelspec": {
   "display_name": "torch_1.13",
   "language": "python",
   "name": "python3"
  },
  "language_info": {
   "codemirror_mode": {
    "name": "ipython",
    "version": 2
   },
   "file_extension": ".py",
   "mimetype": "text/x-python",
   "name": "python",
   "nbconvert_exporter": "python",
   "pygments_lexer": "ipython2",
   "version": "3.9.13 | packaged by conda-forge | (main, May 27 2022, 16:58:50) \n[GCC 10.3.0]"
  },
  "vscode": {
   "interpreter": {
    "hash": "e36ad36b4333c4784ff83102b792e06f84ced839eab6a45eaa744acd129fd3d5"
   }
  }
 },
 "nbformat": 4,
 "nbformat_minor": 0
}
