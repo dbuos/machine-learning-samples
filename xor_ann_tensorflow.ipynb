{
 "cells": [
  {
   "cell_type": "markdown",
   "metadata": {},
   "source": [
    "#### Manual XOR multilayer perceptron with tensorflow"
   ]
  },
  {
   "cell_type": "code",
   "execution_count": 184,
   "metadata": {},
   "outputs": [],
   "source": [
    "from tensorflow.python.keras.layers import Dense\n",
    "import tensorflow as tf\n",
    "import numpy as np\n",
    "\n",
    "\n",
    "def perceptron_step(array):\n",
    "    return tf.stack([tf.map_fn(lambda x: tf.cond(x, lambda: tf.constant(1), lambda: tf.constant(0)),  elems=data, dtype=tf.int32) for data in tf.greater(array, 0)]) \n",
    "\n",
    "def MyDense(units, weights, bias):\n",
    "    layer = Dense(units=units, activation=perceptron_step)\n",
    "    layer.build(input_shape=(None, 2))\n",
    "    layer.weights[0].assign(weights)\n",
    "    layer.weights[1].assign(bias)\n",
    "    return layer\n",
    "\n",
    "\n",
    "l1 = MyDense(units=2, weights=tf.ones([2,2]), bias=[-0.5, -1.5])\n",
    "l2 = MyDense(units=1, weights=[[1], [-1]], bias=[-0.5])\n",
    "model = lambda x: l2(l1(x))\n"
   ]
  },
  {
   "cell_type": "code",
   "execution_count": 185,
   "metadata": {},
   "outputs": [
    {
     "data": {
      "text/plain": [
       "array([ True,  True,  True,  True])"
      ]
     },
     "execution_count": 185,
     "metadata": {},
     "output_type": "execute_result"
    }
   ],
   "source": [
    "xor_data = np.array([[0,0,0],[0,1,1],[1,0,1],[1,1,0]])\n",
    "array = tf.constant(xor_data[:,0:2])\n",
    "\n",
    "model(array).numpy().reshape(4) == xor_data[:,2]"
   ]
  }
 ],
 "metadata": {
  "interpreter": {
   "hash": "e59ff86dce3714aa0d0c71f543aecd9b7096cd664016d34b8737f15c60e07c9a"
  },
  "kernelspec": {
   "display_name": "Python 3.9.12 ('tensor_2.9')",
   "language": "python",
   "name": "python3"
  },
  "language_info": {
   "codemirror_mode": {
    "name": "ipython",
    "version": 3
   },
   "file_extension": ".py",
   "mimetype": "text/x-python",
   "name": "python",
   "nbconvert_exporter": "python",
   "pygments_lexer": "ipython3",
   "version": "3.9.12"
  },
  "orig_nbformat": 4
 },
 "nbformat": 4,
 "nbformat_minor": 2
}
