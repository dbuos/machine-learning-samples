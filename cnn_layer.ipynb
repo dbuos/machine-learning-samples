{
 "cells": [
  {
   "cell_type": "markdown",
   "metadata": {},
   "source": [
    "#### CNN Layer \n",
    "Understanding the convolutional layer in a CNN"
   ]
  },
  {
   "cell_type": "code",
   "execution_count": 1,
   "metadata": {},
   "outputs": [],
   "source": [
    "import torch.nn as nn\n",
    "import torch\n",
    "import torch.nn.functional as F\n",
    "\n",
    "layer1 = nn.Conv2d(in_channels=3, out_channels=4, kernel_size=3, stride=1, padding='same')\n",
    "\n",
    "input = torch.randn(1, 3, 5, 5)"
   ]
  },
  {
   "cell_type": "code",
   "execution_count": 2,
   "metadata": {},
   "outputs": [
    {
     "data": {
      "text/plain": [
       "tensor([[[[ 0.5198,  0.1429, -0.0141, -0.3279, -0.0541],\n",
       "          [-0.2536,  0.4010, -0.8396,  0.0487, -0.4705],\n",
       "          [-0.4367, -0.8030, -0.1838, -0.3836, -0.9445],\n",
       "          [ 0.1142, -0.1677, -0.6963, -0.4586, -0.0656],\n",
       "          [-0.1072, -0.7873, -0.1979,  0.0522,  0.0820]],\n",
       "\n",
       "         [[-0.3730, -0.0812,  0.5694,  0.7695, -0.1864],\n",
       "          [ 0.4876,  0.4701, -0.6275,  0.0762, -0.2093],\n",
       "          [ 0.6033, -0.6193, -0.1434,  0.1633, -0.1859],\n",
       "          [-0.0080,  0.6860,  0.4340,  0.3304, -0.0126],\n",
       "          [-0.2819, -0.2736, -0.1217, -0.0167, -0.0765]],\n",
       "\n",
       "         [[-0.0367,  0.2802,  0.4997, -0.1899, -0.0179],\n",
       "          [ 0.0780,  0.1566, -0.0796,  0.8090, -0.1289],\n",
       "          [ 1.1843,  0.6156,  0.7732,  0.6234, -0.0876],\n",
       "          [ 0.9777, -0.1992,  0.1030,  0.2468,  0.3724],\n",
       "          [ 0.2901,  0.0594,  0.4655,  0.7928,  0.1176]],\n",
       "\n",
       "         [[-1.1744, -0.6044, -0.3010, -0.4328,  0.1787],\n",
       "          [ 0.7341,  0.0744,  0.1748,  1.4352, -0.3243],\n",
       "          [-0.4651, -0.0521,  0.3232, -1.1949, -0.0292],\n",
       "          [-0.2492, -0.6270,  0.3334,  0.2321, -0.4718],\n",
       "          [-0.6640, -0.0831, -0.3239, -0.2463, -0.2767]]]],\n",
       "       grad_fn=<ConvolutionBackward0>)"
      ]
     },
     "execution_count": 2,
     "metadata": {},
     "output_type": "execute_result"
    }
   ],
   "source": [
    "layer1(input)"
   ]
  },
  {
   "cell_type": "code",
   "execution_count": 18,
   "metadata": {},
   "outputs": [
    {
     "data": {
      "text/plain": [
       "True"
      ]
     },
     "execution_count": 18,
     "metadata": {},
     "output_type": "execute_result"
    }
   ],
   "source": [
    "torch.allclose(layer1.forward(input), layer1(input))"
   ]
  },
  {
   "cell_type": "code",
   "execution_count": 19,
   "metadata": {},
   "outputs": [
    {
     "data": {
      "text/plain": [
       "'zeros'"
      ]
     },
     "execution_count": 19,
     "metadata": {},
     "output_type": "execute_result"
    }
   ],
   "source": [
    "layer1.padding_mode\n"
   ]
  }
 ],
 "metadata": {
  "kernelspec": {
   "display_name": "Python 3.9.13 ('torch_1.13')",
   "language": "python",
   "name": "python3"
  },
  "language_info": {
   "codemirror_mode": {
    "name": "ipython",
    "version": 3
   },
   "file_extension": ".py",
   "mimetype": "text/x-python",
   "name": "python",
   "nbconvert_exporter": "python",
   "pygments_lexer": "ipython3",
   "version": "3.9.13"
  },
  "orig_nbformat": 4,
  "vscode": {
   "interpreter": {
    "hash": "e36ad36b4333c4784ff83102b792e06f84ced839eab6a45eaa744acd129fd3d5"
   }
  }
 },
 "nbformat": 4,
 "nbformat_minor": 2
}
