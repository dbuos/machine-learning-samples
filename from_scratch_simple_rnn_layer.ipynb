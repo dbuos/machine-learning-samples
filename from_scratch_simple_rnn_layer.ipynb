{
 "cells": [
  {
   "cell_type": "markdown",
   "metadata": {},
   "source": [
    "#### From scratch simple Rnn layer equivaleent to pytorch's Rnn layer\n"
   ]
  },
  {
   "cell_type": "code",
   "execution_count": 1,
   "metadata": {},
   "outputs": [],
   "source": [
    "\n",
    "from torch.nn import Module\n",
    "from torch import nn\n",
    "import torch.nn.functional as F\n",
    "import math\n",
    "import torch\n",
    "from torch import nn\n",
    "\n",
    "class MyRNN(nn.Module):\n",
    "    def __init__(self, input_size, hidden_size):\n",
    "        super().__init__()\n",
    "        self.Wih = torch.nn.Parameter(torch.empty(hidden_size, input_size))\n",
    "        self.Whh = torch.nn.Parameter(torch.empty(hidden_size, hidden_size))\n",
    "        self.outs = []\n",
    "        self.bias_ih = nn.Parameter(torch.zeros(input_size))\n",
    "        self.bias_hh = nn.Parameter(torch.zeros(hidden_size))\n",
    "        \n",
    "        nn.init.kaiming_uniform_(self.Wih, a=math.sqrt(5))\n",
    "        nn.init.kaiming_uniform_(self.Whh, a=math.sqrt(5))\n",
    "\n",
    "        self.activation = nn.Tanh()\n",
    "\n",
    "    def forward(self, sequence):\n",
    "        self.outs = []\n",
    "        sequences_num = sequence.size(0)\n",
    "\n",
    "        for i in range(sequences_num):\n",
    "           hx = F.linear(sequence[i], self.Wih, self.bias_ih)\n",
    "           hh = F.linear(self.outs[-1] if i > 0 else torch.zeros(hx.size()), self.Whh, self.bias_hh)\n",
    "           h = self.activation(hx + hh)\n",
    "           self.outs.append(h) \n",
    "        outs = torch.stack(self.outs)\n",
    "        return outs, self.outs[-1]"
   ]
  },
  {
   "cell_type": "code",
   "execution_count": 2,
   "metadata": {},
   "outputs": [],
   "source": [
    "features_size = 16\n",
    "hidden_size = 7\n",
    "rnn = MyRNN(input_size=features_size, hidden_size=hidden_size)\n",
    "\n",
    "torch_rnn = nn.RNN(input_size=features_size, hidden_size=hidden_size)\n",
    "\n",
    "rnn.Wih = torch_rnn.weight_ih_l0\n",
    "rnn.Whh = torch_rnn.weight_hh_l0\n",
    "rnn.bias_ih = torch_rnn.bias_ih_l0\n",
    "rnn.bias_hh = torch_rnn.bias_hh_l0"
   ]
  },
  {
   "cell_type": "code",
   "execution_count": 3,
   "metadata": {},
   "outputs": [
    {
     "data": {
      "text/plain": [
       "(True, True)"
      ]
     },
     "execution_count": 3,
     "metadata": {},
     "output_type": "execute_result"
    }
   ],
   "source": [
    "sequence = torch.randn(3, features_size)\n",
    "a_out, a_last = rnn(sequence)\n",
    "b_out, b_last = torch_rnn(sequence)\n",
    "\n",
    "torch.allclose(a_out, b_out), torch.allclose(a_last, b_last)"
   ]
  }
 ],
 "metadata": {
  "kernelspec": {
   "display_name": "Python 3.9.13 ('pytorch')",
   "language": "python",
   "name": "python3"
  },
  "language_info": {
   "codemirror_mode": {
    "name": "ipython",
    "version": 3
   },
   "file_extension": ".py",
   "mimetype": "text/x-python",
   "name": "python",
   "nbconvert_exporter": "python",
   "pygments_lexer": "ipython3",
   "version": "3.9.13"
  },
  "orig_nbformat": 4,
  "vscode": {
   "interpreter": {
    "hash": "6cdbf094c3e2d11b30478a1f6f10290d4ee78e6b46f57992373b88ecd109df83"
   }
  }
 },
 "nbformat": 4,
 "nbformat_minor": 2
}
