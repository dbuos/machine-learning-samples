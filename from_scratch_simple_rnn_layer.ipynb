{
 "cells": [
  {
   "cell_type": "markdown",
   "metadata": {},
   "source": [
    "#### From scratch simple Rnn layer equivaleent to pytorch's Rnn layer\n"
   ]
  },
  {
   "cell_type": "code",
   "execution_count": 1,
   "metadata": {},
   "outputs": [
    {
     "ename": "SyntaxError",
     "evalue": "invalid syntax (rnn.py, line 449)",
     "output_type": "error",
     "traceback": [
      "Traceback \u001b[0;36m(most recent call last)\u001b[0m:\n",
      "  File \u001b[1;32m~/mambaforge/envs/pytorch/lib/python3.9/site-packages/IPython/core/interactiveshell.py:3398\u001b[0m in \u001b[1;35mrun_code\u001b[0m\n    exec(code_obj, self.user_global_ns, self.user_ns)\n",
      "  Input \u001b[1;32mIn [1]\u001b[0m in \u001b[1;35m<cell line: 1>\u001b[0m\n    from torch.nn import Module\n",
      "  File \u001b[1;32m~/mambaforge/envs/pytorch/lib/python3.9/site-packages/torch/__init__.py:811\u001b[0m in \u001b[1;35m<module>\u001b[0m\n    from .functional import *  # noqa: F403\n",
      "  File \u001b[1;32m~/mambaforge/envs/pytorch/lib/python3.9/site-packages/torch/functional.py:7\u001b[0m in \u001b[1;35m<module>\u001b[0m\n    import torch.nn.functional as F\n",
      "  File \u001b[1;32m~/mambaforge/envs/pytorch/lib/python3.9/site-packages/torch/nn/__init__.py:1\u001b[0m in \u001b[1;35m<module>\u001b[0m\n    from .modules import *  # noqa: F403\n",
      "\u001b[0;36m  File \u001b[0;32m~/mambaforge/envs/pytorch/lib/python3.9/site-packages/torch/nn/modules/__init__.py:27\u001b[0;36m in \u001b[0;35m<module>\u001b[0;36m\u001b[0m\n\u001b[0;31m    from .rnn import RNNBase, RNN, LSTM, GRU, \\\u001b[0m\n",
      "\u001b[0;36m  File \u001b[0;32m~/mambaforge/envs/pytorch/lib/python3.9/site-packages/torch/nn/modules/rnn.py:449\u001b[0;36m\u001b[0m\n\u001b[0;31m    if\u001b[0m\n\u001b[0m       ^\u001b[0m\n\u001b[0;31mSyntaxError\u001b[0m\u001b[0;31m:\u001b[0m invalid syntax\n"
     ]
    }
   ],
   "source": [
    "\n",
    "from torch.nn import Module\n",
    "from torch import nn\n",
    "import torch.nn.functional as F\n",
    "import math\n",
    "import torch\n",
    "from torch import nn\n",
    "\n",
    "class MyRNN(nn.Module):\n",
    "    def __init__(self, input_size, hidden_size):\n",
    "        super().__init__()\n",
    "        self.Wih = torch.nn.Parameter(torch.empty(hidden_size, input_size))\n",
    "        self.Whh = torch.nn.Parameter(torch.empty(hidden_size, hidden_size))\n",
    "        self.outs = []\n",
    "        self.bias_ih = nn.Parameter(torch.zeros(input_size))\n",
    "        self.bias_hh = nn.Parameter(torch.zeros(hidden_size))\n",
    "        \n",
    "        nn.init.kaiming_uniform_(self.Wih, a=math.sqrt(5))\n",
    "        nn.init.kaiming_uniform_(self.Whh, a=math.sqrt(5))\n",
    "\n",
    "        self.activation = nn.Tanh()\n",
    "\n",
    "    def forward(self, sequence):\n",
    "        self.outs = []\n",
    "        sequences_num = sequence.size(0)\n",
    "\n",
    "        for i in range(sequences_num):\n",
    "           hx = F.linear(sequence[i], self.Wih, self.bias_ih)\n",
    "           hh = F.linear(self.outs[-1] if i > 0 else torch.zeros(hx.size()), self.Whh, self.bias_hh)\n",
    "           h = self.activation(hx + hh)\n",
    "           self.outs.append(h) \n",
    "        outs = torch.stack(self.outs)\n",
    "        return outs, self.outs[-1]"
   ]
  },
  {
   "cell_type": "code",
   "execution_count": null,
   "metadata": {},
   "outputs": [],
   "source": []
  }
 ],
 "metadata": {
  "kernelspec": {
   "display_name": "Python 3.9.13 ('pytorch')",
   "language": "python",
   "name": "python3"
  },
  "language_info": {
   "codemirror_mode": {
    "name": "ipython",
    "version": 3
   },
   "file_extension": ".py",
   "mimetype": "text/x-python",
   "name": "python",
   "nbconvert_exporter": "python",
   "pygments_lexer": "ipython3",
   "version": "3.9.13"
  },
  "orig_nbformat": 4,
  "vscode": {
   "interpreter": {
    "hash": "6cdbf094c3e2d11b30478a1f6f10290d4ee78e6b46f57992373b88ecd109df83"
   }
  }
 },
 "nbformat": 4,
 "nbformat_minor": 2
}
