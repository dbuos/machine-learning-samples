{
 "cells": [
  {
   "cell_type": "markdown",
   "metadata": {},
   "source": [
    "### Perceptron Algorithm for Binary Classification\n",
    "\n",
    "We will create a Perceptron class, which will be used to train a model for binary classification.\n",
    "\n",
    "Perceptron Class will have a fit method to train the model. A constructor to initialize the hyperparameters (learning_rate, epochs, and random_seed).\n",
    "\n",
    "In the fit method, we will create a weight vector (With the input dimensions) and bias, and train the model for the number of epochs.\n",
    "\n",
    "We'll also define a predict method to make predictions on new data.\n"
   ]
  },
  {
   "cell_type": "code",
   "execution_count": 143,
   "metadata": {},
   "outputs": [],
   "source": [
    "import numpy as np\n",
    "from numpy.random import RandomState\n",
    "\n",
    "class Perceptron:\n",
    "    def __init__(self, learning_rate=0.01, random_state=1):\n",
    "        self.learning_rate = learning_rate\n",
    "        self.w = None\n",
    "        self.b = None\n",
    "        self.rgen = RandomState(random_state)\n",
    "        self.errors = []\n",
    "\n",
    "    def fit(self, X, y, n_iters=100):\n",
    "        if self.w is None:\n",
    "            self.w = self.rgen.normal(loc=0.0, scale=0.01, size=X.shape[1]) \n",
    "            self.b = self.rgen.rand(1)[0]\n",
    "        error = 0\n",
    "        for _ in range(n_iters):\n",
    "            for xi, target in zip(X, y):\n",
    "                update = self.learning_rate * (target - self.predict(xi))\n",
    "                self.w += update * xi\n",
    "                self.b += update\n",
    "                error += int(update != 0.0)\n",
    "        self.errors.append(error)        \n",
    "\n",
    "    # This is a vectorized operation over a matrix\n",
    "    def predict(self, X):\n",
    "        return np.where(self.net_input(X) >= 0.0, 1, 0)\n",
    "\n",
    "    # This is also a vectorized operation over a matrix\n",
    "    def net_input(self, X):\n",
    "        return np.dot(X, self.w) + self.b    "
   ]
  },
  {
   "cell_type": "code",
   "execution_count": 50,
   "metadata": {},
   "outputs": [],
   "source": [
    "from sklearn.datasets import load_iris\n",
    "iris = load_iris(as_frame=True)\n",
    "data = iris.data\n",
    "data['target'] = iris.target\n",
    "#filter out the setosa\n",
    "data = data[data['target'] != 2]"
   ]
  },
  {
   "cell_type": "markdown",
   "metadata": {},
   "source": [
    "#### Verify that the data is linearly separable"
   ]
  },
  {
   "cell_type": "code",
   "execution_count": 118,
   "metadata": {},
   "outputs": [
    {
     "data": {
      "image/png": "[encoded data removed]",
      "text/plain": [
       "<Figure size 432x288 with 1 Axes>"
      ]
     },
     "metadata": {
      "needs_background": "light"
     },
     "output_type": "display_data"
    }
   ],
   "source": [
    "#plot sepal length and petal length with target\n",
    "import matplotlib.pyplot as plt\n",
    "plt.scatter(data['sepal length (cm)'], data['petal length (cm)'], c=data['target']);"
   ]
  },
  {
   "cell_type": "code",
   "execution_count": 119,
   "metadata": {},
   "outputs": [],
   "source": [
    "clean_data = data"
   ]
  },
  {
   "cell_type": "code",
   "execution_count": 120,
   "metadata": {},
   "outputs": [],
   "source": [
    "# Split data into training and test sets\n",
    "from sklearn.model_selection import train_test_split\n",
    "X_train, X_test, y_train, y_test = train_test_split(clean_data.drop('target', axis=1), clean_data['target'], test_size=0.3, random_state=1)"
   ]
  },
  {
   "cell_type": "code",
   "execution_count": 121,
   "metadata": {},
   "outputs": [
    {
     "data": {
      "image/png": "[encoded data removed]",
      "text/plain": [
       "<Figure size 432x288 with 1 Axes>"
      ]
     },
     "metadata": {
      "needs_background": "light"
     },
     "output_type": "display_data"
    }
   ],
   "source": [
    "#Plot the training data\n",
    "plt.scatter(X_train['sepal length (cm)'], X_train['petal length (cm)'], c=y_train);"
   ]
  },
  {
   "cell_type": "markdown",
   "metadata": {},
   "source": [
    "#### Train the Perceptron"
   ]
  },
  {
   "cell_type": "code",
   "execution_count": 149,
   "metadata": {},
   "outputs": [
    {
     "data": {
      "text/plain": [
       "[15]"
      ]
     },
     "execution_count": 149,
     "metadata": {},
     "output_type": "execute_result"
    }
   ],
   "source": [
    "perceptron = Perceptron(learning_rate=0.01, random_state=1)\n",
    "perceptron.fit(X_train.to_numpy(), y_train.to_numpy(), 1)\n",
    "perceptron.errors"
   ]
  },
  {
   "cell_type": "code",
   "execution_count": 150,
   "metadata": {},
   "outputs": [
    {
     "data": {
      "text/plain": [
       "[15, 0]"
      ]
     },
     "execution_count": 150,
     "metadata": {},
     "output_type": "execute_result"
    }
   ],
   "source": [
    "perceptron.fit(X_train.to_numpy(), y_train.to_numpy(), 1)\n",
    "perceptron.errors"
   ]
  },
  {
   "cell_type": "markdown",
   "metadata": {},
   "source": [
    "### Evaluate the Perceptron"
   ]
  },
  {
   "cell_type": "code",
   "execution_count": 151,
   "metadata": {},
   "outputs": [
    {
     "name": "stdout",
     "output_type": "stream",
     "text": [
      "              precision    recall  f1-score   support\n",
      "\n",
      "  versicolor       1.00      1.00      1.00        14\n",
      "   virginica       1.00      1.00      1.00        16\n",
      "\n",
      "    accuracy                           1.00        30\n",
      "   macro avg       1.00      1.00      1.00        30\n",
      "weighted avg       1.00      1.00      1.00        30\n",
      "\n"
     ]
    }
   ],
   "source": [
    "from sklearn.metrics import classification_report\n",
    "y_pred = perceptron.predict(X_test.to_numpy())\n",
    "print(classification_report(y_test, y_pred, target_names=['versicolor', 'virginica']))"
   ]
  }
 ],
 "metadata": {
  "interpreter": {
   "hash": "b4e6c295b459431caa330f9b2ad7df343e665122997d339ca57c2ec79a6733df"
  },
  "kernelspec": {
   "display_name": "Python 3.9.12 ('mlearn')",
   "language": "python",
   "name": "python3"
  },
  "language_info": {
   "codemirror_mode": {
    "name": "ipython",
    "version": 3
   },
   "file_extension": ".py",
   "mimetype": "text/x-python",
   "name": "python",
   "nbconvert_exporter": "python",
   "pygments_lexer": "ipython3",
   "version": "3.9.12"
  },
  "orig_nbformat": 4
 },
 "nbformat": 4,
 "nbformat_minor": 2
}
