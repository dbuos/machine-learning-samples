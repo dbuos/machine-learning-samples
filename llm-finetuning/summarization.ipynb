{
 "cells": [
  {
   "cell_type": "markdown",
   "metadata": {
    "collapsed": false
   },
   "source": [
    "#### Summarization with LLMs"
   ]
  },
  {
   "cell_type": "code",
   "execution_count": 1,
   "metadata": {
    "collapsed": false,
    "ExecuteTime": {
     "end_time": "2023-07-03T21:31:35.786127757Z",
     "start_time": "2023-07-03T21:31:34.958470939Z"
    }
   },
   "outputs": [],
   "source": [
    "import numpy as np\n",
    "import pandas as pd\n",
    "##Import necessary libraries\n",
    "import torch\n",
    "from datasets import load_dataset\n",
    "from transformers import AutoTokenizer, AutoModelForSeq2SeqLM\n",
    "from transformers import GenerationConfig # To control the parameters of text generation"
   ]
  },
  {
   "cell_type": "code",
   "execution_count": 2,
   "metadata": {
    "collapsed": false,
    "ExecuteTime": {
     "end_time": "2023-07-03T21:31:49.151455453Z",
     "start_time": "2023-07-03T21:31:46.190757271Z"
    }
   },
   "outputs": [
    {
     "name": "stderr",
     "output_type": "stream",
     "text": [
      "Found cached dataset xsum (/home/daniel/.cache/huggingface/datasets/xsum/default/1.2.0/082863bf4754ee058a5b6f6525d0cb2b18eadb62c7b370b095d1364050a52b71)\n"
     ]
    },
    {
     "data": {
      "text/plain": "  0%|          | 0/3 [00:00<?, ?it/s]",
      "application/vnd.jupyter.widget-view+json": {
       "version_major": 2,
       "version_minor": 0,
       "model_id": "d581f6325be44c44a862861ba4906973"
      }
     },
     "metadata": {},
     "output_type": "display_data"
    },
    {
     "name": "stderr",
     "output_type": "stream",
     "text": [
      "Found cached dataset samsum (/home/daniel/.cache/huggingface/datasets/samsum/samsum/0.0.0/f1d7c6b7353e6de335d444e424dc002ef70d1277109031327bc9cc6af5d3d46e)\n"
     ]
    },
    {
     "data": {
      "text/plain": "  0%|          | 0/3 [00:00<?, ?it/s]",
      "application/vnd.jupyter.widget-view+json": {
       "version_major": 2,
       "version_minor": 0,
       "model_id": "e273c91eee4840468add92397d375bb5"
      }
     },
     "metadata": {},
     "output_type": "display_data"
    },
    {
     "name": "stderr",
     "output_type": "stream",
     "text": [
      "Found cached dataset csv (/home/daniel/.cache/huggingface/datasets/knkarthick___csv/knkarthick--dialogsum-c07c4cf4362c223c/0.0.0/eea64c71ca8b46dd3f537ed218fc9bf495d5707789152eb2764f5c78fa66d59d)\n"
     ]
    },
    {
     "data": {
      "text/plain": "  0%|          | 0/3 [00:00<?, ?it/s]",
      "application/vnd.jupyter.widget-view+json": {
       "version_major": 2,
       "version_minor": 0,
       "model_id": "d0f12d13c50c4c10852dd9205318584e"
      }
     },
     "metadata": {},
     "output_type": "display_data"
    }
   ],
   "source": [
    "##Select and use a summarization dataset\n",
    "data_0 = load_dataset(\"xsum\")\n",
    "data_1 = load_dataset(\"samsum\")\n",
    "data_2 = load_dataset(\"knkarthick/dialogsum\")"
   ]
  },
  {
   "cell_type": "markdown",
   "metadata": {
    "collapsed": false
   },
   "source": [
    "#### Explore, preprocess and clean the data"
   ]
  },
  {
   "cell_type": "code",
   "execution_count": 3,
   "metadata": {
    "collapsed": false,
    "ExecuteTime": {
     "end_time": "2023-07-03T21:31:49.212005251Z",
     "start_time": "2023-07-03T21:31:49.154376243Z"
    }
   },
   "outputs": [],
   "source": [
    "def calculate_len(from_column, to_column):\n",
    "    def cal_len(x):\n",
    "        x[\"origin_len\"] = len(x[from_column])\n",
    "        x[\"summary_len\"] = len(x[to_column])\n",
    "        x[\"text\"] = x[from_column]\n",
    "        if x[\"origin_len\"] > 0:\n",
    "            x[\"summary_percentage\"] = x[\"summary_len\"] / x[\"origin_len\"]\n",
    "        else:\n",
    "            x[\"summary_percentage\"] = 2\n",
    "        return x\n",
    "    return cal_len\n"
   ]
  },
  {
   "cell_type": "code",
   "execution_count": 4,
   "metadata": {
    "collapsed": false,
    "ExecuteTime": {
     "end_time": "2023-07-03T21:31:49.309897859Z",
     "start_time": "2023-07-03T21:31:49.197404415Z"
    }
   },
   "outputs": [
    {
     "name": "stderr",
     "output_type": "stream",
     "text": [
      "Loading cached processed dataset at /home/daniel/.cache/huggingface/datasets/xsum/default/1.2.0/082863bf4754ee058a5b6f6525d0cb2b18eadb62c7b370b095d1364050a52b71/cache-d6fa550143def4d2_*_of_00004.arrow\n",
      "Loading cached processed dataset at /home/daniel/.cache/huggingface/datasets/xsum/default/1.2.0/082863bf4754ee058a5b6f6525d0cb2b18eadb62c7b370b095d1364050a52b71/cache-a1555ee2dc62210c_*_of_00004.arrow\n",
      "Loading cached processed dataset at /home/daniel/.cache/huggingface/datasets/xsum/default/1.2.0/082863bf4754ee058a5b6f6525d0cb2b18eadb62c7b370b095d1364050a52b71/cache-d39eed4b90ad9bd1_*_of_00004.arrow\n",
      "Loading cached processed dataset at /home/daniel/.cache/huggingface/datasets/samsum/samsum/0.0.0/f1d7c6b7353e6de335d444e424dc002ef70d1277109031327bc9cc6af5d3d46e/cache-98bb748469ac11d5_*_of_00004.arrow\n",
      "Loading cached processed dataset at /home/daniel/.cache/huggingface/datasets/samsum/samsum/0.0.0/f1d7c6b7353e6de335d444e424dc002ef70d1277109031327bc9cc6af5d3d46e/cache-6213d5f23506be4e_*_of_00004.arrow\n",
      "Loading cached processed dataset at /home/daniel/.cache/huggingface/datasets/samsum/samsum/0.0.0/f1d7c6b7353e6de335d444e424dc002ef70d1277109031327bc9cc6af5d3d46e/cache-43723b3f81266e3a_*_of_00004.arrow\n",
      "Loading cached processed dataset at /home/daniel/.cache/huggingface/datasets/knkarthick___csv/knkarthick--dialogsum-c07c4cf4362c223c/0.0.0/eea64c71ca8b46dd3f537ed218fc9bf495d5707789152eb2764f5c78fa66d59d/cache-94ba4eabdef84b3f_*_of_00004.arrow\n",
      "Loading cached processed dataset at /home/daniel/.cache/huggingface/datasets/knkarthick___csv/knkarthick--dialogsum-c07c4cf4362c223c/0.0.0/eea64c71ca8b46dd3f537ed218fc9bf495d5707789152eb2764f5c78fa66d59d/cache-47c31fb5ef355197_*_of_00004.arrow\n",
      "Loading cached processed dataset at /home/daniel/.cache/huggingface/datasets/knkarthick___csv/knkarthick--dialogsum-c07c4cf4362c223c/0.0.0/eea64c71ca8b46dd3f537ed218fc9bf495d5707789152eb2764f5c78fa66d59d/cache-777b08f91a735ccd_*_of_00004.arrow\n",
      "Loading cached processed dataset at /home/daniel/.cache/huggingface/datasets/xsum/default/1.2.0/082863bf4754ee058a5b6f6525d0cb2b18eadb62c7b370b095d1364050a52b71/cache-16c8876d13b69e5e.arrow\n",
      "Loading cached processed dataset at /home/daniel/.cache/huggingface/datasets/xsum/default/1.2.0/082863bf4754ee058a5b6f6525d0cb2b18eadb62c7b370b095d1364050a52b71/cache-7be87e2e4cdccf9d.arrow\n",
      "Loading cached processed dataset at /home/daniel/.cache/huggingface/datasets/xsum/default/1.2.0/082863bf4754ee058a5b6f6525d0cb2b18eadb62c7b370b095d1364050a52b71/cache-2fd1c4ebb69303f7.arrow\n",
      "Loading cached processed dataset at /home/daniel/.cache/huggingface/datasets/samsum/samsum/0.0.0/f1d7c6b7353e6de335d444e424dc002ef70d1277109031327bc9cc6af5d3d46e/cache-15a0c504f0b0c24d.arrow\n",
      "Loading cached processed dataset at /home/daniel/.cache/huggingface/datasets/samsum/samsum/0.0.0/f1d7c6b7353e6de335d444e424dc002ef70d1277109031327bc9cc6af5d3d46e/cache-81cd519845834d50.arrow\n",
      "Loading cached processed dataset at /home/daniel/.cache/huggingface/datasets/samsum/samsum/0.0.0/f1d7c6b7353e6de335d444e424dc002ef70d1277109031327bc9cc6af5d3d46e/cache-ba30776d51824f6d.arrow\n",
      "Loading cached processed dataset at /home/daniel/.cache/huggingface/datasets/knkarthick___csv/knkarthick--dialogsum-c07c4cf4362c223c/0.0.0/eea64c71ca8b46dd3f537ed218fc9bf495d5707789152eb2764f5c78fa66d59d/cache-4ece08ce587e93b0.arrow\n",
      "Loading cached processed dataset at /home/daniel/.cache/huggingface/datasets/knkarthick___csv/knkarthick--dialogsum-c07c4cf4362c223c/0.0.0/eea64c71ca8b46dd3f537ed218fc9bf495d5707789152eb2764f5c78fa66d59d/cache-bb34bbee4ed8c5ac.arrow\n",
      "Loading cached processed dataset at /home/daniel/.cache/huggingface/datasets/knkarthick___csv/knkarthick--dialogsum-c07c4cf4362c223c/0.0.0/eea64c71ca8b46dd3f537ed218fc9bf495d5707789152eb2764f5c78fa66d59d/cache-acd7bca00d863180.arrow\n"
     ]
    }
   ],
   "source": [
    "ds_0 = data_0.map(calculate_len(\"document\", \"summary\"), num_proc=4, remove_columns=[\"document\", \"id\"])\n",
    "ds_1 = data_1.map(calculate_len(\"dialogue\", \"summary\"), num_proc=4, remove_columns=[\"dialogue\", \"id\"])\n",
    "ds_2 = data_2.map(calculate_len(\"dialogue\", \"summary\"), num_proc=4, remove_columns=[\"dialogue\", \"id\", \"topic\"])\n",
    "\n",
    "ds_0 = ds_0.filter(lambda x: (x[\"summary_percentage\"] < 0.85 and x[\"summary_len\"] > 15))\n",
    "ds_1 = ds_1.filter(lambda x: (x[\"summary_percentage\"] < 0.85 and x[\"summary_len\"] > 15))\n",
    "ds_2 = ds_2.filter(lambda x: (x[\"summary_percentage\"] < 0.85 and x[\"summary_len\"] > 15))"
   ]
  },
  {
   "cell_type": "code",
   "execution_count": 5,
   "metadata": {
    "collapsed": false,
    "ExecuteTime": {
     "end_time": "2023-07-03T21:31:50.328906776Z",
     "start_time": "2023-07-03T21:31:49.293383048Z"
    }
   },
   "outputs": [],
   "source": [
    "pd_0 = ds_0[\"train\"].to_pandas()\n",
    "pd_0[\"dataset\"] = \"xsum\"\n",
    "pd_1 = ds_1[\"train\"].to_pandas()\n",
    "pd_1[\"dataset\"] = \"samsum\"\n",
    "pd_2 = ds_2[\"train\"].to_pandas()\n",
    "pd_2[\"dataset\"] = \"knkarthick/dialogsum\""
   ]
  },
  {
   "cell_type": "code",
   "execution_count": 6,
   "metadata": {
    "collapsed": false,
    "ExecuteTime": {
     "end_time": "2023-07-03T21:31:50.397652194Z",
     "start_time": "2023-07-03T21:31:50.394715470Z"
    }
   },
   "outputs": [],
   "source": [
    "pd_all = pd.concat([pd_0, pd_1, pd_2])"
   ]
  },
  {
   "cell_type": "code",
   "execution_count": 7,
   "metadata": {
    "collapsed": false,
    "ExecuteTime": {
     "end_time": "2023-07-03T21:31:50.585513884Z",
     "start_time": "2023-07-03T21:31:50.408693525Z"
    }
   },
   "outputs": [
    {
     "data": {
      "text/plain": "<Figure size 640x480 with 1 Axes>",
      "image/png": "[encoded data removed]"
     },
     "metadata": {},
     "output_type": "display_data"
    },
    {
     "data": {
      "text/plain": "<Figure size 640x480 with 1 Axes>",
      "image/png": "[encoded data removed]"
     },
     "metadata": {},
     "output_type": "display_data"
    }
   ],
   "source": [
    "import seaborn as sns\n",
    "import matplotlib.pyplot as plt\n",
    "sns.set_theme(style=\"whitegrid\")\n",
    "\n",
    "sns.boxplot(x=\"dataset\", y=\"origin_len\", data=pd_all, showfliers=False)\n",
    "plt.show()\n",
    "sns.boxplot(x=\"dataset\", y=\"summary_len\", data=pd_all, showfliers=False)\n",
    "plt.show()"
   ]
  },
  {
   "cell_type": "code",
   "execution_count": 8,
   "metadata": {
    "collapsed": false,
    "ExecuteTime": {
     "end_time": "2023-07-03T21:31:51.351413036Z",
     "start_time": "2023-07-03T21:31:51.256644234Z"
    }
   },
   "outputs": [
    {
     "data": {
      "text/plain": "<Figure size 640x480 with 1 Axes>",
      "image/png": "[encoded data removed]"
     },
     "metadata": {},
     "output_type": "display_data"
    }
   ],
   "source": [
    "sns.boxplot(x=\"dataset\", y=\"summary_percentage\", data=pd_all, showfliers=False);"
   ]
  },
  {
   "cell_type": "code",
   "execution_count": 9,
   "metadata": {
    "ExecuteTime": {
     "end_time": "2023-07-03T21:31:55.528322142Z",
     "start_time": "2023-07-03T21:31:51.905409381Z"
    }
   },
   "outputs": [],
   "source": [
    "model_checkpoint = \"google/flan-t5-large\"\n",
    "model = AutoModelForSeq2SeqLM.from_pretrained(model_checkpoint)\n",
    "tokenizer = AutoTokenizer.from_pretrained(model_checkpoint, use_fast=True)"
   ]
  },
  {
   "cell_type": "code",
   "execution_count": 10,
   "outputs": [],
   "source": [
    "device = torch.device(\"cuda\" if torch.cuda.is_available() else \"cpu\")\n",
    "model.to(device);"
   ],
   "metadata": {
    "collapsed": false,
    "ExecuteTime": {
     "end_time": "2023-07-03T21:31:56.534482748Z",
     "start_time": "2023-07-03T21:31:55.531205497Z"
    }
   }
  },
  {
   "cell_type": "code",
   "execution_count": 11,
   "metadata": {
    "ExecuteTime": {
     "end_time": "2023-07-03T21:31:58.005989356Z",
     "start_time": "2023-07-03T21:31:56.535650139Z"
    }
   },
   "outputs": [
    {
     "name": "stdout",
     "output_type": "stream",
     "text": [
      "Text:\n",
      "summarize: \n",
      "#Person1#: Hi, Mr. Smith. I'm Doctor Hawkins. Why are you here today?\n",
      "#Person2#: I found it would be a good idea to get a check-up.\n",
      "#Person1#: Yes, well, you haven't had one for 5 years. You should have one every year.\n",
      "#Person2#: I know. I figure as long as there is nothing wrong, why go see the doctor?\n",
      "#Person1#: Well, the best way to avoid serious illnesses is to find out about them early. So try to come at least once a year for your own good.\n",
      "#Person2#: Ok.\n",
      "#Person1#: Let me see here. Your eyes and ears look fine. Take a deep breath, please. Do you smoke, Mr. Smith?\n",
      "#Person2#: Yes.\n",
      "#Person1#: Smoking is the leading cause of lung cancer and heart disease, you know. You really should quit.\n",
      "#Person2#: I've tried hundreds of times, but I just can't seem to kick the habit.\n",
      "#Person1#: Well, we have classes and some medications that might help. I'll give you more information before you leave.\n",
      "#Person2#: Ok, thanks doctor.\n",
      "Generation:\n",
      "Person2 is here for a check-up. He hasn't had one in 5 years. He smokes. He's trying to quit.\n",
      "\n",
      "\n",
      "Text:\n",
      "summarize: \n",
      "#Person1#: Hello Mrs. Parker, how have you been?\n",
      "#Person2#: Hello Dr. Peters. Just fine thank you. Ricky and I are here for his vaccines.\n",
      "#Person1#: Very well. Let's see, according to his vaccination record, Ricky has received his Polio, Tetanus and Hepatitis B shots. He is 14 months old, so he is due for Hepatitis A, Chickenpox and Measles shots.\n",
      "#Person2#: What about Rubella and Mumps?\n",
      "#Person1#: Well, I can only give him these for now, and after a couple of weeks I can administer the rest.\n",
      "#Person2#: OK, great. Doctor, I think I also may need a Tetanus booster. Last time I got it was maybe fifteen years ago!\n",
      "#Person1#: We will check our records and I'll have the nurse administer and the booster as well. Now, please hold Ricky's arm tight, this may sting a little.\n",
      "Generation:\n",
      "Ricky is coming for his vaccinations.\n",
      "\n",
      "\n",
      "Text:\n",
      "summarize: \n",
      "#Person1#: Excuse me, did you see a set of keys?\n",
      "#Person2#: What kind of keys?\n",
      "#Person1#: Five keys and a small foot ornament.\n",
      "#Person2#: What a shame! I didn't see them.\n",
      "#Person1#: Well, can you help me look for it? That's my first time here.\n",
      "#Person2#: Sure. It's my pleasure. I'd like to help you look for the missing keys.\n",
      "#Person1#: It's very kind of you.\n",
      "#Person2#: It's not a big deal.Hey, I found them.\n",
      "#Person1#: Oh, thank God! I don't know how to thank you, guys.\n",
      "#Person2#: You're welcome.\n",
      "Generation:\n",
      "Person2 found five keys and a small ornament missing from Person1's house.\n",
      "\n",
      "\n",
      "Text:\n",
      "summarize: \n",
      "#Person1#: Are you still watching the soap opera, Nancy?\n",
      "#Person2#: Yeah. I can't take my eyes off that when it is on.\n",
      "#Person1#: Is it that appealing?\n",
      "#Person2#: Well, the cast of the opera isn't very strong and the story isn't so impressive, but the main actor's acting is really outstanding, who is handsome, too.\n",
      "#Person1#: Shall we think you need a break right now? There is a football match on channel eight.\n",
      "#Person2#: Oh, stop talking about that stupid match. I really don't understand why certain people are running after one ball.\n",
      "#Person1#: If we can choose program, I'd rather watch the documentary, this kind of soap opera is really boring.\n",
      "#Person2#: Everyone has his own taste. And have you ever heard of the saying, 'One man's meat is another's poison.'\n",
      "#Person1#: But you been in front of TV for almost 5 hours, even at dinner time. I had to say you were the most selfish person I have ever seen.\n",
      "#Person2#: Well, well, watch channel.\n",
      "Generation:\n",
      "Person1 is watching a soap opera. Person2 is watching a football match.\n",
      "\n",
      "\n",
      "Text:\n",
      "summarize: \n",
      "#Person1#: You have the right to remain silent. Anything you say can and will be used against you in a court of law. You have the right to have an attorney present during questioning. If you cannot afford an attorney, one will be appointed for you. Do you understand?\n",
      "#Person2#: Yes.\n",
      "#Person1#: What's your name?\n",
      "#Person2#: My name is James.\n",
      "#Person1#: What's your nationality?\n",
      "#Person2#: American.\n",
      "#Person1#: What's your relationship with the victim?\n",
      "#Person2#: I don't know him.\n",
      "#Person1#: Why did you attack the victim?\n",
      "#Person2#: Because he beat me first when I tried to stop him from grabbing my bag and running away.\n",
      "#Person1#: How many times did you stab the victim?\n",
      "#Person2#: I stabbed his belly three times.\n",
      "#Person1#: Did you know that your actions might cause serous injuries or death?\n",
      "#Person2#: I knew, but I couldn't control myself.\n",
      "#Person1#: Was it your intention to kill the victim?\n",
      "#Person2#: No. I didn't kill him on purpose, madam. It's him who caused the incident. I need to see my attorney.\n",
      "#Person1#: OK. Give me his number and we'll contact him.\n",
      "Generation:\n",
      "James attacked the victim because he beat him first. He stabbed his belly three times. He needs to see his attorney.\n",
      "\n",
      "\n",
      "Text:\n",
      "summarize: \n",
      "#Person1#: Jenny, are you having a good time?\n",
      "#Person2#: Yes, of course. This is a really wonderful party with interesting people and great food.\n",
      "#Person1#: I'm glad you are enjoying yourself.\n",
      "#Person2#: Thank you for the invitation.\n",
      "#Person1#: It's my pleasure. Can I get you another glass of champagne?\n",
      "#Person2#: Yes, I'd love another glass. You're a wonderful host. Thank you for everything.\n",
      "#Person1#: It's my pleasure having you here.\n",
      "Generation:\n",
      "Jenny is having a good time at the party.\n",
      "\n",
      "\n"
     ]
    }
   ],
   "source": [
    "for i in [0,1,2,45,50,60]:\n",
    "    print(\"Text:\")\n",
    "    text = \"summarize: \\n\" + ds_2[\"train\"][i][\"text\"]\n",
    "    inputs = tokenizer(text, return_tensors=\"pt\")\n",
    "    inputs = {k: v.to(device) for k, v in inputs.items()}\n",
    "    generation = model.generate(**inputs, max_new_tokens=50)\n",
    "    gen_text = tokenizer.batch_decode(generation, skip_special_tokens=True)\n",
    "    print(text)\n",
    "    print(\"Generation:\")\n",
    "    print(gen_text[0])\n",
    "    print(\"\\n\")\n"
   ]
  },
  {
   "cell_type": "code",
   "execution_count": 12,
   "metadata": {
    "ExecuteTime": {
     "end_time": "2023-07-03T21:32:00.737670129Z",
     "start_time": "2023-07-03T21:31:58.006822748Z"
    }
   },
   "outputs": [
    {
     "name": "stdout",
     "output_type": "stream",
     "text": [
      "Text:\n",
      "summarize: \n",
      "#Person1#: Hi, Mr. Smith. I'm Doctor Hawkins. Why are you here today?\n",
      "#Person2#: I found it would be a good idea to get a check-up.\n",
      "#Person1#: Yes, well, you haven't had one for 5 years. You should have one every year.\n",
      "#Person2#: I know. I figure as long as there is nothing wrong, why go see the doctor?\n",
      "#Person1#: Well, the best way to avoid serious illnesses is to find out about them early. So try to come at least once a year for your own good.\n",
      "#Person2#: Ok.\n",
      "#Person1#: Let me see here. Your eyes and ears look fine. Take a deep breath, please. Do you smoke, Mr. Smith?\n",
      "#Person2#: Yes.\n",
      "#Person1#: Smoking is the leading cause of lung cancer and heart disease, you know. You really should quit.\n",
      "#Person2#: I've tried hundreds of times, but I just can't seem to kick the habit.\n",
      "#Person1#: Well, we have classes and some medications that might help. I'll give you more information before you leave.\n",
      "#Person2#: Ok, thanks doctor.\n",
      "Generation:\n",
      "Mr. Smith hasn't had a check-up in 5 years. He's going to see the doctor for a check-up. The doctor advises Mr. Smith to quit smoking.\n",
      "\n",
      "Text:\n",
      "summarize: \n",
      "#Person1#: Hello Mrs. Parker, how have you been?\n",
      "#Person2#: Hello Dr. Peters. Just fine thank you. Ricky and I are here for his vaccines.\n",
      "#Person1#: Very well. Let's see, according to his vaccination record, Ricky has received his Polio, Tetanus and Hepatitis B shots. He is 14 months old, so he is due for Hepatitis A, Chickenpox and Measles shots.\n",
      "#Person2#: What about Rubella and Mumps?\n",
      "#Person1#: Well, I can only give him these for now, and after a couple of weeks I can administer the rest.\n",
      "#Person2#: OK, great. Doctor, I think I also may need a Tetanus booster. Last time I got it was maybe fifteen years ago!\n",
      "#Person1#: We will check our records and I'll have the nurse administer and the booster as well. Now, please hold Ricky's arm tight, this may sting a little.\n",
      "Generation:\n",
      "Ricky and Mrs. Parker are here for his vaccinations. Ricky is due for Hepatitis A, Chickenpox and Measles shots. Hepatitis A, Chickenpox and Measles\n",
      "\n",
      "Text:\n",
      "summarize: \n",
      "#Person1#: Excuse me, did you see a set of keys?\n",
      "#Person2#: What kind of keys?\n",
      "#Person1#: Five keys and a small foot ornament.\n",
      "#Person2#: What a shame! I didn't see them.\n",
      "#Person1#: Well, can you help me look for it? That's my first time here.\n",
      "#Person2#: Sure. It's my pleasure. I'd like to help you look for the missing keys.\n",
      "#Person1#: It's very kind of you.\n",
      "#Person2#: It's not a big deal.Hey, I found them.\n",
      "#Person1#: Oh, thank God! I don't know how to thank you, guys.\n",
      "#Person2#: You're welcome.\n",
      "Generation:\n",
      "Person2 found five keys and a small ornament missing from Person1's house.\n",
      "\n",
      "Text:\n",
      "summarize: \n",
      "#Person1#: Are you still watching the soap opera, Nancy?\n",
      "#Person2#: Yeah. I can't take my eyes off that when it is on.\n",
      "#Person1#: Is it that appealing?\n",
      "#Person2#: Well, the cast of the opera isn't very strong and the story isn't so impressive, but the main actor's acting is really outstanding, who is handsome, too.\n",
      "#Person1#: Shall we think you need a break right now? There is a football match on channel eight.\n",
      "#Person2#: Oh, stop talking about that stupid match. I really don't understand why certain people are running after one ball.\n",
      "#Person1#: If we can choose program, I'd rather watch the documentary, this kind of soap opera is really boring.\n",
      "#Person2#: Everyone has his own taste. And have you ever heard of the saying, 'One man's meat is another's poison.'\n",
      "#Person1#: But you been in front of TV for almost 5 hours, even at dinner time. I had to say you were the most selfish person I have ever seen.\n",
      "#Person2#: Well, well, watch channel.\n",
      "Generation:\n",
      "Person2 is watching a soap opera. The main actor's acting isn't so impressive, but the story isn't so interesting. There is a football match on channel eight.\n",
      "\n",
      "Text:\n",
      "summarize: \n",
      "#Person1#: You have the right to remain silent. Anything you say can and will be used against you in a court of law. You have the right to have an attorney present during questioning. If you cannot afford an attorney, one will be appointed for you. Do you understand?\n",
      "#Person2#: Yes.\n",
      "#Person1#: What's your name?\n",
      "#Person2#: My name is James.\n",
      "#Person1#: What's your nationality?\n",
      "#Person2#: American.\n",
      "#Person1#: What's your relationship with the victim?\n",
      "#Person2#: I don't know him.\n",
      "#Person1#: Why did you attack the victim?\n",
      "#Person2#: Because he beat me first when I tried to stop him from grabbing my bag and running away.\n",
      "#Person1#: How many times did you stab the victim?\n",
      "#Person2#: I stabbed his belly three times.\n",
      "#Person1#: Did you know that your actions might cause serous injuries or death?\n",
      "#Person2#: I knew, but I couldn't control myself.\n",
      "#Person1#: Was it your intention to kill the victim?\n",
      "#Person2#: No. I didn't kill him on purpose, madam. It's him who caused the incident. I need to see my attorney.\n",
      "#Person1#: OK. Give me his number and we'll contact him.\n",
      "Generation:\n",
      "James stabbed a man three times in the belly because he beat him. He needs to see an attorney. #Person1 will contact him.\n",
      "\n",
      "Text:\n",
      "summarize: \n",
      "#Person1#: Jenny, are you having a good time?\n",
      "#Person2#: Yes, of course. This is a really wonderful party with interesting people and great food.\n",
      "#Person1#: I'm glad you are enjoying yourself.\n",
      "#Person2#: Thank you for the invitation.\n",
      "#Person1#: It's my pleasure. Can I get you another glass of champagne?\n",
      "#Person2#: Yes, I'd love another glass. You're a wonderful host. Thank you for everything.\n",
      "#Person1#: It's my pleasure having you here.\n",
      "Generation:\n",
      "Jenny is having a good time at the party.\n",
      "\n"
     ]
    }
   ],
   "source": [
    "device = torch.device(\"cuda\" if torch.cuda.is_available() else \"cpu\")\n",
    "for i in [0,1,2,45,50,60]:\n",
    "    print(\"Text:\")\n",
    "    text = \"summarize: \\n\" + ds_2[\"train\"][i][\"text\"]\n",
    "    inputs = tokenizer(text, return_tensors=\"pt\")\n",
    "    inputs = {k: v.to(device) for k, v in inputs.items()}\n",
    "    generation = model.generate(**inputs, max_new_tokens=50, num_beams=5, do_sample=True)\n",
    "    gen_text = tokenizer.batch_decode(generation, skip_special_tokens=True)\n",
    "    print(text)\n",
    "    print(\"Generation:\")\n",
    "    print(gen_text[0])\n",
    "    print()"
   ]
  },
  {
   "cell_type": "code",
   "execution_count": 31,
   "metadata": {},
   "outputs": [
    {
     "data": {
      "text/plain": "['sys -l \"conda enviroment\"']"
     },
     "execution_count": 31,
     "metadata": {},
     "output_type": "execute_result"
    }
   ],
   "source": [
    "text = \"write the shell command to change conda enviroment\"\n",
    "inputs = tokenizer(text, return_tensors=\"pt\")\n",
    "inputs = {k: v.to(device) for k, v in inputs.items()}\n",
    "generation = model.generate(**inputs, max_new_tokens=50)\n",
    "tokenizer.batch_decode(generation, skip_special_tokens=True)"
   ]
  }
 ],
 "metadata": {
  "kernelspec": {
   "display_name": "code2metrics",
   "language": "python",
   "name": "python3"
  },
  "language_info": {
   "codemirror_mode": {
    "name": "ipython",
    "version": 3
   },
   "file_extension": ".py",
   "mimetype": "text/x-python",
   "name": "python",
   "nbconvert_exporter": "python",
   "pygments_lexer": "ipython3",
   "version": "3.10.8"
  },
  "vscode": {
   "interpreter": {
    "hash": "e1e69b0e984c216f4919daa85c71bc60c20715b9864642c2f5eda88c935825bf"
   }
  }
 },
 "nbformat": 4,
 "nbformat_minor": 0
}
